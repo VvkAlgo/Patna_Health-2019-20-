{
 "cells": [
  {
   "cell_type": "markdown",
   "metadata": {},
   "source": [
    "\n",
    "<a href='https://www.linkedin.com/in/vivek-upadhyay-6689b4184/'> <img src='./logo.png' /></a>\n",
    "# Analysing Health Data of Patna (district-wise) (2019-20)"
   ]
  },
  {
   "cell_type": "markdown",
   "metadata": {},
   "source": [
    "### Data taken from various sources (HMIS,data.gov,kaggle..)\n",
    "### Distribution of cases (Rural,Urban)"
   ]
  },
  {
   "cell_type": "code",
   "execution_count": 1,
   "metadata": {},
   "outputs": [],
   "source": [
    "import pandas as pd"
   ]
  },
  {
   "cell_type": "code",
   "execution_count": 63,
   "metadata": {},
   "outputs": [
    {
     "data": {
      "text/html": [
       "        <script type=\"text/javascript\">\n",
       "        window.PlotlyConfig = {MathJaxConfig: 'local'};\n",
       "        if (window.MathJax) {MathJax.Hub.Config({SVG: {font: \"STIX-Web\"}});}\n",
       "        if (typeof require !== 'undefined') {\n",
       "        require.undef(\"plotly\");\n",
       "        requirejs.config({\n",
       "            paths: {\n",
       "                'plotly': ['https://cdn.plot.ly/plotly-latest.min']\n",
       "            }\n",
       "        });\n",
       "        require(['plotly'], function(Plotly) {\n",
       "            window._Plotly = Plotly;\n",
       "        });\n",
       "        }\n",
       "        </script>\n",
       "        "
      ]
     },
     "metadata": {},
     "output_type": "display_data"
    }
   ],
   "source": [
    "import matplotlib.pyplot as plt \n",
    "import seaborn as sns\n",
    "import chart_studio.plotly as py\n",
    "import plotly.graph_objs as go\n",
    "import cufflinks as cf\n",
    "cf.go_offline()"
   ]
  },
  {
   "cell_type": "code",
   "execution_count": 12,
   "metadata": {},
   "outputs": [],
   "source": [
    "df=pd.read_csv(\"HMIS-Bihar-Patna-Apr-2020-21.csv\")"
   ]
  },
  {
   "cell_type": "code",
   "execution_count": 319,
   "metadata": {},
   "outputs": [],
   "source": [
    "df2=pd.read_csv(\"HMIS-Bihar-Patna-Jun-2020-21.csv\")"
   ]
  },
  {
   "cell_type": "code",
   "execution_count": 320,
   "metadata": {},
   "outputs": [],
   "source": [
    "df2=df2.drop(['Financial_Year','District','State_Name','Month'],axis=1)"
   ]
  },
  {
   "cell_type": "code",
   "execution_count": 321,
   "metadata": {},
   "outputs": [],
   "source": [
    "df2=df2.fillna(value=0.0)"
   ]
  },
  {
   "cell_type": "code",
   "execution_count": 322,
   "metadata": {},
   "outputs": [],
   "source": [
    "dff=dff.append(df2)"
   ]
  },
  {
   "cell_type": "code",
   "execution_count": 345,
   "metadata": {},
   "outputs": [],
   "source": [
    "dff=df_fin"
   ]
  },
  {
   "cell_type": "code",
   "execution_count": 347,
   "metadata": {},
   "outputs": [
    {
     "data": {
      "text/html": [
       "<div>\n",
       "<style scoped>\n",
       "    .dataframe tbody tr th:only-of-type {\n",
       "        vertical-align: middle;\n",
       "    }\n",
       "\n",
       "    .dataframe tbody tr th {\n",
       "        vertical-align: top;\n",
       "    }\n",
       "\n",
       "    .dataframe thead th {\n",
       "        text-align: right;\n",
       "    }\n",
       "</style>\n",
       "<table border=\"1\" class=\"dataframe\">\n",
       "  <thead>\n",
       "    <tr style=\"text-align: right;\">\n",
       "      <th></th>\n",
       "      <th>Sub-District</th>\n",
       "      <th>Indicator_Code</th>\n",
       "      <th>Indicator_Name</th>\n",
       "      <th>Code_And_Section</th>\n",
       "      <th>Reported_Value_for_Public_Facility</th>\n",
       "      <th>Reported_Value_for_Private_Facility</th>\n",
       "      <th>Reported_Value_for_Rural</th>\n",
       "      <th>Reported_Value_for_Urban</th>\n",
       "    </tr>\n",
       "  </thead>\n",
       "  <tbody>\n",
       "    <tr>\n",
       "      <td>0</td>\n",
       "      <td>Punpun</td>\n",
       "      <td>5.2</td>\n",
       "      <td>NumberofComplicatedpregnanciestreatedwithBlood...</td>\n",
       "      <td>M5 [Complicated Pregnancies]</td>\n",
       "      <td>0.0</td>\n",
       "      <td>0.0</td>\n",
       "      <td>0.0</td>\n",
       "      <td>0.0</td>\n",
       "    </tr>\n",
       "    <tr>\n",
       "      <td>1</td>\n",
       "      <td>Punpun</td>\n",
       "      <td>8.7</td>\n",
       "      <td>NumberofcomplicationsfollowingIUCDInsertion</td>\n",
       "      <td>M8 [Family Planning]</td>\n",
       "      <td>0.0</td>\n",
       "      <td>0.0</td>\n",
       "      <td>0.0</td>\n",
       "      <td>0.0</td>\n",
       "    </tr>\n",
       "    <tr>\n",
       "      <td>2</td>\n",
       "      <td>Punpun</td>\n",
       "      <td>8.17.3</td>\n",
       "      <td>Failuresfollowingmalesterilization</td>\n",
       "      <td>M8 [Family Planning]</td>\n",
       "      <td>0.0</td>\n",
       "      <td>0.0</td>\n",
       "      <td>0.0</td>\n",
       "      <td>0.0</td>\n",
       "    </tr>\n",
       "    <tr>\n",
       "      <td>3</td>\n",
       "      <td>Punpun</td>\n",
       "      <td>9.4.3</td>\n",
       "      <td>Childimmunisation-DPT1stBooster</td>\n",
       "      <td>M9 [CHILD IMMUNISATION]</td>\n",
       "      <td>270.0</td>\n",
       "      <td>0.0</td>\n",
       "      <td>270.0</td>\n",
       "      <td>0.0</td>\n",
       "    </tr>\n",
       "    <tr>\n",
       "      <td>4</td>\n",
       "      <td>Punpun</td>\n",
       "      <td>11.4.1</td>\n",
       "      <td>TestsConductedforJE</td>\n",
       "      <td>M11 [NVBDCP]</td>\n",
       "      <td>0.0</td>\n",
       "      <td>0.0</td>\n",
       "      <td>0.0</td>\n",
       "      <td>0.0</td>\n",
       "    </tr>\n",
       "    <tr>\n",
       "      <td>...</td>\n",
       "      <td>...</td>\n",
       "      <td>...</td>\n",
       "      <td>...</td>\n",
       "      <td>...</td>\n",
       "      <td>...</td>\n",
       "      <td>...</td>\n",
       "      <td>...</td>\n",
       "      <td>...</td>\n",
       "    </tr>\n",
       "    <tr>\n",
       "      <td>6859</td>\n",
       "      <td>Punpun</td>\n",
       "      <td>13.2</td>\n",
       "      <td>NumberofDOTScasescompletedsuccessfully</td>\n",
       "      <td>M13 [Directly Observed Treatment, Short-course...</td>\n",
       "      <td>0.0</td>\n",
       "      <td>0.0</td>\n",
       "      <td>0.0</td>\n",
       "      <td>0.0</td>\n",
       "    </tr>\n",
       "    <tr>\n",
       "      <td>6860</td>\n",
       "      <td>Punpun</td>\n",
       "      <td>15.3.4.a</td>\n",
       "      <td>NumberofMaleSTIRTIattendeestestedforsyphilis</td>\n",
       "      <td>M15 [Laboratory Testing]</td>\n",
       "      <td>0.0</td>\n",
       "      <td>0.0</td>\n",
       "      <td>0.0</td>\n",
       "      <td>0.0</td>\n",
       "    </tr>\n",
       "    <tr>\n",
       "      <td>6861</td>\n",
       "      <td>Punpun</td>\n",
       "      <td>10.13</td>\n",
       "      <td>Childrenadmittedwithupperrespiratoryinfections</td>\n",
       "      <td>M10 [Number of cases of Childhood Diseases (0-...</td>\n",
       "      <td>0.0</td>\n",
       "      <td>0.0</td>\n",
       "      <td>0.0</td>\n",
       "      <td>0.0</td>\n",
       "    </tr>\n",
       "    <tr>\n",
       "      <td>6862</td>\n",
       "      <td>Sampatchak</td>\n",
       "      <td>10.2</td>\n",
       "      <td>ChildhoodDiseases-Asthma</td>\n",
       "      <td>M10 [Number of cases of Childhood Diseases (0-...</td>\n",
       "      <td>0.0</td>\n",
       "      <td>0.0</td>\n",
       "      <td>0.0</td>\n",
       "      <td>0.0</td>\n",
       "    </tr>\n",
       "    <tr>\n",
       "      <td>6863</td>\n",
       "      <td>Sampatchak</td>\n",
       "      <td>16.4.5</td>\n",
       "      <td>NumberofChildDeaths1-5yearsduetoOthers</td>\n",
       "      <td>M16 [Details of deaths reported with probable ...</td>\n",
       "      <td>0.0</td>\n",
       "      <td>0.0</td>\n",
       "      <td>0.0</td>\n",
       "      <td>0.0</td>\n",
       "    </tr>\n",
       "  </tbody>\n",
       "</table>\n",
       "<p>89232 rows × 8 columns</p>\n",
       "</div>"
      ],
      "text/plain": [
       "     Sub-District Indicator_Code  \\\n",
       "0          Punpun            5.2   \n",
       "1          Punpun            8.7   \n",
       "2          Punpun         8.17.3   \n",
       "3          Punpun          9.4.3   \n",
       "4          Punpun         11.4.1   \n",
       "...           ...            ...   \n",
       "6859       Punpun           13.2   \n",
       "6860       Punpun       15.3.4.a   \n",
       "6861       Punpun          10.13   \n",
       "6862   Sampatchak           10.2   \n",
       "6863   Sampatchak         16.4.5   \n",
       "\n",
       "                                         Indicator_Name  \\\n",
       "0     NumberofComplicatedpregnanciestreatedwithBlood...   \n",
       "1           NumberofcomplicationsfollowingIUCDInsertion   \n",
       "2                    Failuresfollowingmalesterilization   \n",
       "3                       Childimmunisation-DPT1stBooster   \n",
       "4                                   TestsConductedforJE   \n",
       "...                                                 ...   \n",
       "6859             NumberofDOTScasescompletedsuccessfully   \n",
       "6860       NumberofMaleSTIRTIattendeestestedforsyphilis   \n",
       "6861     Childrenadmittedwithupperrespiratoryinfections   \n",
       "6862                           ChildhoodDiseases-Asthma   \n",
       "6863             NumberofChildDeaths1-5yearsduetoOthers   \n",
       "\n",
       "                                       Code_And_Section  \\\n",
       "0                          M5 [Complicated Pregnancies]   \n",
       "1                                  M8 [Family Planning]   \n",
       "2                                  M8 [Family Planning]   \n",
       "3                               M9 [CHILD IMMUNISATION]   \n",
       "4                                          M11 [NVBDCP]   \n",
       "...                                                 ...   \n",
       "6859  M13 [Directly Observed Treatment, Short-course...   \n",
       "6860                           M15 [Laboratory Testing]   \n",
       "6861  M10 [Number of cases of Childhood Diseases (0-...   \n",
       "6862  M10 [Number of cases of Childhood Diseases (0-...   \n",
       "6863  M16 [Details of deaths reported with probable ...   \n",
       "\n",
       "      Reported_Value_for_Public_Facility  Reported_Value_for_Private_Facility  \\\n",
       "0                                    0.0                                  0.0   \n",
       "1                                    0.0                                  0.0   \n",
       "2                                    0.0                                  0.0   \n",
       "3                                  270.0                                  0.0   \n",
       "4                                    0.0                                  0.0   \n",
       "...                                  ...                                  ...   \n",
       "6859                                 0.0                                  0.0   \n",
       "6860                                 0.0                                  0.0   \n",
       "6861                                 0.0                                  0.0   \n",
       "6862                                 0.0                                  0.0   \n",
       "6863                                 0.0                                  0.0   \n",
       "\n",
       "      Reported_Value_for_Rural  Reported_Value_for_Urban  \n",
       "0                          0.0                       0.0  \n",
       "1                          0.0                       0.0  \n",
       "2                          0.0                       0.0  \n",
       "3                        270.0                       0.0  \n",
       "4                          0.0                       0.0  \n",
       "...                        ...                       ...  \n",
       "6859                       0.0                       0.0  \n",
       "6860                       0.0                       0.0  \n",
       "6861                       0.0                       0.0  \n",
       "6862                       0.0                       0.0  \n",
       "6863                       0.0                       0.0  \n",
       "\n",
       "[89232 rows x 8 columns]"
      ]
     },
     "execution_count": 347,
     "metadata": {},
     "output_type": "execute_result"
    }
   ],
   "source": [
    "df_fin"
   ]
  },
  {
   "cell_type": "code",
   "execution_count": null,
   "metadata": {},
   "outputs": [],
   "source": []
  },
  {
   "cell_type": "code",
   "execution_count": 195,
   "metadata": {},
   "outputs": [],
   "source": [
    "df_malaria=dff[dff['Indicator_Name'].str.match('Malaria')]"
   ]
  },
  {
   "cell_type": "code",
   "execution_count": 196,
   "metadata": {},
   "outputs": [
    {
     "data": {
      "text/html": [
       "<div>\n",
       "<style scoped>\n",
       "    .dataframe tbody tr th:only-of-type {\n",
       "        vertical-align: middle;\n",
       "    }\n",
       "\n",
       "    .dataframe tbody tr th {\n",
       "        vertical-align: top;\n",
       "    }\n",
       "\n",
       "    .dataframe thead th {\n",
       "        text-align: right;\n",
       "    }\n",
       "</style>\n",
       "<table border=\"1\" class=\"dataframe\">\n",
       "  <thead>\n",
       "    <tr style=\"text-align: right;\">\n",
       "      <th></th>\n",
       "      <th>Sub-District</th>\n",
       "      <th>Indicator_Code</th>\n",
       "      <th>Indicator_Name</th>\n",
       "      <th>Code_And_Section</th>\n",
       "      <th>Reported_Value_for_Public_Facility</th>\n",
       "      <th>Reported_Value_for_Private_Facility</th>\n",
       "      <th>Reported_Value_for_Rural</th>\n",
       "      <th>Reported_Value_for_Urban</th>\n",
       "    </tr>\n",
       "  </thead>\n",
       "  <tbody>\n",
       "    <tr>\n",
       "      <td>90</td>\n",
       "      <td>Khusarupur</td>\n",
       "      <td>11.1.1.c</td>\n",
       "      <td>Malaria (Microscopy Tests ) - Plasmodium Falci...</td>\n",
       "      <td>M11 [NVBDCP]</td>\n",
       "      <td>0.0</td>\n",
       "      <td>0.0</td>\n",
       "      <td>0.0</td>\n",
       "      <td>0.0</td>\n",
       "    </tr>\n",
       "    <tr>\n",
       "      <td>164</td>\n",
       "      <td>Sampatchak</td>\n",
       "      <td>11.1.2.c</td>\n",
       "      <td>Malaria (RDT) - Plamodium Falciparum test posi...</td>\n",
       "      <td>M11 [NVBDCP]</td>\n",
       "      <td>0.0</td>\n",
       "      <td>0.0</td>\n",
       "      <td>0.0</td>\n",
       "      <td>0.0</td>\n",
       "    </tr>\n",
       "    <tr>\n",
       "      <td>218</td>\n",
       "      <td>Masaurhi</td>\n",
       "      <td>11.1.1.b</td>\n",
       "      <td>Malaria (Microscopy Tests ) - Plasmodium Vivax...</td>\n",
       "      <td>M11 [NVBDCP]</td>\n",
       "      <td>0.0</td>\n",
       "      <td>0.0</td>\n",
       "      <td>0.0</td>\n",
       "      <td>0.0</td>\n",
       "    </tr>\n",
       "    <tr>\n",
       "      <td>235</td>\n",
       "      <td>Naubatpur</td>\n",
       "      <td>11.1.1.c</td>\n",
       "      <td>Malaria (Microscopy Tests ) - Plasmodium Falci...</td>\n",
       "      <td>M11 [NVBDCP]</td>\n",
       "      <td>0.0</td>\n",
       "      <td>0.0</td>\n",
       "      <td>0.0</td>\n",
       "      <td>0.0</td>\n",
       "    </tr>\n",
       "    <tr>\n",
       "      <td>314</td>\n",
       "      <td>Ghoswari</td>\n",
       "      <td>11.1.2.c</td>\n",
       "      <td>Malaria (RDT) - Plamodium Falciparum test posi...</td>\n",
       "      <td>M11 [NVBDCP]</td>\n",
       "      <td>0.0</td>\n",
       "      <td>0.0</td>\n",
       "      <td>0.0</td>\n",
       "      <td>0.0</td>\n",
       "    </tr>\n",
       "    <tr>\n",
       "      <td>...</td>\n",
       "      <td>...</td>\n",
       "      <td>...</td>\n",
       "      <td>...</td>\n",
       "      <td>...</td>\n",
       "      <td>...</td>\n",
       "      <td>...</td>\n",
       "      <td>...</td>\n",
       "      <td>...</td>\n",
       "    </tr>\n",
       "    <tr>\n",
       "      <td>6528</td>\n",
       "      <td>Masaurhi</td>\n",
       "      <td>11.1.1.c</td>\n",
       "      <td>Malaria (Microscopy Tests ) - Plasmodium Falci...</td>\n",
       "      <td>M11 [NVBDCP]</td>\n",
       "      <td>0.0</td>\n",
       "      <td>0.0</td>\n",
       "      <td>0.0</td>\n",
       "      <td>0.0</td>\n",
       "    </tr>\n",
       "    <tr>\n",
       "      <td>6603</td>\n",
       "      <td>Bakhtiyarpur</td>\n",
       "      <td>11.1.2.c</td>\n",
       "      <td>Malaria (RDT) - Plamodium Falciparum test posi...</td>\n",
       "      <td>M11 [NVBDCP]</td>\n",
       "      <td>0.0</td>\n",
       "      <td>0.0</td>\n",
       "      <td>0.0</td>\n",
       "      <td>0.0</td>\n",
       "    </tr>\n",
       "    <tr>\n",
       "      <td>6637</td>\n",
       "      <td>Daniyawan</td>\n",
       "      <td>11.1.1.c</td>\n",
       "      <td>Malaria (Microscopy Tests ) - Plasmodium Falci...</td>\n",
       "      <td>M11 [NVBDCP]</td>\n",
       "      <td>0.0</td>\n",
       "      <td>0.0</td>\n",
       "      <td>0.0</td>\n",
       "      <td>0.0</td>\n",
       "    </tr>\n",
       "    <tr>\n",
       "      <td>6758</td>\n",
       "      <td>Phulwarisharif</td>\n",
       "      <td>11.1.2.c</td>\n",
       "      <td>Malaria (RDT) - Plamodium Falciparum test posi...</td>\n",
       "      <td>M11 [NVBDCP]</td>\n",
       "      <td>0.0</td>\n",
       "      <td>0.0</td>\n",
       "      <td>0.0</td>\n",
       "      <td>0.0</td>\n",
       "    </tr>\n",
       "    <tr>\n",
       "      <td>6769</td>\n",
       "      <td>Patna Urban</td>\n",
       "      <td>11.1.2.b</td>\n",
       "      <td>Malaria (RDT) - Plasmodium Vivax test positive</td>\n",
       "      <td>M11 [NVBDCP]</td>\n",
       "      <td>0.0</td>\n",
       "      <td>0.0</td>\n",
       "      <td>0.0</td>\n",
       "      <td>0.0</td>\n",
       "    </tr>\n",
       "  </tbody>\n",
       "</table>\n",
       "<p>1248 rows × 8 columns</p>\n",
       "</div>"
      ],
      "text/plain": [
       "        Sub-District Indicator_Code  \\\n",
       "90        Khusarupur       11.1.1.c   \n",
       "164       Sampatchak       11.1.2.c   \n",
       "218         Masaurhi       11.1.1.b   \n",
       "235        Naubatpur       11.1.1.c   \n",
       "314         Ghoswari       11.1.2.c   \n",
       "...              ...            ...   \n",
       "6528        Masaurhi       11.1.1.c   \n",
       "6603    Bakhtiyarpur       11.1.2.c   \n",
       "6637       Daniyawan       11.1.1.c   \n",
       "6758  Phulwarisharif       11.1.2.c   \n",
       "6769     Patna Urban       11.1.2.b   \n",
       "\n",
       "                                         Indicator_Name Code_And_Section  \\\n",
       "90    Malaria (Microscopy Tests ) - Plasmodium Falci...     M11 [NVBDCP]   \n",
       "164   Malaria (RDT) - Plamodium Falciparum test posi...     M11 [NVBDCP]   \n",
       "218   Malaria (Microscopy Tests ) - Plasmodium Vivax...     M11 [NVBDCP]   \n",
       "235   Malaria (Microscopy Tests ) - Plasmodium Falci...     M11 [NVBDCP]   \n",
       "314   Malaria (RDT) - Plamodium Falciparum test posi...     M11 [NVBDCP]   \n",
       "...                                                 ...              ...   \n",
       "6528  Malaria (Microscopy Tests ) - Plasmodium Falci...     M11 [NVBDCP]   \n",
       "6603  Malaria (RDT) - Plamodium Falciparum test posi...     M11 [NVBDCP]   \n",
       "6637  Malaria (Microscopy Tests ) - Plasmodium Falci...     M11 [NVBDCP]   \n",
       "6758  Malaria (RDT) - Plamodium Falciparum test posi...     M11 [NVBDCP]   \n",
       "6769     Malaria (RDT) - Plasmodium Vivax test positive     M11 [NVBDCP]   \n",
       "\n",
       "      Reported_Value_for_Public_Facility  Reported_Value_for_Private_Facility  \\\n",
       "90                                   0.0                                  0.0   \n",
       "164                                  0.0                                  0.0   \n",
       "218                                  0.0                                  0.0   \n",
       "235                                  0.0                                  0.0   \n",
       "314                                  0.0                                  0.0   \n",
       "...                                  ...                                  ...   \n",
       "6528                                 0.0                                  0.0   \n",
       "6603                                 0.0                                  0.0   \n",
       "6637                                 0.0                                  0.0   \n",
       "6758                                 0.0                                  0.0   \n",
       "6769                                 0.0                                  0.0   \n",
       "\n",
       "      Reported_Value_for_Rural  Reported_Value_for_Urban  \n",
       "90                         0.0                       0.0  \n",
       "164                        0.0                       0.0  \n",
       "218                        0.0                       0.0  \n",
       "235                        0.0                       0.0  \n",
       "314                        0.0                       0.0  \n",
       "...                        ...                       ...  \n",
       "6528                       0.0                       0.0  \n",
       "6603                       0.0                       0.0  \n",
       "6637                       0.0                       0.0  \n",
       "6758                       0.0                       0.0  \n",
       "6769                       0.0                       0.0  \n",
       "\n",
       "[1248 rows x 8 columns]"
      ]
     },
     "execution_count": 196,
     "metadata": {},
     "output_type": "execute_result"
    }
   ],
   "source": [
    "df_malaria"
   ]
  },
  {
   "cell_type": "code",
   "execution_count": null,
   "metadata": {},
   "outputs": [],
   "source": []
  },
  {
   "cell_type": "code",
   "execution_count": 332,
   "metadata": {},
   "outputs": [
    {
     "data": {
      "text/plain": [
       "array(['Number of Complicated pregnancies treated with Blood Transfusion',\n",
       "       'Number of complications following IUCD Insertion',\n",
       "       'Failures following male sterilization',\n",
       "       'Child immunisation - DPT 1st Booster', 'Tests Conducted for JE',\n",
       "       'Number of DOTS cases completed successfully',\n",
       "       'Number of blood units issued',\n",
       "       'Special Newborn Care Unit SNCU Admissions - Inborn Male',\n",
       "       'Number of Maternal Deaths due to Bleeding', 'Live Birth - Female',\n",
       "       'Tests Positive for JE',\n",
       "       'Out of registered Girls received counselling',\n",
       "       'Emergency - Snake Bite', 'In-Patient Head Count at midnight',\n",
       "       'Male HIV - Number Positive', 'Number of cases of AEFI - Death',\n",
       "       'Immunisation sessions held', 'Inpatient Male- Adults',\n",
       "       'Infant Deaths up to 4 weeks due to Other causes',\n",
       "       'Number of Combined Oral Pill cycles distributed',\n",
       "       'Number of PW given\\xa0TT1',\n",
       "       'Number of PW given 360 Calcium tablets',\n",
       "       'Out of above number of PW found sero positive for syphilis',\n",
       "       'Childhood Diseases - Tetanus Neonatorum',\n",
       "       'Ayush - Outpatient attendance',\n",
       "       'Emergency - CVA  Cerebovascular Disease',\n",
       "       'Total C -Section deliveries performed',\n",
       "       'Child immunisation - OPV1',\n",
       "       'Number of Admission in NBSU  New Born Stabilisation Unit',\n",
       "       'Number of Female Non ANCSTIRTI attendees tested for syphilis',\n",
       "       'Out of total institutional deliveries number of women discharged within 48 hours of delivery',\n",
       "       'Failures following female sterilization',\n",
       "       'Patient Satisfaction Score of the facility in percentage from Mera Aspatal',\n",
       "       'Childhood Diseases - Severe Acute Malnutrition SAM',\n",
       "       'Child immunisation - Measles  Rubella MR- 2nd Dose 16-24 months',\n",
       "       'Child immunisation - OPV Booster',\n",
       "       'Outpatient - Stroke Paralysis', 'Emergency - Burn',\n",
       "       'Blood Units Issued on replacement Family Donors to be considered as replacement donations',\n",
       "       'Number of Maternal Deaths due to Abortion',\n",
       "       'Number of Adolscent  Adult deaths due to Diarrhoeal diseases',\n",
       "       'Number of PW given ANC Corticosteroids in Pre Term Labour',\n",
       "       'Number of pregnant women tested  for Syphilis',\n",
       "       'Child immunisation - OPV 0 Birth Dose', 'Outpatient - Oncology',\n",
       "       'Children admitted with upper respiratory infections',\n",
       "       'Number of pregnant women tested found sero positive for Syphilis',\n",
       "       'Child immunisation - Inactivated Polio Vaccine 2 IPV 2',\n",
       "       'Outpatient - Dental',\n",
       "       'Number of Maternal Deaths due to Obstructedprolonged labour',\n",
       "       'Number of Adolscent  Adult deaths due to AccidentsBurn cases',\n",
       "       'Number of women provided with post abortion MTP contraception',\n",
       "       'Number of Post Abortion within 12 days of spontaneous or surgical abortion IUCD insertions',\n",
       "       'Deaths following male sterilization',\n",
       "       'Number of Left Against Medical Advice LAMA cases',\n",
       "       'Inpatient - Malaria',\n",
       "       'Out of the total number of Hb tests done Number having Hb  7 mg',\n",
       "       'Live Birth - Male', 'Child immunisation - Hepatitis-B2',\n",
       "       'Child immunisation 9-11months - Measles  Rubella MR- 1st Dose',\n",
       "       'Female Non ANC HIV - Number Tested',\n",
       "       'Female Non ANC HIV - Number Positive',\n",
       "       'Child immunisation - Inactivated Polio Vaccine 1 IPV 1',\n",
       "       'Out of registered Boys received clinical services',\n",
       "       'Number of Adolscent  Adult deaths due to Respiratory diseases including infections other than TB',\n",
       "       'Number of Home Deliveries attended by Non SBA Trained Birth AttendantTBA Relativesetc.',\n",
       "       'Widal tests - Number Positive',\n",
       "       'Infant deaths within 24 hrs1 to 23 Hrs of birth',\n",
       "       'Women receiving 1st post partum checkup between 48 hours and 14 days',\n",
       "       'New RTISTI cases identified - Female',\n",
       "       'Children aged between 9 and 11 months fully immunized - Female',\n",
       "       'Number of Immunisation sessions where ASHAs were present',\n",
       "       'Number of deaths occurring at Emergency Department',\n",
       "       'Children more than 5 years received DPT5 2nd Booster',\n",
       "       'Childhood Diseases - Sepsis',\n",
       "       'Malaria Microscopy Tests  - Plasmodium Falciparum test positive',\n",
       "       'Inpatient Deaths - Female',\n",
       "       'Number of Deaths due to Japanese  Encephalitis JE',\n",
       "       'Number of Female Non ANC STIRTI attendees found sero Positive for syphilis',\n",
       "       'Number of syphilis positive pregnant women treated for Syphilis',\n",
       "       'Number of babies treated for congenital Syphilis',\n",
       "       'Child immunisation - Vitamin K1 Birth Dose',\n",
       "       'Number of PW given one Albendazole tablet after 1st  trimester',\n",
       "       'Child immunisation - Typhoid',\n",
       "       'Emergency - Acute Caridiac Emergencies',\n",
       "       'Number of Adolscent  Adult deaths due to Animal bites and stings',\n",
       "       'Number of PW given\\xa0TT2',\n",
       "       'Number of babies diagnosed with  Congenital Syphilis',\n",
       "       'Child immunisation - Hepatitis-B0 Birth Dose',\n",
       "       'Childhood Diseases - Acute Flaccid ParalysisAFP',\n",
       "       'Widal tests - Number Tested',\n",
       "       'Child immunisation 9-11months - Measles 1st dose',\n",
       "       'Child immunisation - Measles Mumps Rubella MMR Vaccine',\n",
       "       'Out of the total ANC registered number registered within 1st trimester within 12 weeks',\n",
       "       'Number of PW tested using POC test for Syphilis',\n",
       "       'Number of Institutional Deliveries conducted Including C-Sections',\n",
       "       'Number of Interval IUCD Insertions excluding PPIUCD and PAIUCD',\n",
       "       'Number of children discharged with target weight gain from the NRCs',\n",
       "       'Number of Lab Tests done',\n",
       "       'Out of the above number screened positive number confirmed with HIV infection at Integrated Counselling and Testing Centre ICTC',\n",
       "       'Number of PW tested for blood sugar using OGTT Oral Glucose Tolerance Test',\n",
       "       'Child immunisation - Hepatitis-B1',\n",
       "       'Children more than 10 years received TT10',\n",
       "       'Kala Azar RDT - Tests Conducted', 'Kala Azar Positive Cases',\n",
       "       'Inpatient Female- Children18yrs', 'Number of IUCD Removals',\n",
       "       'Number of cases of AEFI - Others',\n",
       "       'Immunisation sessions planned',\n",
       "       'Child immunisation - Vitamin A Dose - 9',\n",
       "       'Number of children 6-59 months provided 8-10 doses 1ml of IFA syrup Bi weekly',\n",
       "       'Inpatient - Dengue', 'Stock out rate of essential Drugs',\n",
       "       'Number of Adolscent  Adult deaths due to Cancer',\n",
       "       'Number of Centchroman weekly pill strips distributed',\n",
       "       'Post Abortion MTP Complications Treated',\n",
       "       'RTISTI for which treatment initiated -Female',\n",
       "       'Childhood Diseases - Pneumonia',\n",
       "       'Number of PW having Hb level7 tested cases',\n",
       "       'Number of newborns received 7 Home Based Newborn Care HBNC visits in case of Home delivery',\n",
       "       'Child immunisation - OPV3', 'Outpatient - Epilepsy',\n",
       "       'Number of Rogi Kalyan Samiti RKS meetings held',\n",
       "       'Number of Male STIRTI attendees found sero Positive for syphilis',\n",
       "       'Number of Adolscent  Adult deaths due to Heart diseaseHypertension related',\n",
       "       'MTP more than 12 weeks of pregnancy',\n",
       "       'Malaria RDT - Plamodium Falciparum test positive',\n",
       "       'Number of on-going DOTS patients registered',\n",
       "       'Outpatient - Ophthalmic Related',\n",
       "       'Child immunisation - Pentavalent 1',\n",
       "       'Post-kala-azar dermal leishmaniasis PKDL cases',\n",
       "       'Outpatient - Diabetes',\n",
       "       'Number of Infant Deaths 1 -12 months due to Measles',\n",
       "       'Number of Condom pieces distributed',\n",
       "       'Number of Emergency Contraceptive Pills ECP given',\n",
       "       'Number of Laparoscopic sterilizations excluding post abortion conducted',\n",
       "       'MTP up to 12 weeks of pregnancy', 'Inpatient Female- Adults',\n",
       "       'Number of newborns weighed at birth',\n",
       "       'Child immunisation - Measles  Rubella MR- 1st Dose',\n",
       "       'Number of PW tested for Haemoglobin Hb  4 or more than 4 times for respective ANCs',\n",
       "       'Number of PW having Hb level11 tested cases7.1 to 10.9',\n",
       "       'Number of newborns received 6 HBNC\\xa0 visits after Institutional Delivery',\n",
       "       'Number of Child Deaths 1 -5 years due to Diarrhoea',\n",
       "       'Number of Adolscent  Adult deaths due to Suicide',\n",
       "       'Number of Adolscent  Adult deaths due to Known Chronic Disease',\n",
       "       'Number of Child Deaths 1 -5 years due to Others',\n",
       "       'Child immunisation - DPT1', 'Child immunisation - Pentavalent 3',\n",
       "       'Major Surgeries excluding Obstetrics Gynaecology and Opthalmology etc.',\n",
       "       'New cases of PW with hypertension detected',\n",
       "       'Child immunisation - DPT3',\n",
       "       'Number of mothers provided 360 Calcium tablets after delivery',\n",
       "       'Child immunisation - OPV2',\n",
       "       'Malaria Microscopy Tests  - Plasmodium Vivax test positive',\n",
       "       'Out of registered Girls received clinical services',\n",
       "       'Infant Deaths up to 4 weeks due to Sepsis', 'Still Birth',\n",
       "       'Childhood Diseases - Asthma',\n",
       "       'Inpatient - Asthma Chronic Obstructive Pulmonary Disease COPD Respiratory infections',\n",
       "       'Number of Hb tests conducted',\n",
       "       'Number of Deaths due to Malaria- Plasmodium Vivax',\n",
       "       'Child immunisation - Measles 2nd dose More than 16 months',\n",
       "       'Childhood Diseases - Measles',\n",
       "       'Inpatient - Pyrexia of unknown origin PUO',\n",
       "       'Child immunisation - Pentavalent 2',\n",
       "       'Childhood Diseases - Pertussis',\n",
       "       'New RTISTI cases identified - Male', 'Inpatient - Tuberculosis',\n",
       "       'Radiology - X-ray',\n",
       "       'Injectable Contraceptive-Antara Program- Fourth or more than fourth',\n",
       "       'Out of the new cases of PW with hypertension detected cases managed at institution',\n",
       "       'Number of mothers provided full course of 180 IFA tablets after delivery',\n",
       "       'Number of Child Deaths 1 -5 years due to Fever related',\n",
       "       'Number of Deaths due to Kala Azar',\n",
       "       'Number of PW given Tablet Misoprostol during home delivery',\n",
       "       'Number of cases of pregnant women with Obstetric Complications attended Antepartum haemorrhage APH Post-Partum Hemorrhage PPH Sepsis Eclampsia and others',\n",
       "       'Deaths following female sterilization',\n",
       "       'Child immunisation - BCG',\n",
       "       'Child immunisation - Vitamin A Dose - 1',\n",
       "       'Special Newborn Care Unit SNCU Admissions - Inborn Female',\n",
       "       'Number of PW having severe anaemia Hb7 treated',\n",
       "       'Number of cases of AEFI - Abscess',\n",
       "       'Total Blood Smears Examined for Malaria', 'Outborn – Male',\n",
       "       'Number of newborns admitted in SNCU - referred by ASHA',\n",
       "       'Number of severely underweight children provided Health Checkup 0-5 yrs',\n",
       "       'Childhood Diseases - Diarrhoea',\n",
       "       'Number of Deaths due to Malaria- Plasmodium Falciparum',\n",
       "       'Number of PW given insulin out of total tested positive for GDM',\n",
       "       'RDT conducted for Malaria',\n",
       "       'Out of the above number screened positive',\n",
       "       'Childhood Diseases - Malaria',\n",
       "       'Total Facility Based Maternal Death Reviews FBMDR done',\n",
       "       'Out of registered Boys received counselling',\n",
       "       'Number of newborns having weight less than 2.5 kg',\n",
       "       'Boys registered in AFHC', 'Outpatient - Hypertension',\n",
       "       'Operation major General and spinal anaesthesia',\n",
       "       'Infant Deaths up to 4 weeks due to Asphyxia',\n",
       "       'Number of children more than 16 months of age who received Japanese Encephalitis JE vaccine',\n",
       "       'Number of Anganwadi centres UPHCs reported to have conducted Village Health  Nutrition Day VHNDs Urban Health  Nutrition Day UHNDs Outreach  Special Outreach',\n",
       "       'Number of Newborns breast fed within 1 hour of birth\\xa0',\n",
       "       'Malaria RDT - Plasmodium Vivax test positive',\n",
       "       'Number of Adolscent  Adult deaths due to Tuberculosis',\n",
       "       'Number of Deaths due to Dengue',\n",
       "       'Emergency - Trauma  accident injury poisoning etc',\n",
       "       'Out of Operation major Gynecology- Hysterectomy surgeries',\n",
       "       'Number of Postpartum within 48 hours of delivery IUCD insertions',\n",
       "       'Injectable Contraceptive-Antara Program- First Dose',\n",
       "       'Injectable Contraceptive-Antara Program- Third Dose',\n",
       "       'Inpatient - Diarrhea with dehydration', 'Inpatient - Hepatitis',\n",
       "       'Number of Deaths due to Acute Encephelitis Syndrome AES',\n",
       "       'Number of Pregnancy Test Kits PTK used',\n",
       "       'Childhood Diseases - Diphtheria',\n",
       "       'RTISTI for which treatment initiated - Male',\n",
       "       'Number of Child Deaths 1 -5 years due to Pneumonia',\n",
       "       'Number of Post Abortion sterilizations within 7 days of spontaneous or surgical abortion conducted',\n",
       "       'Child immunisation - Vitamin A Dose - 5',\n",
       "       'Dengue - Enzyme- Linked Immuno Sorbent Assay ELISA Test Positive',\n",
       "       'Child immunisation 9-11months - JE 1st dose', 'Outborn - Female',\n",
       "       'Number of Infant Deaths 1 -12 months due to Others',\n",
       "       'Number of Maternal Deaths due to High fever',\n",
       "       'Child immunisation - Hepatitis-B3', 'Abortion spontaneous',\n",
       "       'Inpatient Deaths - Male', 'Outpatient - Mental illness',\n",
       "       'Child immunisation - Rotavirus 1', 'Inpatient - Typhoid',\n",
       "       'Number of deaths occurring at SNCU',\n",
       "       'Number of children admitted in NRC', 'Male HIV - Number Tested',\n",
       "       'Total number of blood units issued in year',\n",
       "       'Girls registered in AFHC',\n",
       "       'Number of Adolscent  Adult deaths due to Other Fever Related',\n",
       "       'Number of Postpartum sterilizations within 7 days of delivery by minilap or concurrent with caesarean section conducted',\n",
       "       'Injectable Contraceptive-Antara Program- Second Dose',\n",
       "       'Allopathic- Outpatient attendance',\n",
       "       'Number of Non Scalpel Vasectomy NSV  Conventional Vasectomy conducted',\n",
       "       'Complications following female sterilization',\n",
       "       'Childhood Diseases - Tuberculosis TB',\n",
       "       'Total number of pregnant women registered for ANC',\n",
       "       'Emergency - Obstetrics complications',\n",
       "       'Radiology - Ultrasonography USG', 'Child immunisation - DPT2',\n",
       "       'Child immunisation - Rotavirus 2',\n",
       "       'C-sections performed at night 8 PM- 8 AM',\n",
       "       'Number of Pre term newborns   37 weeks of pregnancy',\n",
       "       'Number of PW received 4 or more ANC check ups',\n",
       "       'Patients registered at Emergency Department',\n",
       "       'Number of Adolscent  Adult deaths due to Known Acute Disease',\n",
       "       'Number of Infant Deaths 1 -12 months due to Fever related',\n",
       "       'Childhood Diseases - Diarrhoea treated in Inpatients',\n",
       "       'Number of Infant Deaths 1 -12 months due to Diarrhoea',\n",
       "       'Inpatient Male- Children18yrs',\n",
       "       'Number of Home Deliveries attended by Skill Birth AttendantSBA DoctorNurseANM',\n",
       "       'Child immunisation - JE 1st dose',\n",
       "       'Number of PW tested positive for GDM',\n",
       "       'Outpatient - Acute Heart Diseases',\n",
       "       'Number of PW given 180 Iron Folic Acid IFA tablets',\n",
       "       'Number of Eclampsia cases managed during delivery',\n",
       "       'Number of Male STIRTI attendees tested for syphilis',\n",
       "       'Number of children 12-59 months provided Albendazole',\n",
       "       'Number of Adolscent  Adult deaths due to HIVAIDS',\n",
       "       'Number of Infant Deaths 1 -12 months due to Pneumonia',\n",
       "       'Number of Adolscent  Adult deaths due to Neurological disease including strokes',\n",
       "       'Number of Interval Mini-lap other than post-partum and post abortion sterilizations conducted',\n",
       "       'Complications following male sterilization',\n",
       "       'Child immunisation - Measles-1st dose',\n",
       "       'Number of pregnant women screened for HIV',\n",
       "       'Women receiving 1st post partum checkup within 48 hours of home delivery',\n",
       "       'Child immunisation - Rotavirus 3',\n",
       "       'Children more than 16 years received TT16',\n",
       "       'Number of Maternal Deaths due to Other Causes including causes not known',\n",
       "       'Number of Adolscent  Adult deaths due to Causes not known',\n",
       "       'Number of post operative Surgical Site infection',\n",
       "       'Post Abortion MTP Complications Identified',\n",
       "       'Children aged between 9 and 11 months fully immunized- Male',\n",
       "       'Operation minor No or local anaesthesia',\n",
       "       'Number of PW given\\xa0TT Booster',\n",
       "       'Number of blood transfusions done',\n",
       "       'Number of Child Deaths 1 -5 years due to Measles',\n",
       "       'Dengue - RDT Test Positive',\n",
       "       'Number of Maternal Deaths due to Severe hypertesnionfits'],\n",
       "      dtype=object)"
      ]
     },
     "execution_count": 332,
     "metadata": {},
     "output_type": "execute_result"
    }
   ],
   "source": [
    "dff['Indicator_Name'].unique()"
   ]
  },
  {
   "cell_type": "markdown",
   "metadata": {},
   "source": [
    "## cleaning column (Indicator_Name) for better search"
   ]
  },
  {
   "cell_type": "code",
   "execution_count": null,
   "metadata": {},
   "outputs": [],
   "source": []
  },
  {
   "cell_type": "code",
   "execution_count": 339,
   "metadata": {},
   "outputs": [],
   "source": [
    "dff.Indicator_Name=dff.Indicator_Name.str.replace('[#,@,&,-,/,(,),<,>,\",\"]', '')"
   ]
  },
  {
   "cell_type": "code",
   "execution_count": 341,
   "metadata": {},
   "outputs": [
    {
     "data": {
      "text/html": [
       "<div>\n",
       "<style scoped>\n",
       "    .dataframe tbody tr th:only-of-type {\n",
       "        vertical-align: middle;\n",
       "    }\n",
       "\n",
       "    .dataframe tbody tr th {\n",
       "        vertical-align: top;\n",
       "    }\n",
       "\n",
       "    .dataframe thead th {\n",
       "        text-align: right;\n",
       "    }\n",
       "</style>\n",
       "<table border=\"1\" class=\"dataframe\">\n",
       "  <thead>\n",
       "    <tr style=\"text-align: right;\">\n",
       "      <th></th>\n",
       "      <th>Sub-District</th>\n",
       "      <th>Indicator_Code</th>\n",
       "      <th>Indicator_Name</th>\n",
       "      <th>Code_And_Section</th>\n",
       "      <th>Reported_Value_for_Public_Facility</th>\n",
       "      <th>Reported_Value_for_Private_Facility</th>\n",
       "      <th>Reported_Value_for_Rural</th>\n",
       "      <th>Reported_Value_for_Urban</th>\n",
       "    </tr>\n",
       "  </thead>\n",
       "  <tbody>\n",
       "    <tr>\n",
       "      <td>0</td>\n",
       "      <td>Punpun</td>\n",
       "      <td>5.2</td>\n",
       "      <td>NumberofComplicatedpregnanciestreatedwithBlood...</td>\n",
       "      <td>M5 [Complicated Pregnancies]</td>\n",
       "      <td>0.0</td>\n",
       "      <td>0.0</td>\n",
       "      <td>0.0</td>\n",
       "      <td>0.0</td>\n",
       "    </tr>\n",
       "    <tr>\n",
       "      <td>1</td>\n",
       "      <td>Punpun</td>\n",
       "      <td>8.7</td>\n",
       "      <td>NumberofcomplicationsfollowingIUCDInsertion</td>\n",
       "      <td>M8 [Family Planning]</td>\n",
       "      <td>0.0</td>\n",
       "      <td>0.0</td>\n",
       "      <td>0.0</td>\n",
       "      <td>0.0</td>\n",
       "    </tr>\n",
       "    <tr>\n",
       "      <td>2</td>\n",
       "      <td>Punpun</td>\n",
       "      <td>8.17.3</td>\n",
       "      <td>Failuresfollowingmalesterilization</td>\n",
       "      <td>M8 [Family Planning]</td>\n",
       "      <td>0.0</td>\n",
       "      <td>0.0</td>\n",
       "      <td>0.0</td>\n",
       "      <td>0.0</td>\n",
       "    </tr>\n",
       "    <tr>\n",
       "      <td>3</td>\n",
       "      <td>Punpun</td>\n",
       "      <td>9.4.3</td>\n",
       "      <td>Childimmunisation-DPT1stBooster</td>\n",
       "      <td>M9 [CHILD IMMUNISATION]</td>\n",
       "      <td>270.0</td>\n",
       "      <td>0.0</td>\n",
       "      <td>270.0</td>\n",
       "      <td>0.0</td>\n",
       "    </tr>\n",
       "    <tr>\n",
       "      <td>4</td>\n",
       "      <td>Punpun</td>\n",
       "      <td>11.4.1</td>\n",
       "      <td>TestsConductedforJE</td>\n",
       "      <td>M11 [NVBDCP]</td>\n",
       "      <td>0.0</td>\n",
       "      <td>0.0</td>\n",
       "      <td>0.0</td>\n",
       "      <td>0.0</td>\n",
       "    </tr>\n",
       "    <tr>\n",
       "      <td>...</td>\n",
       "      <td>...</td>\n",
       "      <td>...</td>\n",
       "      <td>...</td>\n",
       "      <td>...</td>\n",
       "      <td>...</td>\n",
       "      <td>...</td>\n",
       "      <td>...</td>\n",
       "      <td>...</td>\n",
       "    </tr>\n",
       "    <tr>\n",
       "      <td>6859</td>\n",
       "      <td>Punpun</td>\n",
       "      <td>13.2</td>\n",
       "      <td>NumberofDOTScasescompletedsuccessfully</td>\n",
       "      <td>M13 [Directly Observed Treatment, Short-course...</td>\n",
       "      <td>0.0</td>\n",
       "      <td>0.0</td>\n",
       "      <td>0.0</td>\n",
       "      <td>0.0</td>\n",
       "    </tr>\n",
       "    <tr>\n",
       "      <td>6860</td>\n",
       "      <td>Punpun</td>\n",
       "      <td>15.3.4.a</td>\n",
       "      <td>NumberofMaleSTIRTIattendeestestedforsyphilis</td>\n",
       "      <td>M15 [Laboratory Testing]</td>\n",
       "      <td>0.0</td>\n",
       "      <td>0.0</td>\n",
       "      <td>0.0</td>\n",
       "      <td>0.0</td>\n",
       "    </tr>\n",
       "    <tr>\n",
       "      <td>6861</td>\n",
       "      <td>Punpun</td>\n",
       "      <td>10.13</td>\n",
       "      <td>Childrenadmittedwithupperrespiratoryinfections</td>\n",
       "      <td>M10 [Number of cases of Childhood Diseases (0-...</td>\n",
       "      <td>0.0</td>\n",
       "      <td>0.0</td>\n",
       "      <td>0.0</td>\n",
       "      <td>0.0</td>\n",
       "    </tr>\n",
       "    <tr>\n",
       "      <td>6862</td>\n",
       "      <td>Sampatchak</td>\n",
       "      <td>10.2</td>\n",
       "      <td>ChildhoodDiseases-Asthma</td>\n",
       "      <td>M10 [Number of cases of Childhood Diseases (0-...</td>\n",
       "      <td>0.0</td>\n",
       "      <td>0.0</td>\n",
       "      <td>0.0</td>\n",
       "      <td>0.0</td>\n",
       "    </tr>\n",
       "    <tr>\n",
       "      <td>6863</td>\n",
       "      <td>Sampatchak</td>\n",
       "      <td>16.4.5</td>\n",
       "      <td>NumberofChildDeaths1-5yearsduetoOthers</td>\n",
       "      <td>M16 [Details of deaths reported with probable ...</td>\n",
       "      <td>0.0</td>\n",
       "      <td>0.0</td>\n",
       "      <td>0.0</td>\n",
       "      <td>0.0</td>\n",
       "    </tr>\n",
       "  </tbody>\n",
       "</table>\n",
       "<p>89232 rows × 8 columns</p>\n",
       "</div>"
      ],
      "text/plain": [
       "     Sub-District Indicator_Code  \\\n",
       "0          Punpun            5.2   \n",
       "1          Punpun            8.7   \n",
       "2          Punpun         8.17.3   \n",
       "3          Punpun          9.4.3   \n",
       "4          Punpun         11.4.1   \n",
       "...           ...            ...   \n",
       "6859       Punpun           13.2   \n",
       "6860       Punpun       15.3.4.a   \n",
       "6861       Punpun          10.13   \n",
       "6862   Sampatchak           10.2   \n",
       "6863   Sampatchak         16.4.5   \n",
       "\n",
       "                                         Indicator_Name  \\\n",
       "0     NumberofComplicatedpregnanciestreatedwithBlood...   \n",
       "1           NumberofcomplicationsfollowingIUCDInsertion   \n",
       "2                    Failuresfollowingmalesterilization   \n",
       "3                       Childimmunisation-DPT1stBooster   \n",
       "4                                   TestsConductedforJE   \n",
       "...                                                 ...   \n",
       "6859             NumberofDOTScasescompletedsuccessfully   \n",
       "6860       NumberofMaleSTIRTIattendeestestedforsyphilis   \n",
       "6861     Childrenadmittedwithupperrespiratoryinfections   \n",
       "6862                           ChildhoodDiseases-Asthma   \n",
       "6863             NumberofChildDeaths1-5yearsduetoOthers   \n",
       "\n",
       "                                       Code_And_Section  \\\n",
       "0                          M5 [Complicated Pregnancies]   \n",
       "1                                  M8 [Family Planning]   \n",
       "2                                  M8 [Family Planning]   \n",
       "3                               M9 [CHILD IMMUNISATION]   \n",
       "4                                          M11 [NVBDCP]   \n",
       "...                                                 ...   \n",
       "6859  M13 [Directly Observed Treatment, Short-course...   \n",
       "6860                           M15 [Laboratory Testing]   \n",
       "6861  M10 [Number of cases of Childhood Diseases (0-...   \n",
       "6862  M10 [Number of cases of Childhood Diseases (0-...   \n",
       "6863  M16 [Details of deaths reported with probable ...   \n",
       "\n",
       "      Reported_Value_for_Public_Facility  Reported_Value_for_Private_Facility  \\\n",
       "0                                    0.0                                  0.0   \n",
       "1                                    0.0                                  0.0   \n",
       "2                                    0.0                                  0.0   \n",
       "3                                  270.0                                  0.0   \n",
       "4                                    0.0                                  0.0   \n",
       "...                                  ...                                  ...   \n",
       "6859                                 0.0                                  0.0   \n",
       "6860                                 0.0                                  0.0   \n",
       "6861                                 0.0                                  0.0   \n",
       "6862                                 0.0                                  0.0   \n",
       "6863                                 0.0                                  0.0   \n",
       "\n",
       "      Reported_Value_for_Rural  Reported_Value_for_Urban  \n",
       "0                          0.0                       0.0  \n",
       "1                          0.0                       0.0  \n",
       "2                          0.0                       0.0  \n",
       "3                        270.0                       0.0  \n",
       "4                          0.0                       0.0  \n",
       "...                        ...                       ...  \n",
       "6859                       0.0                       0.0  \n",
       "6860                       0.0                       0.0  \n",
       "6861                       0.0                       0.0  \n",
       "6862                       0.0                       0.0  \n",
       "6863                       0.0                       0.0  \n",
       "\n",
       "[89232 rows x 8 columns]"
      ]
     },
     "execution_count": 341,
     "metadata": {},
     "output_type": "execute_result"
    }
   ],
   "source": [
    "dff"
   ]
  },
  {
   "cell_type": "code",
   "execution_count": null,
   "metadata": {},
   "outputs": [],
   "source": []
  },
  {
   "cell_type": "code",
   "execution_count": null,
   "metadata": {},
   "outputs": [],
   "source": []
  },
  {
   "cell_type": "code",
   "execution_count": null,
   "metadata": {},
   "outputs": [],
   "source": []
  },
  {
   "cell_type": "code",
   "execution_count": 541,
   "metadata": {},
   "outputs": [],
   "source": [
    "df_abort=dff[dff['Indicator_Name'].str.contains('abortion')]"
   ]
  },
  {
   "cell_type": "code",
   "execution_count": 503,
   "metadata": {},
   "outputs": [],
   "source": [
    "# dff.drop(dff[dff['Indicator_Name'].str.match('Immunisation')],axis=0)\n",
    "dff=dff[~dff.Code_And_Section.str.contains(\"IMMUNISATION\")]"
   ]
  },
  {
   "cell_type": "code",
   "execution_count": null,
   "metadata": {},
   "outputs": [],
   "source": []
  },
  {
   "cell_type": "code",
   "execution_count": null,
   "metadata": {},
   "outputs": [],
   "source": []
  },
  {
   "cell_type": "code",
   "execution_count": null,
   "metadata": {},
   "outputs": [],
   "source": []
  },
  {
   "cell_type": "markdown",
   "metadata": {},
   "source": [
    "## Grouping similar items"
   ]
  },
  {
   "cell_type": "code",
   "execution_count": null,
   "metadata": {},
   "outputs": [],
   "source": [
    "df_All=dff.groupby(['Indicator_Name']).nunique()"
   ]
  },
  {
   "cell_type": "code",
   "execution_count": 515,
   "metadata": {},
   "outputs": [
    {
     "data": {
      "text/plain": [
       "Sub-District                            24\n",
       "Indicator_Code                           2\n",
       "Indicator_Name                           1\n",
       "Code_And_Section                         1\n",
       "Reported_Value_for_Public_Facility     307\n",
       "Reported_Value_for_Private_Facility     14\n",
       "Reported_Value_for_Rural               229\n",
       "Reported_Value_for_Urban               104\n",
       "dtype: int64"
      ]
     },
     "execution_count": 515,
     "metadata": {},
     "output_type": "execute_result"
    }
   ],
   "source": []
  },
  {
   "cell_type": "code",
   "execution_count": 432,
   "metadata": {},
   "outputs": [],
   "source": [
    "df_All=df_All.drop(['Sub-District','Indicator_Code','Indicator_Name','Code_And_Section'],axis=1)"
   ]
  },
  {
   "cell_type": "markdown",
   "metadata": {},
   "source": [
    "### Average values for proper visualization"
   ]
  },
  {
   "cell_type": "code",
   "execution_count": 396,
   "metadata": {},
   "outputs": [
    {
     "data": {
      "text/plain": [
       "Indicator_Name                          1.000000\n",
       "Reported_Value_for_Public_Facility     62.741259\n",
       "Reported_Value_for_Private_Facility     2.297203\n",
       "Reported_Value_for_Rural               47.475524\n",
       "Reported_Value_for_Urban               27.562937\n",
       "dtype: float64"
      ]
     },
     "execution_count": 396,
     "metadata": {},
     "output_type": "execute_result"
    }
   ],
   "source": [
    "df_All.mean()"
   ]
  },
  {
   "cell_type": "code",
   "execution_count": 456,
   "metadata": {},
   "outputs": [],
   "source": [
    "df_All=df_All[df_All['Reported_Value_for_Public_Facility'] > 60] \n",
    "df_All=df_All[df_All['Reported_Value_for_Private_Facility'] > 2] \n",
    "df_All=df_All[df_All['Reported_Value_for_Rural'] > 45] \n",
    "df_All=df_All[df_All['Reported_Value_for_Urban'] > 25] "
   ]
  },
  {
   "cell_type": "code",
   "execution_count": 434,
   "metadata": {},
   "outputs": [],
   "source": [
    "df_All=df_All.reset_index()"
   ]
  },
  {
   "cell_type": "code",
   "execution_count": 489,
   "metadata": {},
   "outputs": [],
   "source": [
    "df_malaria=df_malaria.drop(['Sub-District','Indicator_Code','Code_And_Section'],axis=1)"
   ]
  },
  {
   "cell_type": "code",
   "execution_count": 490,
   "metadata": {},
   "outputs": [],
   "source": [
    "df_malaria=df_malaria.groupby(['Indicator_Name']).nunique()"
   ]
  },
  {
   "cell_type": "code",
   "execution_count": 491,
   "metadata": {},
   "outputs": [
    {
     "data": {
      "text/html": [
       "<div>\n",
       "<style scoped>\n",
       "    .dataframe tbody tr th:only-of-type {\n",
       "        vertical-align: middle;\n",
       "    }\n",
       "\n",
       "    .dataframe tbody tr th {\n",
       "        vertical-align: top;\n",
       "    }\n",
       "\n",
       "    .dataframe thead th {\n",
       "        text-align: right;\n",
       "    }\n",
       "</style>\n",
       "<table border=\"1\" class=\"dataframe\">\n",
       "  <thead>\n",
       "    <tr style=\"text-align: right;\">\n",
       "      <th></th>\n",
       "      <th>Indicator_Name</th>\n",
       "      <th>Reported_Value_for_Public_Facility</th>\n",
       "      <th>Reported_Value_for_Private_Facility</th>\n",
       "      <th>Reported_Value_for_Rural</th>\n",
       "      <th>Reported_Value_for_Urban</th>\n",
       "    </tr>\n",
       "    <tr>\n",
       "      <th>Indicator_Name</th>\n",
       "      <th></th>\n",
       "      <th></th>\n",
       "      <th></th>\n",
       "      <th></th>\n",
       "      <th></th>\n",
       "    </tr>\n",
       "  </thead>\n",
       "  <tbody>\n",
       "    <tr>\n",
       "      <td>ChildhoodDiseases-Malaria</td>\n",
       "      <td>1</td>\n",
       "      <td>6</td>\n",
       "      <td>1</td>\n",
       "      <td>6</td>\n",
       "      <td>2</td>\n",
       "    </tr>\n",
       "    <tr>\n",
       "      <td>Inpatient-Malaria</td>\n",
       "      <td>1</td>\n",
       "      <td>4</td>\n",
       "      <td>1</td>\n",
       "      <td>4</td>\n",
       "      <td>1</td>\n",
       "    </tr>\n",
       "    <tr>\n",
       "      <td>MalariaMicroscopyTests-PlasmodiumFalciparumtestpositive</td>\n",
       "      <td>1</td>\n",
       "      <td>4</td>\n",
       "      <td>1</td>\n",
       "      <td>4</td>\n",
       "      <td>1</td>\n",
       "    </tr>\n",
       "    <tr>\n",
       "      <td>MalariaMicroscopyTests-PlasmodiumVivaxtestpositive</td>\n",
       "      <td>1</td>\n",
       "      <td>2</td>\n",
       "      <td>1</td>\n",
       "      <td>2</td>\n",
       "      <td>1</td>\n",
       "    </tr>\n",
       "    <tr>\n",
       "      <td>MalariaRDT-PlamodiumFalciparumtestpositive</td>\n",
       "      <td>1</td>\n",
       "      <td>3</td>\n",
       "      <td>1</td>\n",
       "      <td>3</td>\n",
       "      <td>1</td>\n",
       "    </tr>\n",
       "    <tr>\n",
       "      <td>MalariaRDT-PlasmodiumVivaxtestpositive</td>\n",
       "      <td>1</td>\n",
       "      <td>4</td>\n",
       "      <td>1</td>\n",
       "      <td>4</td>\n",
       "      <td>1</td>\n",
       "    </tr>\n",
       "    <tr>\n",
       "      <td>NumberofDeathsduetoMalaria-PlasmodiumFalciparum</td>\n",
       "      <td>1</td>\n",
       "      <td>1</td>\n",
       "      <td>1</td>\n",
       "      <td>1</td>\n",
       "      <td>1</td>\n",
       "    </tr>\n",
       "    <tr>\n",
       "      <td>NumberofDeathsduetoMalaria-PlasmodiumVivax</td>\n",
       "      <td>1</td>\n",
       "      <td>1</td>\n",
       "      <td>1</td>\n",
       "      <td>1</td>\n",
       "      <td>1</td>\n",
       "    </tr>\n",
       "    <tr>\n",
       "      <td>RDTconductedforMalaria</td>\n",
       "      <td>1</td>\n",
       "      <td>42</td>\n",
       "      <td>1</td>\n",
       "      <td>40</td>\n",
       "      <td>21</td>\n",
       "    </tr>\n",
       "    <tr>\n",
       "      <td>TotalBloodSmearsExaminedforMalaria</td>\n",
       "      <td>1</td>\n",
       "      <td>35</td>\n",
       "      <td>1</td>\n",
       "      <td>26</td>\n",
       "      <td>17</td>\n",
       "    </tr>\n",
       "  </tbody>\n",
       "</table>\n",
       "</div>"
      ],
      "text/plain": [
       "                                                    Indicator_Name  \\\n",
       "Indicator_Name                                                       \n",
       "ChildhoodDiseases-Malaria                                        1   \n",
       "Inpatient-Malaria                                                1   \n",
       "MalariaMicroscopyTests-PlasmodiumFalciparumtest...               1   \n",
       "MalariaMicroscopyTests-PlasmodiumVivaxtestpositive               1   \n",
       "MalariaRDT-PlamodiumFalciparumtestpositive                       1   \n",
       "MalariaRDT-PlasmodiumVivaxtestpositive                           1   \n",
       "NumberofDeathsduetoMalaria-PlasmodiumFalciparum                  1   \n",
       "NumberofDeathsduetoMalaria-PlasmodiumVivax                       1   \n",
       "RDTconductedforMalaria                                           1   \n",
       "TotalBloodSmearsExaminedforMalaria                               1   \n",
       "\n",
       "                                                    Reported_Value_for_Public_Facility  \\\n",
       "Indicator_Name                                                                           \n",
       "ChildhoodDiseases-Malaria                                                            6   \n",
       "Inpatient-Malaria                                                                    4   \n",
       "MalariaMicroscopyTests-PlasmodiumFalciparumtest...                                   4   \n",
       "MalariaMicroscopyTests-PlasmodiumVivaxtestpositive                                   2   \n",
       "MalariaRDT-PlamodiumFalciparumtestpositive                                           3   \n",
       "MalariaRDT-PlasmodiumVivaxtestpositive                                               4   \n",
       "NumberofDeathsduetoMalaria-PlasmodiumFalciparum                                      1   \n",
       "NumberofDeathsduetoMalaria-PlasmodiumVivax                                           1   \n",
       "RDTconductedforMalaria                                                              42   \n",
       "TotalBloodSmearsExaminedforMalaria                                                  35   \n",
       "\n",
       "                                                    Reported_Value_for_Private_Facility  \\\n",
       "Indicator_Name                                                                            \n",
       "ChildhoodDiseases-Malaria                                                             1   \n",
       "Inpatient-Malaria                                                                     1   \n",
       "MalariaMicroscopyTests-PlasmodiumFalciparumtest...                                    1   \n",
       "MalariaMicroscopyTests-PlasmodiumVivaxtestpositive                                    1   \n",
       "MalariaRDT-PlamodiumFalciparumtestpositive                                            1   \n",
       "MalariaRDT-PlasmodiumVivaxtestpositive                                                1   \n",
       "NumberofDeathsduetoMalaria-PlasmodiumFalciparum                                       1   \n",
       "NumberofDeathsduetoMalaria-PlasmodiumVivax                                            1   \n",
       "RDTconductedforMalaria                                                                1   \n",
       "TotalBloodSmearsExaminedforMalaria                                                    1   \n",
       "\n",
       "                                                    Reported_Value_for_Rural  \\\n",
       "Indicator_Name                                                                 \n",
       "ChildhoodDiseases-Malaria                                                  6   \n",
       "Inpatient-Malaria                                                          4   \n",
       "MalariaMicroscopyTests-PlasmodiumFalciparumtest...                         4   \n",
       "MalariaMicroscopyTests-PlasmodiumVivaxtestpositive                         2   \n",
       "MalariaRDT-PlamodiumFalciparumtestpositive                                 3   \n",
       "MalariaRDT-PlasmodiumVivaxtestpositive                                     4   \n",
       "NumberofDeathsduetoMalaria-PlasmodiumFalciparum                            1   \n",
       "NumberofDeathsduetoMalaria-PlasmodiumVivax                                 1   \n",
       "RDTconductedforMalaria                                                    40   \n",
       "TotalBloodSmearsExaminedforMalaria                                        26   \n",
       "\n",
       "                                                    Reported_Value_for_Urban  \n",
       "Indicator_Name                                                                \n",
       "ChildhoodDiseases-Malaria                                                  2  \n",
       "Inpatient-Malaria                                                          1  \n",
       "MalariaMicroscopyTests-PlasmodiumFalciparumtest...                         1  \n",
       "MalariaMicroscopyTests-PlasmodiumVivaxtestpositive                         1  \n",
       "MalariaRDT-PlamodiumFalciparumtestpositive                                 1  \n",
       "MalariaRDT-PlasmodiumVivaxtestpositive                                     1  \n",
       "NumberofDeathsduetoMalaria-PlasmodiumFalciparum                            1  \n",
       "NumberofDeathsduetoMalaria-PlasmodiumVivax                                 1  \n",
       "RDTconductedforMalaria                                                    21  \n",
       "TotalBloodSmearsExaminedforMalaria                                        17  "
      ]
     },
     "execution_count": 491,
     "metadata": {},
     "output_type": "execute_result"
    }
   ],
   "source": [
    "df_malaria"
   ]
  },
  {
   "cell_type": "markdown",
   "metadata": {},
   "source": [
    "## Malaria Positive Patients"
   ]
  },
  {
   "cell_type": "code",
   "execution_count": 492,
   "metadata": {},
   "outputs": [
    {
     "data": {
      "application/vnd.plotly.v1+json": {
       "config": {
        "linkText": "Export to plotly.com",
        "plotlyServerURL": "https://plotly.com",
        "showLink": true
       },
       "data": [
        {
         "marker": {
          "color": "rgba(255, 153, 51, 0.6)",
          "line": {
           "color": "rgba(255, 153, 51, 1.0)",
           "width": 1
          }
         },
         "name": "Indicator_Name",
         "orientation": "v",
         "text": "",
         "type": "bar",
         "x": [
          "ChildhoodDiseases-Malaria",
          "Inpatient-Malaria",
          "MalariaMicroscopyTests-PlasmodiumFalciparumtestpositive",
          "MalariaMicroscopyTests-PlasmodiumVivaxtestpositive",
          "MalariaRDT-PlamodiumFalciparumtestpositive",
          "MalariaRDT-PlasmodiumVivaxtestpositive",
          "NumberofDeathsduetoMalaria-PlasmodiumFalciparum",
          "NumberofDeathsduetoMalaria-PlasmodiumVivax",
          "RDTconductedforMalaria",
          "TotalBloodSmearsExaminedforMalaria"
         ],
         "y": [
          1,
          1,
          1,
          1,
          1,
          1,
          1,
          1,
          1,
          1
         ]
        },
        {
         "marker": {
          "color": "rgba(55, 128, 191, 0.6)",
          "line": {
           "color": "rgba(55, 128, 191, 1.0)",
           "width": 1
          }
         },
         "name": "Reported_Value_for_Public_Facility",
         "orientation": "v",
         "text": "",
         "type": "bar",
         "x": [
          "ChildhoodDiseases-Malaria",
          "Inpatient-Malaria",
          "MalariaMicroscopyTests-PlasmodiumFalciparumtestpositive",
          "MalariaMicroscopyTests-PlasmodiumVivaxtestpositive",
          "MalariaRDT-PlamodiumFalciparumtestpositive",
          "MalariaRDT-PlasmodiumVivaxtestpositive",
          "NumberofDeathsduetoMalaria-PlasmodiumFalciparum",
          "NumberofDeathsduetoMalaria-PlasmodiumVivax",
          "RDTconductedforMalaria",
          "TotalBloodSmearsExaminedforMalaria"
         ],
         "y": [
          6,
          4,
          4,
          2,
          3,
          4,
          1,
          1,
          42,
          35
         ]
        },
        {
         "marker": {
          "color": "rgba(50, 171, 96, 0.6)",
          "line": {
           "color": "rgba(50, 171, 96, 1.0)",
           "width": 1
          }
         },
         "name": "Reported_Value_for_Private_Facility",
         "orientation": "v",
         "text": "",
         "type": "bar",
         "x": [
          "ChildhoodDiseases-Malaria",
          "Inpatient-Malaria",
          "MalariaMicroscopyTests-PlasmodiumFalciparumtestpositive",
          "MalariaMicroscopyTests-PlasmodiumVivaxtestpositive",
          "MalariaRDT-PlamodiumFalciparumtestpositive",
          "MalariaRDT-PlasmodiumVivaxtestpositive",
          "NumberofDeathsduetoMalaria-PlasmodiumFalciparum",
          "NumberofDeathsduetoMalaria-PlasmodiumVivax",
          "RDTconductedforMalaria",
          "TotalBloodSmearsExaminedforMalaria"
         ],
         "y": [
          1,
          1,
          1,
          1,
          1,
          1,
          1,
          1,
          1,
          1
         ]
        },
        {
         "marker": {
          "color": "rgba(128, 0, 128, 0.6)",
          "line": {
           "color": "rgba(128, 0, 128, 1.0)",
           "width": 1
          }
         },
         "name": "Reported_Value_for_Rural",
         "orientation": "v",
         "text": "",
         "type": "bar",
         "x": [
          "ChildhoodDiseases-Malaria",
          "Inpatient-Malaria",
          "MalariaMicroscopyTests-PlasmodiumFalciparumtestpositive",
          "MalariaMicroscopyTests-PlasmodiumVivaxtestpositive",
          "MalariaRDT-PlamodiumFalciparumtestpositive",
          "MalariaRDT-PlasmodiumVivaxtestpositive",
          "NumberofDeathsduetoMalaria-PlasmodiumFalciparum",
          "NumberofDeathsduetoMalaria-PlasmodiumVivax",
          "RDTconductedforMalaria",
          "TotalBloodSmearsExaminedforMalaria"
         ],
         "y": [
          6,
          4,
          4,
          2,
          3,
          4,
          1,
          1,
          40,
          26
         ]
        },
        {
         "marker": {
          "color": "rgba(219, 64, 82, 0.6)",
          "line": {
           "color": "rgba(219, 64, 82, 1.0)",
           "width": 1
          }
         },
         "name": "Reported_Value_for_Urban",
         "orientation": "v",
         "text": "",
         "type": "bar",
         "x": [
          "ChildhoodDiseases-Malaria",
          "Inpatient-Malaria",
          "MalariaMicroscopyTests-PlasmodiumFalciparumtestpositive",
          "MalariaMicroscopyTests-PlasmodiumVivaxtestpositive",
          "MalariaRDT-PlamodiumFalciparumtestpositive",
          "MalariaRDT-PlasmodiumVivaxtestpositive",
          "NumberofDeathsduetoMalaria-PlasmodiumFalciparum",
          "NumberofDeathsduetoMalaria-PlasmodiumVivax",
          "RDTconductedforMalaria",
          "TotalBloodSmearsExaminedforMalaria"
         ],
         "y": [
          2,
          1,
          1,
          1,
          1,
          1,
          1,
          1,
          21,
          17
         ]
        }
       ],
       "layout": {
        "legend": {
         "bgcolor": "#F5F6F9",
         "font": {
          "color": "#4D5663"
         }
        },
        "paper_bgcolor": "#F5F6F9",
        "plot_bgcolor": "#F5F6F9",
        "template": {
         "data": {
          "bar": [
           {
            "error_x": {
             "color": "#2a3f5f"
            },
            "error_y": {
             "color": "#2a3f5f"
            },
            "marker": {
             "line": {
              "color": "#E5ECF6",
              "width": 0.5
             }
            },
            "type": "bar"
           }
          ],
          "barpolar": [
           {
            "marker": {
             "line": {
              "color": "#E5ECF6",
              "width": 0.5
             }
            },
            "type": "barpolar"
           }
          ],
          "carpet": [
           {
            "aaxis": {
             "endlinecolor": "#2a3f5f",
             "gridcolor": "white",
             "linecolor": "white",
             "minorgridcolor": "white",
             "startlinecolor": "#2a3f5f"
            },
            "baxis": {
             "endlinecolor": "#2a3f5f",
             "gridcolor": "white",
             "linecolor": "white",
             "minorgridcolor": "white",
             "startlinecolor": "#2a3f5f"
            },
            "type": "carpet"
           }
          ],
          "choropleth": [
           {
            "colorbar": {
             "outlinewidth": 0,
             "ticks": ""
            },
            "type": "choropleth"
           }
          ],
          "contour": [
           {
            "colorbar": {
             "outlinewidth": 0,
             "ticks": ""
            },
            "colorscale": [
             [
              0,
              "#0d0887"
             ],
             [
              0.1111111111111111,
              "#46039f"
             ],
             [
              0.2222222222222222,
              "#7201a8"
             ],
             [
              0.3333333333333333,
              "#9c179e"
             ],
             [
              0.4444444444444444,
              "#bd3786"
             ],
             [
              0.5555555555555556,
              "#d8576b"
             ],
             [
              0.6666666666666666,
              "#ed7953"
             ],
             [
              0.7777777777777778,
              "#fb9f3a"
             ],
             [
              0.8888888888888888,
              "#fdca26"
             ],
             [
              1,
              "#f0f921"
             ]
            ],
            "type": "contour"
           }
          ],
          "contourcarpet": [
           {
            "colorbar": {
             "outlinewidth": 0,
             "ticks": ""
            },
            "type": "contourcarpet"
           }
          ],
          "heatmap": [
           {
            "colorbar": {
             "outlinewidth": 0,
             "ticks": ""
            },
            "colorscale": [
             [
              0,
              "#0d0887"
             ],
             [
              0.1111111111111111,
              "#46039f"
             ],
             [
              0.2222222222222222,
              "#7201a8"
             ],
             [
              0.3333333333333333,
              "#9c179e"
             ],
             [
              0.4444444444444444,
              "#bd3786"
             ],
             [
              0.5555555555555556,
              "#d8576b"
             ],
             [
              0.6666666666666666,
              "#ed7953"
             ],
             [
              0.7777777777777778,
              "#fb9f3a"
             ],
             [
              0.8888888888888888,
              "#fdca26"
             ],
             [
              1,
              "#f0f921"
             ]
            ],
            "type": "heatmap"
           }
          ],
          "heatmapgl": [
           {
            "colorbar": {
             "outlinewidth": 0,
             "ticks": ""
            },
            "colorscale": [
             [
              0,
              "#0d0887"
             ],
             [
              0.1111111111111111,
              "#46039f"
             ],
             [
              0.2222222222222222,
              "#7201a8"
             ],
             [
              0.3333333333333333,
              "#9c179e"
             ],
             [
              0.4444444444444444,
              "#bd3786"
             ],
             [
              0.5555555555555556,
              "#d8576b"
             ],
             [
              0.6666666666666666,
              "#ed7953"
             ],
             [
              0.7777777777777778,
              "#fb9f3a"
             ],
             [
              0.8888888888888888,
              "#fdca26"
             ],
             [
              1,
              "#f0f921"
             ]
            ],
            "type": "heatmapgl"
           }
          ],
          "histogram": [
           {
            "marker": {
             "colorbar": {
              "outlinewidth": 0,
              "ticks": ""
             }
            },
            "type": "histogram"
           }
          ],
          "histogram2d": [
           {
            "colorbar": {
             "outlinewidth": 0,
             "ticks": ""
            },
            "colorscale": [
             [
              0,
              "#0d0887"
             ],
             [
              0.1111111111111111,
              "#46039f"
             ],
             [
              0.2222222222222222,
              "#7201a8"
             ],
             [
              0.3333333333333333,
              "#9c179e"
             ],
             [
              0.4444444444444444,
              "#bd3786"
             ],
             [
              0.5555555555555556,
              "#d8576b"
             ],
             [
              0.6666666666666666,
              "#ed7953"
             ],
             [
              0.7777777777777778,
              "#fb9f3a"
             ],
             [
              0.8888888888888888,
              "#fdca26"
             ],
             [
              1,
              "#f0f921"
             ]
            ],
            "type": "histogram2d"
           }
          ],
          "histogram2dcontour": [
           {
            "colorbar": {
             "outlinewidth": 0,
             "ticks": ""
            },
            "colorscale": [
             [
              0,
              "#0d0887"
             ],
             [
              0.1111111111111111,
              "#46039f"
             ],
             [
              0.2222222222222222,
              "#7201a8"
             ],
             [
              0.3333333333333333,
              "#9c179e"
             ],
             [
              0.4444444444444444,
              "#bd3786"
             ],
             [
              0.5555555555555556,
              "#d8576b"
             ],
             [
              0.6666666666666666,
              "#ed7953"
             ],
             [
              0.7777777777777778,
              "#fb9f3a"
             ],
             [
              0.8888888888888888,
              "#fdca26"
             ],
             [
              1,
              "#f0f921"
             ]
            ],
            "type": "histogram2dcontour"
           }
          ],
          "mesh3d": [
           {
            "colorbar": {
             "outlinewidth": 0,
             "ticks": ""
            },
            "type": "mesh3d"
           }
          ],
          "parcoords": [
           {
            "line": {
             "colorbar": {
              "outlinewidth": 0,
              "ticks": ""
             }
            },
            "type": "parcoords"
           }
          ],
          "pie": [
           {
            "automargin": true,
            "type": "pie"
           }
          ],
          "scatter": [
           {
            "marker": {
             "colorbar": {
              "outlinewidth": 0,
              "ticks": ""
             }
            },
            "type": "scatter"
           }
          ],
          "scatter3d": [
           {
            "line": {
             "colorbar": {
              "outlinewidth": 0,
              "ticks": ""
             }
            },
            "marker": {
             "colorbar": {
              "outlinewidth": 0,
              "ticks": ""
             }
            },
            "type": "scatter3d"
           }
          ],
          "scattercarpet": [
           {
            "marker": {
             "colorbar": {
              "outlinewidth": 0,
              "ticks": ""
             }
            },
            "type": "scattercarpet"
           }
          ],
          "scattergeo": [
           {
            "marker": {
             "colorbar": {
              "outlinewidth": 0,
              "ticks": ""
             }
            },
            "type": "scattergeo"
           }
          ],
          "scattergl": [
           {
            "marker": {
             "colorbar": {
              "outlinewidth": 0,
              "ticks": ""
             }
            },
            "type": "scattergl"
           }
          ],
          "scattermapbox": [
           {
            "marker": {
             "colorbar": {
              "outlinewidth": 0,
              "ticks": ""
             }
            },
            "type": "scattermapbox"
           }
          ],
          "scatterpolar": [
           {
            "marker": {
             "colorbar": {
              "outlinewidth": 0,
              "ticks": ""
             }
            },
            "type": "scatterpolar"
           }
          ],
          "scatterpolargl": [
           {
            "marker": {
             "colorbar": {
              "outlinewidth": 0,
              "ticks": ""
             }
            },
            "type": "scatterpolargl"
           }
          ],
          "scatterternary": [
           {
            "marker": {
             "colorbar": {
              "outlinewidth": 0,
              "ticks": ""
             }
            },
            "type": "scatterternary"
           }
          ],
          "surface": [
           {
            "colorbar": {
             "outlinewidth": 0,
             "ticks": ""
            },
            "colorscale": [
             [
              0,
              "#0d0887"
             ],
             [
              0.1111111111111111,
              "#46039f"
             ],
             [
              0.2222222222222222,
              "#7201a8"
             ],
             [
              0.3333333333333333,
              "#9c179e"
             ],
             [
              0.4444444444444444,
              "#bd3786"
             ],
             [
              0.5555555555555556,
              "#d8576b"
             ],
             [
              0.6666666666666666,
              "#ed7953"
             ],
             [
              0.7777777777777778,
              "#fb9f3a"
             ],
             [
              0.8888888888888888,
              "#fdca26"
             ],
             [
              1,
              "#f0f921"
             ]
            ],
            "type": "surface"
           }
          ],
          "table": [
           {
            "cells": {
             "fill": {
              "color": "#EBF0F8"
             },
             "line": {
              "color": "white"
             }
            },
            "header": {
             "fill": {
              "color": "#C8D4E3"
             },
             "line": {
              "color": "white"
             }
            },
            "type": "table"
           }
          ]
         },
         "layout": {
          "annotationdefaults": {
           "arrowcolor": "#2a3f5f",
           "arrowhead": 0,
           "arrowwidth": 1
          },
          "coloraxis": {
           "colorbar": {
            "outlinewidth": 0,
            "ticks": ""
           }
          },
          "colorscale": {
           "diverging": [
            [
             0,
             "#8e0152"
            ],
            [
             0.1,
             "#c51b7d"
            ],
            [
             0.2,
             "#de77ae"
            ],
            [
             0.3,
             "#f1b6da"
            ],
            [
             0.4,
             "#fde0ef"
            ],
            [
             0.5,
             "#f7f7f7"
            ],
            [
             0.6,
             "#e6f5d0"
            ],
            [
             0.7,
             "#b8e186"
            ],
            [
             0.8,
             "#7fbc41"
            ],
            [
             0.9,
             "#4d9221"
            ],
            [
             1,
             "#276419"
            ]
           ],
           "sequential": [
            [
             0,
             "#0d0887"
            ],
            [
             0.1111111111111111,
             "#46039f"
            ],
            [
             0.2222222222222222,
             "#7201a8"
            ],
            [
             0.3333333333333333,
             "#9c179e"
            ],
            [
             0.4444444444444444,
             "#bd3786"
            ],
            [
             0.5555555555555556,
             "#d8576b"
            ],
            [
             0.6666666666666666,
             "#ed7953"
            ],
            [
             0.7777777777777778,
             "#fb9f3a"
            ],
            [
             0.8888888888888888,
             "#fdca26"
            ],
            [
             1,
             "#f0f921"
            ]
           ],
           "sequentialminus": [
            [
             0,
             "#0d0887"
            ],
            [
             0.1111111111111111,
             "#46039f"
            ],
            [
             0.2222222222222222,
             "#7201a8"
            ],
            [
             0.3333333333333333,
             "#9c179e"
            ],
            [
             0.4444444444444444,
             "#bd3786"
            ],
            [
             0.5555555555555556,
             "#d8576b"
            ],
            [
             0.6666666666666666,
             "#ed7953"
            ],
            [
             0.7777777777777778,
             "#fb9f3a"
            ],
            [
             0.8888888888888888,
             "#fdca26"
            ],
            [
             1,
             "#f0f921"
            ]
           ]
          },
          "colorway": [
           "#636efa",
           "#EF553B",
           "#00cc96",
           "#ab63fa",
           "#FFA15A",
           "#19d3f3",
           "#FF6692",
           "#B6E880",
           "#FF97FF",
           "#FECB52"
          ],
          "font": {
           "color": "#2a3f5f"
          },
          "geo": {
           "bgcolor": "white",
           "lakecolor": "white",
           "landcolor": "#E5ECF6",
           "showlakes": true,
           "showland": true,
           "subunitcolor": "white"
          },
          "hoverlabel": {
           "align": "left"
          },
          "hovermode": "closest",
          "mapbox": {
           "style": "light"
          },
          "paper_bgcolor": "white",
          "plot_bgcolor": "#E5ECF6",
          "polar": {
           "angularaxis": {
            "gridcolor": "white",
            "linecolor": "white",
            "ticks": ""
           },
           "bgcolor": "#E5ECF6",
           "radialaxis": {
            "gridcolor": "white",
            "linecolor": "white",
            "ticks": ""
           }
          },
          "scene": {
           "xaxis": {
            "backgroundcolor": "#E5ECF6",
            "gridcolor": "white",
            "gridwidth": 2,
            "linecolor": "white",
            "showbackground": true,
            "ticks": "",
            "zerolinecolor": "white"
           },
           "yaxis": {
            "backgroundcolor": "#E5ECF6",
            "gridcolor": "white",
            "gridwidth": 2,
            "linecolor": "white",
            "showbackground": true,
            "ticks": "",
            "zerolinecolor": "white"
           },
           "zaxis": {
            "backgroundcolor": "#E5ECF6",
            "gridcolor": "white",
            "gridwidth": 2,
            "linecolor": "white",
            "showbackground": true,
            "ticks": "",
            "zerolinecolor": "white"
           }
          },
          "shapedefaults": {
           "line": {
            "color": "#2a3f5f"
           }
          },
          "ternary": {
           "aaxis": {
            "gridcolor": "white",
            "linecolor": "white",
            "ticks": ""
           },
           "baxis": {
            "gridcolor": "white",
            "linecolor": "white",
            "ticks": ""
           },
           "bgcolor": "#E5ECF6",
           "caxis": {
            "gridcolor": "white",
            "linecolor": "white",
            "ticks": ""
           }
          },
          "title": {
           "x": 0.05
          },
          "xaxis": {
           "automargin": true,
           "gridcolor": "white",
           "linecolor": "white",
           "ticks": "",
           "title": {
            "standoff": 15
           },
           "zerolinecolor": "white",
           "zerolinewidth": 2
          },
          "yaxis": {
           "automargin": true,
           "gridcolor": "white",
           "linecolor": "white",
           "ticks": "",
           "title": {
            "standoff": 15
           },
           "zerolinecolor": "white",
           "zerolinewidth": 2
          }
         }
        },
        "title": {
         "font": {
          "color": "#4D5663"
         }
        },
        "xaxis": {
         "gridcolor": "#E1E5ED",
         "showgrid": true,
         "tickfont": {
          "color": "#4D5663"
         },
         "title": {
          "font": {
           "color": "#4D5663"
          },
          "text": ""
         },
         "zerolinecolor": "#E1E5ED"
        },
        "yaxis": {
         "gridcolor": "#E1E5ED",
         "showgrid": true,
         "tickfont": {
          "color": "#4D5663"
         },
         "title": {
          "font": {
           "color": "#4D5663"
          },
          "text": ""
         },
         "zerolinecolor": "#E1E5ED"
        }
       }
      },
      "text/html": [
       "<div>\n",
       "        \n",
       "        \n",
       "            <div id=\"822b026d-43a2-43ab-a098-285a582c44ad\" class=\"plotly-graph-div\" style=\"height:525px; width:100%;\"></div>\n",
       "            <script type=\"text/javascript\">\n",
       "                require([\"plotly\"], function(Plotly) {\n",
       "                    window.PLOTLYENV=window.PLOTLYENV || {};\n",
       "                    window.PLOTLYENV.BASE_URL='https://plotly.com';\n",
       "                    \n",
       "                if (document.getElementById(\"822b026d-43a2-43ab-a098-285a582c44ad\")) {\n",
       "                    Plotly.newPlot(\n",
       "                        '822b026d-43a2-43ab-a098-285a582c44ad',\n",
       "                        [{\"marker\": {\"color\": \"rgba(255, 153, 51, 0.6)\", \"line\": {\"color\": \"rgba(255, 153, 51, 1.0)\", \"width\": 1}}, \"name\": \"Indicator_Name\", \"orientation\": \"v\", \"text\": \"\", \"type\": \"bar\", \"x\": [\"ChildhoodDiseases-Malaria\", \"Inpatient-Malaria\", \"MalariaMicroscopyTests-PlasmodiumFalciparumtestpositive\", \"MalariaMicroscopyTests-PlasmodiumVivaxtestpositive\", \"MalariaRDT-PlamodiumFalciparumtestpositive\", \"MalariaRDT-PlasmodiumVivaxtestpositive\", \"NumberofDeathsduetoMalaria-PlasmodiumFalciparum\", \"NumberofDeathsduetoMalaria-PlasmodiumVivax\", \"RDTconductedforMalaria\", \"TotalBloodSmearsExaminedforMalaria\"], \"y\": [1, 1, 1, 1, 1, 1, 1, 1, 1, 1]}, {\"marker\": {\"color\": \"rgba(55, 128, 191, 0.6)\", \"line\": {\"color\": \"rgba(55, 128, 191, 1.0)\", \"width\": 1}}, \"name\": \"Reported_Value_for_Public_Facility\", \"orientation\": \"v\", \"text\": \"\", \"type\": \"bar\", \"x\": [\"ChildhoodDiseases-Malaria\", \"Inpatient-Malaria\", \"MalariaMicroscopyTests-PlasmodiumFalciparumtestpositive\", \"MalariaMicroscopyTests-PlasmodiumVivaxtestpositive\", \"MalariaRDT-PlamodiumFalciparumtestpositive\", \"MalariaRDT-PlasmodiumVivaxtestpositive\", \"NumberofDeathsduetoMalaria-PlasmodiumFalciparum\", \"NumberofDeathsduetoMalaria-PlasmodiumVivax\", \"RDTconductedforMalaria\", \"TotalBloodSmearsExaminedforMalaria\"], \"y\": [6, 4, 4, 2, 3, 4, 1, 1, 42, 35]}, {\"marker\": {\"color\": \"rgba(50, 171, 96, 0.6)\", \"line\": {\"color\": \"rgba(50, 171, 96, 1.0)\", \"width\": 1}}, \"name\": \"Reported_Value_for_Private_Facility\", \"orientation\": \"v\", \"text\": \"\", \"type\": \"bar\", \"x\": [\"ChildhoodDiseases-Malaria\", \"Inpatient-Malaria\", \"MalariaMicroscopyTests-PlasmodiumFalciparumtestpositive\", \"MalariaMicroscopyTests-PlasmodiumVivaxtestpositive\", \"MalariaRDT-PlamodiumFalciparumtestpositive\", \"MalariaRDT-PlasmodiumVivaxtestpositive\", \"NumberofDeathsduetoMalaria-PlasmodiumFalciparum\", \"NumberofDeathsduetoMalaria-PlasmodiumVivax\", \"RDTconductedforMalaria\", \"TotalBloodSmearsExaminedforMalaria\"], \"y\": [1, 1, 1, 1, 1, 1, 1, 1, 1, 1]}, {\"marker\": {\"color\": \"rgba(128, 0, 128, 0.6)\", \"line\": {\"color\": \"rgba(128, 0, 128, 1.0)\", \"width\": 1}}, \"name\": \"Reported_Value_for_Rural\", \"orientation\": \"v\", \"text\": \"\", \"type\": \"bar\", \"x\": [\"ChildhoodDiseases-Malaria\", \"Inpatient-Malaria\", \"MalariaMicroscopyTests-PlasmodiumFalciparumtestpositive\", \"MalariaMicroscopyTests-PlasmodiumVivaxtestpositive\", \"MalariaRDT-PlamodiumFalciparumtestpositive\", \"MalariaRDT-PlasmodiumVivaxtestpositive\", \"NumberofDeathsduetoMalaria-PlasmodiumFalciparum\", \"NumberofDeathsduetoMalaria-PlasmodiumVivax\", \"RDTconductedforMalaria\", \"TotalBloodSmearsExaminedforMalaria\"], \"y\": [6, 4, 4, 2, 3, 4, 1, 1, 40, 26]}, {\"marker\": {\"color\": \"rgba(219, 64, 82, 0.6)\", \"line\": {\"color\": \"rgba(219, 64, 82, 1.0)\", \"width\": 1}}, \"name\": \"Reported_Value_for_Urban\", \"orientation\": \"v\", \"text\": \"\", \"type\": \"bar\", \"x\": [\"ChildhoodDiseases-Malaria\", \"Inpatient-Malaria\", \"MalariaMicroscopyTests-PlasmodiumFalciparumtestpositive\", \"MalariaMicroscopyTests-PlasmodiumVivaxtestpositive\", \"MalariaRDT-PlamodiumFalciparumtestpositive\", \"MalariaRDT-PlasmodiumVivaxtestpositive\", \"NumberofDeathsduetoMalaria-PlasmodiumFalciparum\", \"NumberofDeathsduetoMalaria-PlasmodiumVivax\", \"RDTconductedforMalaria\", \"TotalBloodSmearsExaminedforMalaria\"], \"y\": [2, 1, 1, 1, 1, 1, 1, 1, 21, 17]}],\n",
       "                        {\"legend\": {\"bgcolor\": \"#F5F6F9\", \"font\": {\"color\": \"#4D5663\"}}, \"paper_bgcolor\": \"#F5F6F9\", \"plot_bgcolor\": \"#F5F6F9\", \"template\": {\"data\": {\"bar\": [{\"error_x\": {\"color\": \"#2a3f5f\"}, \"error_y\": {\"color\": \"#2a3f5f\"}, \"marker\": {\"line\": {\"color\": \"#E5ECF6\", \"width\": 0.5}}, \"type\": \"bar\"}], \"barpolar\": [{\"marker\": {\"line\": {\"color\": \"#E5ECF6\", \"width\": 0.5}}, \"type\": \"barpolar\"}], \"carpet\": [{\"aaxis\": {\"endlinecolor\": \"#2a3f5f\", \"gridcolor\": \"white\", \"linecolor\": \"white\", \"minorgridcolor\": \"white\", \"startlinecolor\": \"#2a3f5f\"}, \"baxis\": {\"endlinecolor\": \"#2a3f5f\", \"gridcolor\": \"white\", \"linecolor\": \"white\", \"minorgridcolor\": \"white\", \"startlinecolor\": \"#2a3f5f\"}, \"type\": \"carpet\"}], \"choropleth\": [{\"colorbar\": {\"outlinewidth\": 0, \"ticks\": \"\"}, \"type\": \"choropleth\"}], \"contour\": [{\"colorbar\": {\"outlinewidth\": 0, \"ticks\": \"\"}, \"colorscale\": [[0.0, \"#0d0887\"], [0.1111111111111111, \"#46039f\"], [0.2222222222222222, \"#7201a8\"], [0.3333333333333333, \"#9c179e\"], [0.4444444444444444, \"#bd3786\"], [0.5555555555555556, \"#d8576b\"], [0.6666666666666666, \"#ed7953\"], [0.7777777777777778, \"#fb9f3a\"], [0.8888888888888888, \"#fdca26\"], [1.0, \"#f0f921\"]], \"type\": \"contour\"}], \"contourcarpet\": [{\"colorbar\": {\"outlinewidth\": 0, \"ticks\": \"\"}, \"type\": \"contourcarpet\"}], \"heatmap\": [{\"colorbar\": {\"outlinewidth\": 0, \"ticks\": \"\"}, \"colorscale\": [[0.0, \"#0d0887\"], [0.1111111111111111, \"#46039f\"], [0.2222222222222222, \"#7201a8\"], [0.3333333333333333, \"#9c179e\"], [0.4444444444444444, \"#bd3786\"], [0.5555555555555556, \"#d8576b\"], [0.6666666666666666, \"#ed7953\"], [0.7777777777777778, \"#fb9f3a\"], [0.8888888888888888, \"#fdca26\"], [1.0, \"#f0f921\"]], \"type\": \"heatmap\"}], \"heatmapgl\": [{\"colorbar\": {\"outlinewidth\": 0, \"ticks\": \"\"}, \"colorscale\": [[0.0, \"#0d0887\"], [0.1111111111111111, \"#46039f\"], [0.2222222222222222, \"#7201a8\"], [0.3333333333333333, \"#9c179e\"], [0.4444444444444444, \"#bd3786\"], [0.5555555555555556, \"#d8576b\"], [0.6666666666666666, \"#ed7953\"], [0.7777777777777778, \"#fb9f3a\"], [0.8888888888888888, \"#fdca26\"], [1.0, \"#f0f921\"]], \"type\": \"heatmapgl\"}], \"histogram\": [{\"marker\": {\"colorbar\": {\"outlinewidth\": 0, \"ticks\": \"\"}}, \"type\": \"histogram\"}], \"histogram2d\": [{\"colorbar\": {\"outlinewidth\": 0, \"ticks\": \"\"}, \"colorscale\": [[0.0, \"#0d0887\"], [0.1111111111111111, \"#46039f\"], [0.2222222222222222, \"#7201a8\"], [0.3333333333333333, \"#9c179e\"], [0.4444444444444444, \"#bd3786\"], [0.5555555555555556, \"#d8576b\"], [0.6666666666666666, \"#ed7953\"], [0.7777777777777778, \"#fb9f3a\"], [0.8888888888888888, \"#fdca26\"], [1.0, \"#f0f921\"]], \"type\": \"histogram2d\"}], \"histogram2dcontour\": [{\"colorbar\": {\"outlinewidth\": 0, \"ticks\": \"\"}, \"colorscale\": [[0.0, \"#0d0887\"], [0.1111111111111111, \"#46039f\"], [0.2222222222222222, \"#7201a8\"], [0.3333333333333333, \"#9c179e\"], [0.4444444444444444, \"#bd3786\"], [0.5555555555555556, \"#d8576b\"], [0.6666666666666666, \"#ed7953\"], [0.7777777777777778, \"#fb9f3a\"], [0.8888888888888888, \"#fdca26\"], [1.0, \"#f0f921\"]], \"type\": \"histogram2dcontour\"}], \"mesh3d\": [{\"colorbar\": {\"outlinewidth\": 0, \"ticks\": \"\"}, \"type\": \"mesh3d\"}], \"parcoords\": [{\"line\": {\"colorbar\": {\"outlinewidth\": 0, \"ticks\": \"\"}}, \"type\": \"parcoords\"}], \"pie\": [{\"automargin\": true, \"type\": \"pie\"}], \"scatter\": [{\"marker\": {\"colorbar\": {\"outlinewidth\": 0, \"ticks\": \"\"}}, \"type\": \"scatter\"}], \"scatter3d\": [{\"line\": {\"colorbar\": {\"outlinewidth\": 0, \"ticks\": \"\"}}, \"marker\": {\"colorbar\": {\"outlinewidth\": 0, \"ticks\": \"\"}}, \"type\": \"scatter3d\"}], \"scattercarpet\": [{\"marker\": {\"colorbar\": {\"outlinewidth\": 0, \"ticks\": \"\"}}, \"type\": \"scattercarpet\"}], \"scattergeo\": [{\"marker\": {\"colorbar\": {\"outlinewidth\": 0, \"ticks\": \"\"}}, \"type\": \"scattergeo\"}], \"scattergl\": [{\"marker\": {\"colorbar\": {\"outlinewidth\": 0, \"ticks\": \"\"}}, \"type\": \"scattergl\"}], \"scattermapbox\": [{\"marker\": {\"colorbar\": {\"outlinewidth\": 0, \"ticks\": \"\"}}, \"type\": \"scattermapbox\"}], \"scatterpolar\": [{\"marker\": {\"colorbar\": {\"outlinewidth\": 0, \"ticks\": \"\"}}, \"type\": \"scatterpolar\"}], \"scatterpolargl\": [{\"marker\": {\"colorbar\": {\"outlinewidth\": 0, \"ticks\": \"\"}}, \"type\": \"scatterpolargl\"}], \"scatterternary\": [{\"marker\": {\"colorbar\": {\"outlinewidth\": 0, \"ticks\": \"\"}}, \"type\": \"scatterternary\"}], \"surface\": [{\"colorbar\": {\"outlinewidth\": 0, \"ticks\": \"\"}, \"colorscale\": [[0.0, \"#0d0887\"], [0.1111111111111111, \"#46039f\"], [0.2222222222222222, \"#7201a8\"], [0.3333333333333333, \"#9c179e\"], [0.4444444444444444, \"#bd3786\"], [0.5555555555555556, \"#d8576b\"], [0.6666666666666666, \"#ed7953\"], [0.7777777777777778, \"#fb9f3a\"], [0.8888888888888888, \"#fdca26\"], [1.0, \"#f0f921\"]], \"type\": \"surface\"}], \"table\": [{\"cells\": {\"fill\": {\"color\": \"#EBF0F8\"}, \"line\": {\"color\": \"white\"}}, \"header\": {\"fill\": {\"color\": \"#C8D4E3\"}, \"line\": {\"color\": \"white\"}}, \"type\": \"table\"}]}, \"layout\": {\"annotationdefaults\": {\"arrowcolor\": \"#2a3f5f\", \"arrowhead\": 0, \"arrowwidth\": 1}, \"coloraxis\": {\"colorbar\": {\"outlinewidth\": 0, \"ticks\": \"\"}}, \"colorscale\": {\"diverging\": [[0, \"#8e0152\"], [0.1, \"#c51b7d\"], [0.2, \"#de77ae\"], [0.3, \"#f1b6da\"], [0.4, \"#fde0ef\"], [0.5, \"#f7f7f7\"], [0.6, \"#e6f5d0\"], [0.7, \"#b8e186\"], [0.8, \"#7fbc41\"], [0.9, \"#4d9221\"], [1, \"#276419\"]], \"sequential\": [[0.0, \"#0d0887\"], [0.1111111111111111, \"#46039f\"], [0.2222222222222222, \"#7201a8\"], [0.3333333333333333, \"#9c179e\"], [0.4444444444444444, \"#bd3786\"], [0.5555555555555556, \"#d8576b\"], [0.6666666666666666, \"#ed7953\"], [0.7777777777777778, \"#fb9f3a\"], [0.8888888888888888, \"#fdca26\"], [1.0, \"#f0f921\"]], \"sequentialminus\": [[0.0, \"#0d0887\"], [0.1111111111111111, \"#46039f\"], [0.2222222222222222, \"#7201a8\"], [0.3333333333333333, \"#9c179e\"], [0.4444444444444444, \"#bd3786\"], [0.5555555555555556, \"#d8576b\"], [0.6666666666666666, \"#ed7953\"], [0.7777777777777778, \"#fb9f3a\"], [0.8888888888888888, \"#fdca26\"], [1.0, \"#f0f921\"]]}, \"colorway\": [\"#636efa\", \"#EF553B\", \"#00cc96\", \"#ab63fa\", \"#FFA15A\", \"#19d3f3\", \"#FF6692\", \"#B6E880\", \"#FF97FF\", \"#FECB52\"], \"font\": {\"color\": \"#2a3f5f\"}, \"geo\": {\"bgcolor\": \"white\", \"lakecolor\": \"white\", \"landcolor\": \"#E5ECF6\", \"showlakes\": true, \"showland\": true, \"subunitcolor\": \"white\"}, \"hoverlabel\": {\"align\": \"left\"}, \"hovermode\": \"closest\", \"mapbox\": {\"style\": \"light\"}, \"paper_bgcolor\": \"white\", \"plot_bgcolor\": \"#E5ECF6\", \"polar\": {\"angularaxis\": {\"gridcolor\": \"white\", \"linecolor\": \"white\", \"ticks\": \"\"}, \"bgcolor\": \"#E5ECF6\", \"radialaxis\": {\"gridcolor\": \"white\", \"linecolor\": \"white\", \"ticks\": \"\"}}, \"scene\": {\"xaxis\": {\"backgroundcolor\": \"#E5ECF6\", \"gridcolor\": \"white\", \"gridwidth\": 2, \"linecolor\": \"white\", \"showbackground\": true, \"ticks\": \"\", \"zerolinecolor\": \"white\"}, \"yaxis\": {\"backgroundcolor\": \"#E5ECF6\", \"gridcolor\": \"white\", \"gridwidth\": 2, \"linecolor\": \"white\", \"showbackground\": true, \"ticks\": \"\", \"zerolinecolor\": \"white\"}, \"zaxis\": {\"backgroundcolor\": \"#E5ECF6\", \"gridcolor\": \"white\", \"gridwidth\": 2, \"linecolor\": \"white\", \"showbackground\": true, \"ticks\": \"\", \"zerolinecolor\": \"white\"}}, \"shapedefaults\": {\"line\": {\"color\": \"#2a3f5f\"}}, \"ternary\": {\"aaxis\": {\"gridcolor\": \"white\", \"linecolor\": \"white\", \"ticks\": \"\"}, \"baxis\": {\"gridcolor\": \"white\", \"linecolor\": \"white\", \"ticks\": \"\"}, \"bgcolor\": \"#E5ECF6\", \"caxis\": {\"gridcolor\": \"white\", \"linecolor\": \"white\", \"ticks\": \"\"}}, \"title\": {\"x\": 0.05}, \"xaxis\": {\"automargin\": true, \"gridcolor\": \"white\", \"linecolor\": \"white\", \"ticks\": \"\", \"title\": {\"standoff\": 15}, \"zerolinecolor\": \"white\", \"zerolinewidth\": 2}, \"yaxis\": {\"automargin\": true, \"gridcolor\": \"white\", \"linecolor\": \"white\", \"ticks\": \"\", \"title\": {\"standoff\": 15}, \"zerolinecolor\": \"white\", \"zerolinewidth\": 2}}}, \"title\": {\"font\": {\"color\": \"#4D5663\"}}, \"xaxis\": {\"gridcolor\": \"#E1E5ED\", \"showgrid\": true, \"tickfont\": {\"color\": \"#4D5663\"}, \"title\": {\"font\": {\"color\": \"#4D5663\"}, \"text\": \"\"}, \"zerolinecolor\": \"#E1E5ED\"}, \"yaxis\": {\"gridcolor\": \"#E1E5ED\", \"showgrid\": true, \"tickfont\": {\"color\": \"#4D5663\"}, \"title\": {\"font\": {\"color\": \"#4D5663\"}, \"text\": \"\"}, \"zerolinecolor\": \"#E1E5ED\"}},\n",
       "                        {\"showLink\": true, \"linkText\": \"Export to plotly.com\", \"plotlyServerURL\": \"https://plotly.com\", \"responsive\": true}\n",
       "                    ).then(function(){\n",
       "                            \n",
       "var gd = document.getElementById('822b026d-43a2-43ab-a098-285a582c44ad');\n",
       "var x = new MutationObserver(function (mutations, observer) {{\n",
       "        var display = window.getComputedStyle(gd).display;\n",
       "        if (!display || display === 'none') {{\n",
       "            console.log([gd, 'removed!']);\n",
       "            Plotly.purge(gd);\n",
       "            observer.disconnect();\n",
       "        }}\n",
       "}});\n",
       "\n",
       "// Listen for the removal of the full notebook cells\n",
       "var notebookContainer = gd.closest('#notebook-container');\n",
       "if (notebookContainer) {{\n",
       "    x.observe(notebookContainer, {childList: true});\n",
       "}}\n",
       "\n",
       "// Listen for the clearing of the current output cell\n",
       "var outputEl = gd.closest('.output');\n",
       "if (outputEl) {{\n",
       "    x.observe(outputEl, {childList: true});\n",
       "}}\n",
       "\n",
       "                        })\n",
       "                };\n",
       "                });\n",
       "            </script>\n",
       "        </div>"
      ]
     },
     "metadata": {},
     "output_type": "display_data"
    }
   ],
   "source": [
    "df_malaria.iplot(kind=\"bar\")"
   ]
  },
  {
   "cell_type": "code",
   "execution_count": 497,
   "metadata": {},
   "outputs": [],
   "source": [
    "df_dengue=df_dengue.drop(['Sub-District','Indicator_Code','Code_And_Section'],axis=1)"
   ]
  },
  {
   "cell_type": "code",
   "execution_count": 498,
   "metadata": {},
   "outputs": [],
   "source": [
    "df_dengue=df_dengue.groupby(['Indicator_Name']).nunique()"
   ]
  },
  {
   "cell_type": "markdown",
   "metadata": {},
   "source": [
    "## Dengue Report "
   ]
  },
  {
   "cell_type": "code",
   "execution_count": 499,
   "metadata": {},
   "outputs": [
    {
     "data": {
      "application/vnd.plotly.v1+json": {
       "config": {
        "linkText": "Export to plotly.com",
        "plotlyServerURL": "https://plotly.com",
        "showLink": true
       },
       "data": [
        {
         "marker": {
          "color": "rgba(255, 153, 51, 0.6)",
          "line": {
           "color": "rgba(255, 153, 51, 1.0)",
           "width": 1
          }
         },
         "name": "Indicator_Name",
         "orientation": "v",
         "text": "",
         "type": "bar",
         "x": [
          "Dengue-Enzyme-LinkedImmunoSorbentAssayELISATestPositive",
          "Dengue-RDTTestPositive",
          "Inpatient-Dengue",
          "NumberofDeathsduetoDengue"
         ],
         "y": [
          1,
          1,
          1,
          1
         ]
        },
        {
         "marker": {
          "color": "rgba(55, 128, 191, 0.6)",
          "line": {
           "color": "rgba(55, 128, 191, 1.0)",
           "width": 1
          }
         },
         "name": "Reported_Value_for_Public_Facility",
         "orientation": "v",
         "text": "",
         "type": "bar",
         "x": [
          "Dengue-Enzyme-LinkedImmunoSorbentAssayELISATestPositive",
          "Dengue-RDTTestPositive",
          "Inpatient-Dengue",
          "NumberofDeathsduetoDengue"
         ],
         "y": [
          3,
          10,
          6,
          1
         ]
        },
        {
         "marker": {
          "color": "rgba(50, 171, 96, 0.6)",
          "line": {
           "color": "rgba(50, 171, 96, 1.0)",
           "width": 1
          }
         },
         "name": "Reported_Value_for_Private_Facility",
         "orientation": "v",
         "text": "",
         "type": "bar",
         "x": [
          "Dengue-Enzyme-LinkedImmunoSorbentAssayELISATestPositive",
          "Dengue-RDTTestPositive",
          "Inpatient-Dengue",
          "NumberofDeathsduetoDengue"
         ],
         "y": [
          1,
          1,
          1,
          1
         ]
        },
        {
         "marker": {
          "color": "rgba(128, 0, 128, 0.6)",
          "line": {
           "color": "rgba(128, 0, 128, 1.0)",
           "width": 1
          }
         },
         "name": "Reported_Value_for_Rural",
         "orientation": "v",
         "text": "",
         "type": "bar",
         "x": [
          "Dengue-Enzyme-LinkedImmunoSorbentAssayELISATestPositive",
          "Dengue-RDTTestPositive",
          "Inpatient-Dengue",
          "NumberofDeathsduetoDengue"
         ],
         "y": [
          3,
          5,
          4,
          1
         ]
        },
        {
         "marker": {
          "color": "rgba(219, 64, 82, 0.6)",
          "line": {
           "color": "rgba(219, 64, 82, 1.0)",
           "width": 1
          }
         },
         "name": "Reported_Value_for_Urban",
         "orientation": "v",
         "text": "",
         "type": "bar",
         "x": [
          "Dengue-Enzyme-LinkedImmunoSorbentAssayELISATestPositive",
          "Dengue-RDTTestPositive",
          "Inpatient-Dengue",
          "NumberofDeathsduetoDengue"
         ],
         "y": [
          1,
          7,
          4,
          1
         ]
        }
       ],
       "layout": {
        "legend": {
         "bgcolor": "#F5F6F9",
         "font": {
          "color": "#4D5663"
         }
        },
        "paper_bgcolor": "#F5F6F9",
        "plot_bgcolor": "#F5F6F9",
        "template": {
         "data": {
          "bar": [
           {
            "error_x": {
             "color": "#2a3f5f"
            },
            "error_y": {
             "color": "#2a3f5f"
            },
            "marker": {
             "line": {
              "color": "#E5ECF6",
              "width": 0.5
             }
            },
            "type": "bar"
           }
          ],
          "barpolar": [
           {
            "marker": {
             "line": {
              "color": "#E5ECF6",
              "width": 0.5
             }
            },
            "type": "barpolar"
           }
          ],
          "carpet": [
           {
            "aaxis": {
             "endlinecolor": "#2a3f5f",
             "gridcolor": "white",
             "linecolor": "white",
             "minorgridcolor": "white",
             "startlinecolor": "#2a3f5f"
            },
            "baxis": {
             "endlinecolor": "#2a3f5f",
             "gridcolor": "white",
             "linecolor": "white",
             "minorgridcolor": "white",
             "startlinecolor": "#2a3f5f"
            },
            "type": "carpet"
           }
          ],
          "choropleth": [
           {
            "colorbar": {
             "outlinewidth": 0,
             "ticks": ""
            },
            "type": "choropleth"
           }
          ],
          "contour": [
           {
            "colorbar": {
             "outlinewidth": 0,
             "ticks": ""
            },
            "colorscale": [
             [
              0,
              "#0d0887"
             ],
             [
              0.1111111111111111,
              "#46039f"
             ],
             [
              0.2222222222222222,
              "#7201a8"
             ],
             [
              0.3333333333333333,
              "#9c179e"
             ],
             [
              0.4444444444444444,
              "#bd3786"
             ],
             [
              0.5555555555555556,
              "#d8576b"
             ],
             [
              0.6666666666666666,
              "#ed7953"
             ],
             [
              0.7777777777777778,
              "#fb9f3a"
             ],
             [
              0.8888888888888888,
              "#fdca26"
             ],
             [
              1,
              "#f0f921"
             ]
            ],
            "type": "contour"
           }
          ],
          "contourcarpet": [
           {
            "colorbar": {
             "outlinewidth": 0,
             "ticks": ""
            },
            "type": "contourcarpet"
           }
          ],
          "heatmap": [
           {
            "colorbar": {
             "outlinewidth": 0,
             "ticks": ""
            },
            "colorscale": [
             [
              0,
              "#0d0887"
             ],
             [
              0.1111111111111111,
              "#46039f"
             ],
             [
              0.2222222222222222,
              "#7201a8"
             ],
             [
              0.3333333333333333,
              "#9c179e"
             ],
             [
              0.4444444444444444,
              "#bd3786"
             ],
             [
              0.5555555555555556,
              "#d8576b"
             ],
             [
              0.6666666666666666,
              "#ed7953"
             ],
             [
              0.7777777777777778,
              "#fb9f3a"
             ],
             [
              0.8888888888888888,
              "#fdca26"
             ],
             [
              1,
              "#f0f921"
             ]
            ],
            "type": "heatmap"
           }
          ],
          "heatmapgl": [
           {
            "colorbar": {
             "outlinewidth": 0,
             "ticks": ""
            },
            "colorscale": [
             [
              0,
              "#0d0887"
             ],
             [
              0.1111111111111111,
              "#46039f"
             ],
             [
              0.2222222222222222,
              "#7201a8"
             ],
             [
              0.3333333333333333,
              "#9c179e"
             ],
             [
              0.4444444444444444,
              "#bd3786"
             ],
             [
              0.5555555555555556,
              "#d8576b"
             ],
             [
              0.6666666666666666,
              "#ed7953"
             ],
             [
              0.7777777777777778,
              "#fb9f3a"
             ],
             [
              0.8888888888888888,
              "#fdca26"
             ],
             [
              1,
              "#f0f921"
             ]
            ],
            "type": "heatmapgl"
           }
          ],
          "histogram": [
           {
            "marker": {
             "colorbar": {
              "outlinewidth": 0,
              "ticks": ""
             }
            },
            "type": "histogram"
           }
          ],
          "histogram2d": [
           {
            "colorbar": {
             "outlinewidth": 0,
             "ticks": ""
            },
            "colorscale": [
             [
              0,
              "#0d0887"
             ],
             [
              0.1111111111111111,
              "#46039f"
             ],
             [
              0.2222222222222222,
              "#7201a8"
             ],
             [
              0.3333333333333333,
              "#9c179e"
             ],
             [
              0.4444444444444444,
              "#bd3786"
             ],
             [
              0.5555555555555556,
              "#d8576b"
             ],
             [
              0.6666666666666666,
              "#ed7953"
             ],
             [
              0.7777777777777778,
              "#fb9f3a"
             ],
             [
              0.8888888888888888,
              "#fdca26"
             ],
             [
              1,
              "#f0f921"
             ]
            ],
            "type": "histogram2d"
           }
          ],
          "histogram2dcontour": [
           {
            "colorbar": {
             "outlinewidth": 0,
             "ticks": ""
            },
            "colorscale": [
             [
              0,
              "#0d0887"
             ],
             [
              0.1111111111111111,
              "#46039f"
             ],
             [
              0.2222222222222222,
              "#7201a8"
             ],
             [
              0.3333333333333333,
              "#9c179e"
             ],
             [
              0.4444444444444444,
              "#bd3786"
             ],
             [
              0.5555555555555556,
              "#d8576b"
             ],
             [
              0.6666666666666666,
              "#ed7953"
             ],
             [
              0.7777777777777778,
              "#fb9f3a"
             ],
             [
              0.8888888888888888,
              "#fdca26"
             ],
             [
              1,
              "#f0f921"
             ]
            ],
            "type": "histogram2dcontour"
           }
          ],
          "mesh3d": [
           {
            "colorbar": {
             "outlinewidth": 0,
             "ticks": ""
            },
            "type": "mesh3d"
           }
          ],
          "parcoords": [
           {
            "line": {
             "colorbar": {
              "outlinewidth": 0,
              "ticks": ""
             }
            },
            "type": "parcoords"
           }
          ],
          "pie": [
           {
            "automargin": true,
            "type": "pie"
           }
          ],
          "scatter": [
           {
            "marker": {
             "colorbar": {
              "outlinewidth": 0,
              "ticks": ""
             }
            },
            "type": "scatter"
           }
          ],
          "scatter3d": [
           {
            "line": {
             "colorbar": {
              "outlinewidth": 0,
              "ticks": ""
             }
            },
            "marker": {
             "colorbar": {
              "outlinewidth": 0,
              "ticks": ""
             }
            },
            "type": "scatter3d"
           }
          ],
          "scattercarpet": [
           {
            "marker": {
             "colorbar": {
              "outlinewidth": 0,
              "ticks": ""
             }
            },
            "type": "scattercarpet"
           }
          ],
          "scattergeo": [
           {
            "marker": {
             "colorbar": {
              "outlinewidth": 0,
              "ticks": ""
             }
            },
            "type": "scattergeo"
           }
          ],
          "scattergl": [
           {
            "marker": {
             "colorbar": {
              "outlinewidth": 0,
              "ticks": ""
             }
            },
            "type": "scattergl"
           }
          ],
          "scattermapbox": [
           {
            "marker": {
             "colorbar": {
              "outlinewidth": 0,
              "ticks": ""
             }
            },
            "type": "scattermapbox"
           }
          ],
          "scatterpolar": [
           {
            "marker": {
             "colorbar": {
              "outlinewidth": 0,
              "ticks": ""
             }
            },
            "type": "scatterpolar"
           }
          ],
          "scatterpolargl": [
           {
            "marker": {
             "colorbar": {
              "outlinewidth": 0,
              "ticks": ""
             }
            },
            "type": "scatterpolargl"
           }
          ],
          "scatterternary": [
           {
            "marker": {
             "colorbar": {
              "outlinewidth": 0,
              "ticks": ""
             }
            },
            "type": "scatterternary"
           }
          ],
          "surface": [
           {
            "colorbar": {
             "outlinewidth": 0,
             "ticks": ""
            },
            "colorscale": [
             [
              0,
              "#0d0887"
             ],
             [
              0.1111111111111111,
              "#46039f"
             ],
             [
              0.2222222222222222,
              "#7201a8"
             ],
             [
              0.3333333333333333,
              "#9c179e"
             ],
             [
              0.4444444444444444,
              "#bd3786"
             ],
             [
              0.5555555555555556,
              "#d8576b"
             ],
             [
              0.6666666666666666,
              "#ed7953"
             ],
             [
              0.7777777777777778,
              "#fb9f3a"
             ],
             [
              0.8888888888888888,
              "#fdca26"
             ],
             [
              1,
              "#f0f921"
             ]
            ],
            "type": "surface"
           }
          ],
          "table": [
           {
            "cells": {
             "fill": {
              "color": "#EBF0F8"
             },
             "line": {
              "color": "white"
             }
            },
            "header": {
             "fill": {
              "color": "#C8D4E3"
             },
             "line": {
              "color": "white"
             }
            },
            "type": "table"
           }
          ]
         },
         "layout": {
          "annotationdefaults": {
           "arrowcolor": "#2a3f5f",
           "arrowhead": 0,
           "arrowwidth": 1
          },
          "coloraxis": {
           "colorbar": {
            "outlinewidth": 0,
            "ticks": ""
           }
          },
          "colorscale": {
           "diverging": [
            [
             0,
             "#8e0152"
            ],
            [
             0.1,
             "#c51b7d"
            ],
            [
             0.2,
             "#de77ae"
            ],
            [
             0.3,
             "#f1b6da"
            ],
            [
             0.4,
             "#fde0ef"
            ],
            [
             0.5,
             "#f7f7f7"
            ],
            [
             0.6,
             "#e6f5d0"
            ],
            [
             0.7,
             "#b8e186"
            ],
            [
             0.8,
             "#7fbc41"
            ],
            [
             0.9,
             "#4d9221"
            ],
            [
             1,
             "#276419"
            ]
           ],
           "sequential": [
            [
             0,
             "#0d0887"
            ],
            [
             0.1111111111111111,
             "#46039f"
            ],
            [
             0.2222222222222222,
             "#7201a8"
            ],
            [
             0.3333333333333333,
             "#9c179e"
            ],
            [
             0.4444444444444444,
             "#bd3786"
            ],
            [
             0.5555555555555556,
             "#d8576b"
            ],
            [
             0.6666666666666666,
             "#ed7953"
            ],
            [
             0.7777777777777778,
             "#fb9f3a"
            ],
            [
             0.8888888888888888,
             "#fdca26"
            ],
            [
             1,
             "#f0f921"
            ]
           ],
           "sequentialminus": [
            [
             0,
             "#0d0887"
            ],
            [
             0.1111111111111111,
             "#46039f"
            ],
            [
             0.2222222222222222,
             "#7201a8"
            ],
            [
             0.3333333333333333,
             "#9c179e"
            ],
            [
             0.4444444444444444,
             "#bd3786"
            ],
            [
             0.5555555555555556,
             "#d8576b"
            ],
            [
             0.6666666666666666,
             "#ed7953"
            ],
            [
             0.7777777777777778,
             "#fb9f3a"
            ],
            [
             0.8888888888888888,
             "#fdca26"
            ],
            [
             1,
             "#f0f921"
            ]
           ]
          },
          "colorway": [
           "#636efa",
           "#EF553B",
           "#00cc96",
           "#ab63fa",
           "#FFA15A",
           "#19d3f3",
           "#FF6692",
           "#B6E880",
           "#FF97FF",
           "#FECB52"
          ],
          "font": {
           "color": "#2a3f5f"
          },
          "geo": {
           "bgcolor": "white",
           "lakecolor": "white",
           "landcolor": "#E5ECF6",
           "showlakes": true,
           "showland": true,
           "subunitcolor": "white"
          },
          "hoverlabel": {
           "align": "left"
          },
          "hovermode": "closest",
          "mapbox": {
           "style": "light"
          },
          "paper_bgcolor": "white",
          "plot_bgcolor": "#E5ECF6",
          "polar": {
           "angularaxis": {
            "gridcolor": "white",
            "linecolor": "white",
            "ticks": ""
           },
           "bgcolor": "#E5ECF6",
           "radialaxis": {
            "gridcolor": "white",
            "linecolor": "white",
            "ticks": ""
           }
          },
          "scene": {
           "xaxis": {
            "backgroundcolor": "#E5ECF6",
            "gridcolor": "white",
            "gridwidth": 2,
            "linecolor": "white",
            "showbackground": true,
            "ticks": "",
            "zerolinecolor": "white"
           },
           "yaxis": {
            "backgroundcolor": "#E5ECF6",
            "gridcolor": "white",
            "gridwidth": 2,
            "linecolor": "white",
            "showbackground": true,
            "ticks": "",
            "zerolinecolor": "white"
           },
           "zaxis": {
            "backgroundcolor": "#E5ECF6",
            "gridcolor": "white",
            "gridwidth": 2,
            "linecolor": "white",
            "showbackground": true,
            "ticks": "",
            "zerolinecolor": "white"
           }
          },
          "shapedefaults": {
           "line": {
            "color": "#2a3f5f"
           }
          },
          "ternary": {
           "aaxis": {
            "gridcolor": "white",
            "linecolor": "white",
            "ticks": ""
           },
           "baxis": {
            "gridcolor": "white",
            "linecolor": "white",
            "ticks": ""
           },
           "bgcolor": "#E5ECF6",
           "caxis": {
            "gridcolor": "white",
            "linecolor": "white",
            "ticks": ""
           }
          },
          "title": {
           "x": 0.05
          },
          "xaxis": {
           "automargin": true,
           "gridcolor": "white",
           "linecolor": "white",
           "ticks": "",
           "title": {
            "standoff": 15
           },
           "zerolinecolor": "white",
           "zerolinewidth": 2
          },
          "yaxis": {
           "automargin": true,
           "gridcolor": "white",
           "linecolor": "white",
           "ticks": "",
           "title": {
            "standoff": 15
           },
           "zerolinecolor": "white",
           "zerolinewidth": 2
          }
         }
        },
        "title": {
         "font": {
          "color": "#4D5663"
         }
        },
        "xaxis": {
         "gridcolor": "#E1E5ED",
         "showgrid": true,
         "tickfont": {
          "color": "#4D5663"
         },
         "title": {
          "font": {
           "color": "#4D5663"
          },
          "text": ""
         },
         "zerolinecolor": "#E1E5ED"
        },
        "yaxis": {
         "gridcolor": "#E1E5ED",
         "showgrid": true,
         "tickfont": {
          "color": "#4D5663"
         },
         "title": {
          "font": {
           "color": "#4D5663"
          },
          "text": ""
         },
         "zerolinecolor": "#E1E5ED"
        }
       }
      },
      "text/html": [
       "<div>\n",
       "        \n",
       "        \n",
       "            <div id=\"8d8d65ed-8734-4f33-82ed-d7548429a75f\" class=\"plotly-graph-div\" style=\"height:525px; width:100%;\"></div>\n",
       "            <script type=\"text/javascript\">\n",
       "                require([\"plotly\"], function(Plotly) {\n",
       "                    window.PLOTLYENV=window.PLOTLYENV || {};\n",
       "                    window.PLOTLYENV.BASE_URL='https://plotly.com';\n",
       "                    \n",
       "                if (document.getElementById(\"8d8d65ed-8734-4f33-82ed-d7548429a75f\")) {\n",
       "                    Plotly.newPlot(\n",
       "                        '8d8d65ed-8734-4f33-82ed-d7548429a75f',\n",
       "                        [{\"marker\": {\"color\": \"rgba(255, 153, 51, 0.6)\", \"line\": {\"color\": \"rgba(255, 153, 51, 1.0)\", \"width\": 1}}, \"name\": \"Indicator_Name\", \"orientation\": \"v\", \"text\": \"\", \"type\": \"bar\", \"x\": [\"Dengue-Enzyme-LinkedImmunoSorbentAssayELISATestPositive\", \"Dengue-RDTTestPositive\", \"Inpatient-Dengue\", \"NumberofDeathsduetoDengue\"], \"y\": [1, 1, 1, 1]}, {\"marker\": {\"color\": \"rgba(55, 128, 191, 0.6)\", \"line\": {\"color\": \"rgba(55, 128, 191, 1.0)\", \"width\": 1}}, \"name\": \"Reported_Value_for_Public_Facility\", \"orientation\": \"v\", \"text\": \"\", \"type\": \"bar\", \"x\": [\"Dengue-Enzyme-LinkedImmunoSorbentAssayELISATestPositive\", \"Dengue-RDTTestPositive\", \"Inpatient-Dengue\", \"NumberofDeathsduetoDengue\"], \"y\": [3, 10, 6, 1]}, {\"marker\": {\"color\": \"rgba(50, 171, 96, 0.6)\", \"line\": {\"color\": \"rgba(50, 171, 96, 1.0)\", \"width\": 1}}, \"name\": \"Reported_Value_for_Private_Facility\", \"orientation\": \"v\", \"text\": \"\", \"type\": \"bar\", \"x\": [\"Dengue-Enzyme-LinkedImmunoSorbentAssayELISATestPositive\", \"Dengue-RDTTestPositive\", \"Inpatient-Dengue\", \"NumberofDeathsduetoDengue\"], \"y\": [1, 1, 1, 1]}, {\"marker\": {\"color\": \"rgba(128, 0, 128, 0.6)\", \"line\": {\"color\": \"rgba(128, 0, 128, 1.0)\", \"width\": 1}}, \"name\": \"Reported_Value_for_Rural\", \"orientation\": \"v\", \"text\": \"\", \"type\": \"bar\", \"x\": [\"Dengue-Enzyme-LinkedImmunoSorbentAssayELISATestPositive\", \"Dengue-RDTTestPositive\", \"Inpatient-Dengue\", \"NumberofDeathsduetoDengue\"], \"y\": [3, 5, 4, 1]}, {\"marker\": {\"color\": \"rgba(219, 64, 82, 0.6)\", \"line\": {\"color\": \"rgba(219, 64, 82, 1.0)\", \"width\": 1}}, \"name\": \"Reported_Value_for_Urban\", \"orientation\": \"v\", \"text\": \"\", \"type\": \"bar\", \"x\": [\"Dengue-Enzyme-LinkedImmunoSorbentAssayELISATestPositive\", \"Dengue-RDTTestPositive\", \"Inpatient-Dengue\", \"NumberofDeathsduetoDengue\"], \"y\": [1, 7, 4, 1]}],\n",
       "                        {\"legend\": {\"bgcolor\": \"#F5F6F9\", \"font\": {\"color\": \"#4D5663\"}}, \"paper_bgcolor\": \"#F5F6F9\", \"plot_bgcolor\": \"#F5F6F9\", \"template\": {\"data\": {\"bar\": [{\"error_x\": {\"color\": \"#2a3f5f\"}, \"error_y\": {\"color\": \"#2a3f5f\"}, \"marker\": {\"line\": {\"color\": \"#E5ECF6\", \"width\": 0.5}}, \"type\": \"bar\"}], \"barpolar\": [{\"marker\": {\"line\": {\"color\": \"#E5ECF6\", \"width\": 0.5}}, \"type\": \"barpolar\"}], \"carpet\": [{\"aaxis\": {\"endlinecolor\": \"#2a3f5f\", \"gridcolor\": \"white\", \"linecolor\": \"white\", \"minorgridcolor\": \"white\", \"startlinecolor\": \"#2a3f5f\"}, \"baxis\": {\"endlinecolor\": \"#2a3f5f\", \"gridcolor\": \"white\", \"linecolor\": \"white\", \"minorgridcolor\": \"white\", \"startlinecolor\": \"#2a3f5f\"}, \"type\": \"carpet\"}], \"choropleth\": [{\"colorbar\": {\"outlinewidth\": 0, \"ticks\": \"\"}, \"type\": \"choropleth\"}], \"contour\": [{\"colorbar\": {\"outlinewidth\": 0, \"ticks\": \"\"}, \"colorscale\": [[0.0, \"#0d0887\"], [0.1111111111111111, \"#46039f\"], [0.2222222222222222, \"#7201a8\"], [0.3333333333333333, \"#9c179e\"], [0.4444444444444444, \"#bd3786\"], [0.5555555555555556, \"#d8576b\"], [0.6666666666666666, \"#ed7953\"], [0.7777777777777778, \"#fb9f3a\"], [0.8888888888888888, \"#fdca26\"], [1.0, \"#f0f921\"]], \"type\": \"contour\"}], \"contourcarpet\": [{\"colorbar\": {\"outlinewidth\": 0, \"ticks\": \"\"}, \"type\": \"contourcarpet\"}], \"heatmap\": [{\"colorbar\": {\"outlinewidth\": 0, \"ticks\": \"\"}, \"colorscale\": [[0.0, \"#0d0887\"], [0.1111111111111111, \"#46039f\"], [0.2222222222222222, \"#7201a8\"], [0.3333333333333333, \"#9c179e\"], [0.4444444444444444, \"#bd3786\"], [0.5555555555555556, \"#d8576b\"], [0.6666666666666666, \"#ed7953\"], [0.7777777777777778, \"#fb9f3a\"], [0.8888888888888888, \"#fdca26\"], [1.0, \"#f0f921\"]], \"type\": \"heatmap\"}], \"heatmapgl\": [{\"colorbar\": {\"outlinewidth\": 0, \"ticks\": \"\"}, \"colorscale\": [[0.0, \"#0d0887\"], [0.1111111111111111, \"#46039f\"], [0.2222222222222222, \"#7201a8\"], [0.3333333333333333, \"#9c179e\"], [0.4444444444444444, \"#bd3786\"], [0.5555555555555556, \"#d8576b\"], [0.6666666666666666, \"#ed7953\"], [0.7777777777777778, \"#fb9f3a\"], [0.8888888888888888, \"#fdca26\"], [1.0, \"#f0f921\"]], \"type\": \"heatmapgl\"}], \"histogram\": [{\"marker\": {\"colorbar\": {\"outlinewidth\": 0, \"ticks\": \"\"}}, \"type\": \"histogram\"}], \"histogram2d\": [{\"colorbar\": {\"outlinewidth\": 0, \"ticks\": \"\"}, \"colorscale\": [[0.0, \"#0d0887\"], [0.1111111111111111, \"#46039f\"], [0.2222222222222222, \"#7201a8\"], [0.3333333333333333, \"#9c179e\"], [0.4444444444444444, \"#bd3786\"], [0.5555555555555556, \"#d8576b\"], [0.6666666666666666, \"#ed7953\"], [0.7777777777777778, \"#fb9f3a\"], [0.8888888888888888, \"#fdca26\"], [1.0, \"#f0f921\"]], \"type\": \"histogram2d\"}], \"histogram2dcontour\": [{\"colorbar\": {\"outlinewidth\": 0, \"ticks\": \"\"}, \"colorscale\": [[0.0, \"#0d0887\"], [0.1111111111111111, \"#46039f\"], [0.2222222222222222, \"#7201a8\"], [0.3333333333333333, \"#9c179e\"], [0.4444444444444444, \"#bd3786\"], [0.5555555555555556, \"#d8576b\"], [0.6666666666666666, \"#ed7953\"], [0.7777777777777778, \"#fb9f3a\"], [0.8888888888888888, \"#fdca26\"], [1.0, \"#f0f921\"]], \"type\": \"histogram2dcontour\"}], \"mesh3d\": [{\"colorbar\": {\"outlinewidth\": 0, \"ticks\": \"\"}, \"type\": \"mesh3d\"}], \"parcoords\": [{\"line\": {\"colorbar\": {\"outlinewidth\": 0, \"ticks\": \"\"}}, \"type\": \"parcoords\"}], \"pie\": [{\"automargin\": true, \"type\": \"pie\"}], \"scatter\": [{\"marker\": {\"colorbar\": {\"outlinewidth\": 0, \"ticks\": \"\"}}, \"type\": \"scatter\"}], \"scatter3d\": [{\"line\": {\"colorbar\": {\"outlinewidth\": 0, \"ticks\": \"\"}}, \"marker\": {\"colorbar\": {\"outlinewidth\": 0, \"ticks\": \"\"}}, \"type\": \"scatter3d\"}], \"scattercarpet\": [{\"marker\": {\"colorbar\": {\"outlinewidth\": 0, \"ticks\": \"\"}}, \"type\": \"scattercarpet\"}], \"scattergeo\": [{\"marker\": {\"colorbar\": {\"outlinewidth\": 0, \"ticks\": \"\"}}, \"type\": \"scattergeo\"}], \"scattergl\": [{\"marker\": {\"colorbar\": {\"outlinewidth\": 0, \"ticks\": \"\"}}, \"type\": \"scattergl\"}], \"scattermapbox\": [{\"marker\": {\"colorbar\": {\"outlinewidth\": 0, \"ticks\": \"\"}}, \"type\": \"scattermapbox\"}], \"scatterpolar\": [{\"marker\": {\"colorbar\": {\"outlinewidth\": 0, \"ticks\": \"\"}}, \"type\": \"scatterpolar\"}], \"scatterpolargl\": [{\"marker\": {\"colorbar\": {\"outlinewidth\": 0, \"ticks\": \"\"}}, \"type\": \"scatterpolargl\"}], \"scatterternary\": [{\"marker\": {\"colorbar\": {\"outlinewidth\": 0, \"ticks\": \"\"}}, \"type\": \"scatterternary\"}], \"surface\": [{\"colorbar\": {\"outlinewidth\": 0, \"ticks\": \"\"}, \"colorscale\": [[0.0, \"#0d0887\"], [0.1111111111111111, \"#46039f\"], [0.2222222222222222, \"#7201a8\"], [0.3333333333333333, \"#9c179e\"], [0.4444444444444444, \"#bd3786\"], [0.5555555555555556, \"#d8576b\"], [0.6666666666666666, \"#ed7953\"], [0.7777777777777778, \"#fb9f3a\"], [0.8888888888888888, \"#fdca26\"], [1.0, \"#f0f921\"]], \"type\": \"surface\"}], \"table\": [{\"cells\": {\"fill\": {\"color\": \"#EBF0F8\"}, \"line\": {\"color\": \"white\"}}, \"header\": {\"fill\": {\"color\": \"#C8D4E3\"}, \"line\": {\"color\": \"white\"}}, \"type\": \"table\"}]}, \"layout\": {\"annotationdefaults\": {\"arrowcolor\": \"#2a3f5f\", \"arrowhead\": 0, \"arrowwidth\": 1}, \"coloraxis\": {\"colorbar\": {\"outlinewidth\": 0, \"ticks\": \"\"}}, \"colorscale\": {\"diverging\": [[0, \"#8e0152\"], [0.1, \"#c51b7d\"], [0.2, \"#de77ae\"], [0.3, \"#f1b6da\"], [0.4, \"#fde0ef\"], [0.5, \"#f7f7f7\"], [0.6, \"#e6f5d0\"], [0.7, \"#b8e186\"], [0.8, \"#7fbc41\"], [0.9, \"#4d9221\"], [1, \"#276419\"]], \"sequential\": [[0.0, \"#0d0887\"], [0.1111111111111111, \"#46039f\"], [0.2222222222222222, \"#7201a8\"], [0.3333333333333333, \"#9c179e\"], [0.4444444444444444, \"#bd3786\"], [0.5555555555555556, \"#d8576b\"], [0.6666666666666666, \"#ed7953\"], [0.7777777777777778, \"#fb9f3a\"], [0.8888888888888888, \"#fdca26\"], [1.0, \"#f0f921\"]], \"sequentialminus\": [[0.0, \"#0d0887\"], [0.1111111111111111, \"#46039f\"], [0.2222222222222222, \"#7201a8\"], [0.3333333333333333, \"#9c179e\"], [0.4444444444444444, \"#bd3786\"], [0.5555555555555556, \"#d8576b\"], [0.6666666666666666, \"#ed7953\"], [0.7777777777777778, \"#fb9f3a\"], [0.8888888888888888, \"#fdca26\"], [1.0, \"#f0f921\"]]}, \"colorway\": [\"#636efa\", \"#EF553B\", \"#00cc96\", \"#ab63fa\", \"#FFA15A\", \"#19d3f3\", \"#FF6692\", \"#B6E880\", \"#FF97FF\", \"#FECB52\"], \"font\": {\"color\": \"#2a3f5f\"}, \"geo\": {\"bgcolor\": \"white\", \"lakecolor\": \"white\", \"landcolor\": \"#E5ECF6\", \"showlakes\": true, \"showland\": true, \"subunitcolor\": \"white\"}, \"hoverlabel\": {\"align\": \"left\"}, \"hovermode\": \"closest\", \"mapbox\": {\"style\": \"light\"}, \"paper_bgcolor\": \"white\", \"plot_bgcolor\": \"#E5ECF6\", \"polar\": {\"angularaxis\": {\"gridcolor\": \"white\", \"linecolor\": \"white\", \"ticks\": \"\"}, \"bgcolor\": \"#E5ECF6\", \"radialaxis\": {\"gridcolor\": \"white\", \"linecolor\": \"white\", \"ticks\": \"\"}}, \"scene\": {\"xaxis\": {\"backgroundcolor\": \"#E5ECF6\", \"gridcolor\": \"white\", \"gridwidth\": 2, \"linecolor\": \"white\", \"showbackground\": true, \"ticks\": \"\", \"zerolinecolor\": \"white\"}, \"yaxis\": {\"backgroundcolor\": \"#E5ECF6\", \"gridcolor\": \"white\", \"gridwidth\": 2, \"linecolor\": \"white\", \"showbackground\": true, \"ticks\": \"\", \"zerolinecolor\": \"white\"}, \"zaxis\": {\"backgroundcolor\": \"#E5ECF6\", \"gridcolor\": \"white\", \"gridwidth\": 2, \"linecolor\": \"white\", \"showbackground\": true, \"ticks\": \"\", \"zerolinecolor\": \"white\"}}, \"shapedefaults\": {\"line\": {\"color\": \"#2a3f5f\"}}, \"ternary\": {\"aaxis\": {\"gridcolor\": \"white\", \"linecolor\": \"white\", \"ticks\": \"\"}, \"baxis\": {\"gridcolor\": \"white\", \"linecolor\": \"white\", \"ticks\": \"\"}, \"bgcolor\": \"#E5ECF6\", \"caxis\": {\"gridcolor\": \"white\", \"linecolor\": \"white\", \"ticks\": \"\"}}, \"title\": {\"x\": 0.05}, \"xaxis\": {\"automargin\": true, \"gridcolor\": \"white\", \"linecolor\": \"white\", \"ticks\": \"\", \"title\": {\"standoff\": 15}, \"zerolinecolor\": \"white\", \"zerolinewidth\": 2}, \"yaxis\": {\"automargin\": true, \"gridcolor\": \"white\", \"linecolor\": \"white\", \"ticks\": \"\", \"title\": {\"standoff\": 15}, \"zerolinecolor\": \"white\", \"zerolinewidth\": 2}}}, \"title\": {\"font\": {\"color\": \"#4D5663\"}}, \"xaxis\": {\"gridcolor\": \"#E1E5ED\", \"showgrid\": true, \"tickfont\": {\"color\": \"#4D5663\"}, \"title\": {\"font\": {\"color\": \"#4D5663\"}, \"text\": \"\"}, \"zerolinecolor\": \"#E1E5ED\"}, \"yaxis\": {\"gridcolor\": \"#E1E5ED\", \"showgrid\": true, \"tickfont\": {\"color\": \"#4D5663\"}, \"title\": {\"font\": {\"color\": \"#4D5663\"}, \"text\": \"\"}, \"zerolinecolor\": \"#E1E5ED\"}},\n",
       "                        {\"showLink\": true, \"linkText\": \"Export to plotly.com\", \"plotlyServerURL\": \"https://plotly.com\", \"responsive\": true}\n",
       "                    ).then(function(){\n",
       "                            \n",
       "var gd = document.getElementById('8d8d65ed-8734-4f33-82ed-d7548429a75f');\n",
       "var x = new MutationObserver(function (mutations, observer) {{\n",
       "        var display = window.getComputedStyle(gd).display;\n",
       "        if (!display || display === 'none') {{\n",
       "            console.log([gd, 'removed!']);\n",
       "            Plotly.purge(gd);\n",
       "            observer.disconnect();\n",
       "        }}\n",
       "}});\n",
       "\n",
       "// Listen for the removal of the full notebook cells\n",
       "var notebookContainer = gd.closest('#notebook-container');\n",
       "if (notebookContainer) {{\n",
       "    x.observe(notebookContainer, {childList: true});\n",
       "}}\n",
       "\n",
       "// Listen for the clearing of the current output cell\n",
       "var outputEl = gd.closest('.output');\n",
       "if (outputEl) {{\n",
       "    x.observe(outputEl, {childList: true});\n",
       "}}\n",
       "\n",
       "                        })\n",
       "                };\n",
       "                });\n",
       "            </script>\n",
       "        </div>"
      ]
     },
     "metadata": {},
     "output_type": "display_data"
    }
   ],
   "source": [
    "df_dengue.iplot(kind=\"bar\")"
   ]
  },
  {
   "cell_type": "code",
   "execution_count": null,
   "metadata": {},
   "outputs": [],
   "source": []
  },
  {
   "cell_type": "markdown",
   "metadata": {},
   "source": [
    "## Diseases among Children"
   ]
  },
  {
   "cell_type": "code",
   "execution_count": 506,
   "metadata": {},
   "outputs": [],
   "source": [
    "df_child=df_child.groupby(['Indicator_Name']).nunique()"
   ]
  },
  {
   "cell_type": "code",
   "execution_count": 512,
   "metadata": {},
   "outputs": [],
   "source": [
    "df_child=df_child.drop(['Sub-District','Indicator_Code','Code_And_Section'],axis=1)"
   ]
  },
  {
   "cell_type": "code",
   "execution_count": 513,
   "metadata": {},
   "outputs": [
    {
     "data": {
      "application/vnd.plotly.v1+json": {
       "config": {
        "linkText": "Export to plotly.com",
        "plotlyServerURL": "https://plotly.com",
        "showLink": true
       },
       "data": [
        {
         "marker": {
          "color": "rgba(255, 153, 51, 0.6)",
          "line": {
           "color": "rgba(255, 153, 51, 1.0)",
           "width": 1
          }
         },
         "name": "Indicator_Name",
         "orientation": "v",
         "text": "",
         "type": "bar",
         "x": [
          "ChildhoodDiseases-AcuteFlaccidParalysisAFP",
          "ChildhoodDiseases-Asthma",
          "ChildhoodDiseases-Diarrhoea",
          "ChildhoodDiseases-DiarrhoeatreatedinInpatients",
          "ChildhoodDiseases-Diphtheria",
          "ChildhoodDiseases-Malaria",
          "ChildhoodDiseases-Measles",
          "ChildhoodDiseases-Pertussis",
          "ChildhoodDiseases-Pneumonia",
          "ChildhoodDiseases-Sepsis",
          "ChildhoodDiseases-SevereAcuteMalnutritionSAM",
          "ChildhoodDiseases-TetanusNeonatorum",
          "ChildhoodDiseases-TuberculosisTB",
          "Childrenadmittedwithupperrespiratoryinfections",
          "InpatientFemale-Children18yrs",
          "InpatientMale-Children18yrs",
          "NumberofChildDeaths1-5yearsduetoDiarrhoea",
          "NumberofChildDeaths1-5yearsduetoFeverrelated",
          "NumberofChildDeaths1-5yearsduetoMeasles",
          "NumberofChildDeaths1-5yearsduetoOthers",
          "NumberofChildDeaths1-5yearsduetoPneumonia"
         ],
         "y": [
          1,
          1,
          1,
          1,
          1,
          1,
          1,
          1,
          1,
          1,
          1,
          1,
          1,
          1,
          1,
          1,
          1,
          1,
          1,
          1,
          1
         ]
        },
        {
         "marker": {
          "color": "rgba(55, 128, 191, 0.6)",
          "line": {
           "color": "rgba(55, 128, 191, 1.0)",
           "width": 1
          }
         },
         "name": "Reported_Value_for_Public_Facility",
         "orientation": "v",
         "text": "",
         "type": "bar",
         "x": [
          "ChildhoodDiseases-AcuteFlaccidParalysisAFP",
          "ChildhoodDiseases-Asthma",
          "ChildhoodDiseases-Diarrhoea",
          "ChildhoodDiseases-DiarrhoeatreatedinInpatients",
          "ChildhoodDiseases-Diphtheria",
          "ChildhoodDiseases-Malaria",
          "ChildhoodDiseases-Measles",
          "ChildhoodDiseases-Pertussis",
          "ChildhoodDiseases-Pneumonia",
          "ChildhoodDiseases-Sepsis",
          "ChildhoodDiseases-SevereAcuteMalnutritionSAM",
          "ChildhoodDiseases-TetanusNeonatorum",
          "ChildhoodDiseases-TuberculosisTB",
          "Childrenadmittedwithupperrespiratoryinfections",
          "InpatientFemale-Children18yrs",
          "InpatientMale-Children18yrs",
          "NumberofChildDeaths1-5yearsduetoDiarrhoea",
          "NumberofChildDeaths1-5yearsduetoFeverrelated",
          "NumberofChildDeaths1-5yearsduetoMeasles",
          "NumberofChildDeaths1-5yearsduetoOthers",
          "NumberofChildDeaths1-5yearsduetoPneumonia"
         ],
         "y": [
          4,
          8,
          39,
          22,
          8,
          6,
          7,
          1,
          8,
          3,
          5,
          2,
          16,
          11,
          135,
          149,
          2,
          2,
          1,
          5,
          2
         ]
        },
        {
         "marker": {
          "color": "rgba(50, 171, 96, 0.6)",
          "line": {
           "color": "rgba(50, 171, 96, 1.0)",
           "width": 1
          }
         },
         "name": "Reported_Value_for_Private_Facility",
         "orientation": "v",
         "text": "",
         "type": "bar",
         "x": [
          "ChildhoodDiseases-AcuteFlaccidParalysisAFP",
          "ChildhoodDiseases-Asthma",
          "ChildhoodDiseases-Diarrhoea",
          "ChildhoodDiseases-DiarrhoeatreatedinInpatients",
          "ChildhoodDiseases-Diphtheria",
          "ChildhoodDiseases-Malaria",
          "ChildhoodDiseases-Measles",
          "ChildhoodDiseases-Pertussis",
          "ChildhoodDiseases-Pneumonia",
          "ChildhoodDiseases-Sepsis",
          "ChildhoodDiseases-SevereAcuteMalnutritionSAM",
          "ChildhoodDiseases-TetanusNeonatorum",
          "ChildhoodDiseases-TuberculosisTB",
          "Childrenadmittedwithupperrespiratoryinfections",
          "InpatientFemale-Children18yrs",
          "InpatientMale-Children18yrs",
          "NumberofChildDeaths1-5yearsduetoDiarrhoea",
          "NumberofChildDeaths1-5yearsduetoFeverrelated",
          "NumberofChildDeaths1-5yearsduetoMeasles",
          "NumberofChildDeaths1-5yearsduetoOthers",
          "NumberofChildDeaths1-5yearsduetoPneumonia"
         ],
         "y": [
          1,
          1,
          1,
          1,
          1,
          1,
          1,
          1,
          1,
          1,
          1,
          1,
          1,
          1,
          1,
          1,
          1,
          1,
          1,
          1,
          1
         ]
        },
        {
         "marker": {
          "color": "rgba(128, 0, 128, 0.6)",
          "line": {
           "color": "rgba(128, 0, 128, 1.0)",
           "width": 1
          }
         },
         "name": "Reported_Value_for_Rural",
         "orientation": "v",
         "text": "",
         "type": "bar",
         "x": [
          "ChildhoodDiseases-AcuteFlaccidParalysisAFP",
          "ChildhoodDiseases-Asthma",
          "ChildhoodDiseases-Diarrhoea",
          "ChildhoodDiseases-DiarrhoeatreatedinInpatients",
          "ChildhoodDiseases-Diphtheria",
          "ChildhoodDiseases-Malaria",
          "ChildhoodDiseases-Measles",
          "ChildhoodDiseases-Pertussis",
          "ChildhoodDiseases-Pneumonia",
          "ChildhoodDiseases-Sepsis",
          "ChildhoodDiseases-SevereAcuteMalnutritionSAM",
          "ChildhoodDiseases-TetanusNeonatorum",
          "ChildhoodDiseases-TuberculosisTB",
          "Childrenadmittedwithupperrespiratoryinfections",
          "InpatientFemale-Children18yrs",
          "InpatientMale-Children18yrs",
          "NumberofChildDeaths1-5yearsduetoDiarrhoea",
          "NumberofChildDeaths1-5yearsduetoFeverrelated",
          "NumberofChildDeaths1-5yearsduetoMeasles",
          "NumberofChildDeaths1-5yearsduetoOthers",
          "NumberofChildDeaths1-5yearsduetoPneumonia"
         ],
         "y": [
          4,
          4,
          30,
          17,
          7,
          6,
          6,
          1,
          7,
          3,
          5,
          2,
          8,
          7,
          100,
          111,
          1,
          2,
          1,
          4,
          1
         ]
        },
        {
         "marker": {
          "color": "rgba(219, 64, 82, 0.6)",
          "line": {
           "color": "rgba(219, 64, 82, 1.0)",
           "width": 1
          }
         },
         "name": "Reported_Value_for_Urban",
         "orientation": "v",
         "text": "",
         "type": "bar",
         "x": [
          "ChildhoodDiseases-AcuteFlaccidParalysisAFP",
          "ChildhoodDiseases-Asthma",
          "ChildhoodDiseases-Diarrhoea",
          "ChildhoodDiseases-DiarrhoeatreatedinInpatients",
          "ChildhoodDiseases-Diphtheria",
          "ChildhoodDiseases-Malaria",
          "ChildhoodDiseases-Measles",
          "ChildhoodDiseases-Pertussis",
          "ChildhoodDiseases-Pneumonia",
          "ChildhoodDiseases-Sepsis",
          "ChildhoodDiseases-SevereAcuteMalnutritionSAM",
          "ChildhoodDiseases-TetanusNeonatorum",
          "ChildhoodDiseases-TuberculosisTB",
          "Childrenadmittedwithupperrespiratoryinfections",
          "InpatientFemale-Children18yrs",
          "InpatientMale-Children18yrs",
          "NumberofChildDeaths1-5yearsduetoDiarrhoea",
          "NumberofChildDeaths1-5yearsduetoFeverrelated",
          "NumberofChildDeaths1-5yearsduetoMeasles",
          "NumberofChildDeaths1-5yearsduetoOthers",
          "NumberofChildDeaths1-5yearsduetoPneumonia"
         ],
         "y": [
          1,
          5,
          19,
          8,
          2,
          2,
          2,
          1,
          5,
          1,
          3,
          1,
          12,
          9,
          73,
          76,
          2,
          1,
          1,
          4,
          2
         ]
        }
       ],
       "layout": {
        "legend": {
         "bgcolor": "#F5F6F9",
         "font": {
          "color": "#4D5663"
         }
        },
        "paper_bgcolor": "#F5F6F9",
        "plot_bgcolor": "#F5F6F9",
        "template": {
         "data": {
          "bar": [
           {
            "error_x": {
             "color": "#2a3f5f"
            },
            "error_y": {
             "color": "#2a3f5f"
            },
            "marker": {
             "line": {
              "color": "#E5ECF6",
              "width": 0.5
             }
            },
            "type": "bar"
           }
          ],
          "barpolar": [
           {
            "marker": {
             "line": {
              "color": "#E5ECF6",
              "width": 0.5
             }
            },
            "type": "barpolar"
           }
          ],
          "carpet": [
           {
            "aaxis": {
             "endlinecolor": "#2a3f5f",
             "gridcolor": "white",
             "linecolor": "white",
             "minorgridcolor": "white",
             "startlinecolor": "#2a3f5f"
            },
            "baxis": {
             "endlinecolor": "#2a3f5f",
             "gridcolor": "white",
             "linecolor": "white",
             "minorgridcolor": "white",
             "startlinecolor": "#2a3f5f"
            },
            "type": "carpet"
           }
          ],
          "choropleth": [
           {
            "colorbar": {
             "outlinewidth": 0,
             "ticks": ""
            },
            "type": "choropleth"
           }
          ],
          "contour": [
           {
            "colorbar": {
             "outlinewidth": 0,
             "ticks": ""
            },
            "colorscale": [
             [
              0,
              "#0d0887"
             ],
             [
              0.1111111111111111,
              "#46039f"
             ],
             [
              0.2222222222222222,
              "#7201a8"
             ],
             [
              0.3333333333333333,
              "#9c179e"
             ],
             [
              0.4444444444444444,
              "#bd3786"
             ],
             [
              0.5555555555555556,
              "#d8576b"
             ],
             [
              0.6666666666666666,
              "#ed7953"
             ],
             [
              0.7777777777777778,
              "#fb9f3a"
             ],
             [
              0.8888888888888888,
              "#fdca26"
             ],
             [
              1,
              "#f0f921"
             ]
            ],
            "type": "contour"
           }
          ],
          "contourcarpet": [
           {
            "colorbar": {
             "outlinewidth": 0,
             "ticks": ""
            },
            "type": "contourcarpet"
           }
          ],
          "heatmap": [
           {
            "colorbar": {
             "outlinewidth": 0,
             "ticks": ""
            },
            "colorscale": [
             [
              0,
              "#0d0887"
             ],
             [
              0.1111111111111111,
              "#46039f"
             ],
             [
              0.2222222222222222,
              "#7201a8"
             ],
             [
              0.3333333333333333,
              "#9c179e"
             ],
             [
              0.4444444444444444,
              "#bd3786"
             ],
             [
              0.5555555555555556,
              "#d8576b"
             ],
             [
              0.6666666666666666,
              "#ed7953"
             ],
             [
              0.7777777777777778,
              "#fb9f3a"
             ],
             [
              0.8888888888888888,
              "#fdca26"
             ],
             [
              1,
              "#f0f921"
             ]
            ],
            "type": "heatmap"
           }
          ],
          "heatmapgl": [
           {
            "colorbar": {
             "outlinewidth": 0,
             "ticks": ""
            },
            "colorscale": [
             [
              0,
              "#0d0887"
             ],
             [
              0.1111111111111111,
              "#46039f"
             ],
             [
              0.2222222222222222,
              "#7201a8"
             ],
             [
              0.3333333333333333,
              "#9c179e"
             ],
             [
              0.4444444444444444,
              "#bd3786"
             ],
             [
              0.5555555555555556,
              "#d8576b"
             ],
             [
              0.6666666666666666,
              "#ed7953"
             ],
             [
              0.7777777777777778,
              "#fb9f3a"
             ],
             [
              0.8888888888888888,
              "#fdca26"
             ],
             [
              1,
              "#f0f921"
             ]
            ],
            "type": "heatmapgl"
           }
          ],
          "histogram": [
           {
            "marker": {
             "colorbar": {
              "outlinewidth": 0,
              "ticks": ""
             }
            },
            "type": "histogram"
           }
          ],
          "histogram2d": [
           {
            "colorbar": {
             "outlinewidth": 0,
             "ticks": ""
            },
            "colorscale": [
             [
              0,
              "#0d0887"
             ],
             [
              0.1111111111111111,
              "#46039f"
             ],
             [
              0.2222222222222222,
              "#7201a8"
             ],
             [
              0.3333333333333333,
              "#9c179e"
             ],
             [
              0.4444444444444444,
              "#bd3786"
             ],
             [
              0.5555555555555556,
              "#d8576b"
             ],
             [
              0.6666666666666666,
              "#ed7953"
             ],
             [
              0.7777777777777778,
              "#fb9f3a"
             ],
             [
              0.8888888888888888,
              "#fdca26"
             ],
             [
              1,
              "#f0f921"
             ]
            ],
            "type": "histogram2d"
           }
          ],
          "histogram2dcontour": [
           {
            "colorbar": {
             "outlinewidth": 0,
             "ticks": ""
            },
            "colorscale": [
             [
              0,
              "#0d0887"
             ],
             [
              0.1111111111111111,
              "#46039f"
             ],
             [
              0.2222222222222222,
              "#7201a8"
             ],
             [
              0.3333333333333333,
              "#9c179e"
             ],
             [
              0.4444444444444444,
              "#bd3786"
             ],
             [
              0.5555555555555556,
              "#d8576b"
             ],
             [
              0.6666666666666666,
              "#ed7953"
             ],
             [
              0.7777777777777778,
              "#fb9f3a"
             ],
             [
              0.8888888888888888,
              "#fdca26"
             ],
             [
              1,
              "#f0f921"
             ]
            ],
            "type": "histogram2dcontour"
           }
          ],
          "mesh3d": [
           {
            "colorbar": {
             "outlinewidth": 0,
             "ticks": ""
            },
            "type": "mesh3d"
           }
          ],
          "parcoords": [
           {
            "line": {
             "colorbar": {
              "outlinewidth": 0,
              "ticks": ""
             }
            },
            "type": "parcoords"
           }
          ],
          "pie": [
           {
            "automargin": true,
            "type": "pie"
           }
          ],
          "scatter": [
           {
            "marker": {
             "colorbar": {
              "outlinewidth": 0,
              "ticks": ""
             }
            },
            "type": "scatter"
           }
          ],
          "scatter3d": [
           {
            "line": {
             "colorbar": {
              "outlinewidth": 0,
              "ticks": ""
             }
            },
            "marker": {
             "colorbar": {
              "outlinewidth": 0,
              "ticks": ""
             }
            },
            "type": "scatter3d"
           }
          ],
          "scattercarpet": [
           {
            "marker": {
             "colorbar": {
              "outlinewidth": 0,
              "ticks": ""
             }
            },
            "type": "scattercarpet"
           }
          ],
          "scattergeo": [
           {
            "marker": {
             "colorbar": {
              "outlinewidth": 0,
              "ticks": ""
             }
            },
            "type": "scattergeo"
           }
          ],
          "scattergl": [
           {
            "marker": {
             "colorbar": {
              "outlinewidth": 0,
              "ticks": ""
             }
            },
            "type": "scattergl"
           }
          ],
          "scattermapbox": [
           {
            "marker": {
             "colorbar": {
              "outlinewidth": 0,
              "ticks": ""
             }
            },
            "type": "scattermapbox"
           }
          ],
          "scatterpolar": [
           {
            "marker": {
             "colorbar": {
              "outlinewidth": 0,
              "ticks": ""
             }
            },
            "type": "scatterpolar"
           }
          ],
          "scatterpolargl": [
           {
            "marker": {
             "colorbar": {
              "outlinewidth": 0,
              "ticks": ""
             }
            },
            "type": "scatterpolargl"
           }
          ],
          "scatterternary": [
           {
            "marker": {
             "colorbar": {
              "outlinewidth": 0,
              "ticks": ""
             }
            },
            "type": "scatterternary"
           }
          ],
          "surface": [
           {
            "colorbar": {
             "outlinewidth": 0,
             "ticks": ""
            },
            "colorscale": [
             [
              0,
              "#0d0887"
             ],
             [
              0.1111111111111111,
              "#46039f"
             ],
             [
              0.2222222222222222,
              "#7201a8"
             ],
             [
              0.3333333333333333,
              "#9c179e"
             ],
             [
              0.4444444444444444,
              "#bd3786"
             ],
             [
              0.5555555555555556,
              "#d8576b"
             ],
             [
              0.6666666666666666,
              "#ed7953"
             ],
             [
              0.7777777777777778,
              "#fb9f3a"
             ],
             [
              0.8888888888888888,
              "#fdca26"
             ],
             [
              1,
              "#f0f921"
             ]
            ],
            "type": "surface"
           }
          ],
          "table": [
           {
            "cells": {
             "fill": {
              "color": "#EBF0F8"
             },
             "line": {
              "color": "white"
             }
            },
            "header": {
             "fill": {
              "color": "#C8D4E3"
             },
             "line": {
              "color": "white"
             }
            },
            "type": "table"
           }
          ]
         },
         "layout": {
          "annotationdefaults": {
           "arrowcolor": "#2a3f5f",
           "arrowhead": 0,
           "arrowwidth": 1
          },
          "coloraxis": {
           "colorbar": {
            "outlinewidth": 0,
            "ticks": ""
           }
          },
          "colorscale": {
           "diverging": [
            [
             0,
             "#8e0152"
            ],
            [
             0.1,
             "#c51b7d"
            ],
            [
             0.2,
             "#de77ae"
            ],
            [
             0.3,
             "#f1b6da"
            ],
            [
             0.4,
             "#fde0ef"
            ],
            [
             0.5,
             "#f7f7f7"
            ],
            [
             0.6,
             "#e6f5d0"
            ],
            [
             0.7,
             "#b8e186"
            ],
            [
             0.8,
             "#7fbc41"
            ],
            [
             0.9,
             "#4d9221"
            ],
            [
             1,
             "#276419"
            ]
           ],
           "sequential": [
            [
             0,
             "#0d0887"
            ],
            [
             0.1111111111111111,
             "#46039f"
            ],
            [
             0.2222222222222222,
             "#7201a8"
            ],
            [
             0.3333333333333333,
             "#9c179e"
            ],
            [
             0.4444444444444444,
             "#bd3786"
            ],
            [
             0.5555555555555556,
             "#d8576b"
            ],
            [
             0.6666666666666666,
             "#ed7953"
            ],
            [
             0.7777777777777778,
             "#fb9f3a"
            ],
            [
             0.8888888888888888,
             "#fdca26"
            ],
            [
             1,
             "#f0f921"
            ]
           ],
           "sequentialminus": [
            [
             0,
             "#0d0887"
            ],
            [
             0.1111111111111111,
             "#46039f"
            ],
            [
             0.2222222222222222,
             "#7201a8"
            ],
            [
             0.3333333333333333,
             "#9c179e"
            ],
            [
             0.4444444444444444,
             "#bd3786"
            ],
            [
             0.5555555555555556,
             "#d8576b"
            ],
            [
             0.6666666666666666,
             "#ed7953"
            ],
            [
             0.7777777777777778,
             "#fb9f3a"
            ],
            [
             0.8888888888888888,
             "#fdca26"
            ],
            [
             1,
             "#f0f921"
            ]
           ]
          },
          "colorway": [
           "#636efa",
           "#EF553B",
           "#00cc96",
           "#ab63fa",
           "#FFA15A",
           "#19d3f3",
           "#FF6692",
           "#B6E880",
           "#FF97FF",
           "#FECB52"
          ],
          "font": {
           "color": "#2a3f5f"
          },
          "geo": {
           "bgcolor": "white",
           "lakecolor": "white",
           "landcolor": "#E5ECF6",
           "showlakes": true,
           "showland": true,
           "subunitcolor": "white"
          },
          "hoverlabel": {
           "align": "left"
          },
          "hovermode": "closest",
          "mapbox": {
           "style": "light"
          },
          "paper_bgcolor": "white",
          "plot_bgcolor": "#E5ECF6",
          "polar": {
           "angularaxis": {
            "gridcolor": "white",
            "linecolor": "white",
            "ticks": ""
           },
           "bgcolor": "#E5ECF6",
           "radialaxis": {
            "gridcolor": "white",
            "linecolor": "white",
            "ticks": ""
           }
          },
          "scene": {
           "xaxis": {
            "backgroundcolor": "#E5ECF6",
            "gridcolor": "white",
            "gridwidth": 2,
            "linecolor": "white",
            "showbackground": true,
            "ticks": "",
            "zerolinecolor": "white"
           },
           "yaxis": {
            "backgroundcolor": "#E5ECF6",
            "gridcolor": "white",
            "gridwidth": 2,
            "linecolor": "white",
            "showbackground": true,
            "ticks": "",
            "zerolinecolor": "white"
           },
           "zaxis": {
            "backgroundcolor": "#E5ECF6",
            "gridcolor": "white",
            "gridwidth": 2,
            "linecolor": "white",
            "showbackground": true,
            "ticks": "",
            "zerolinecolor": "white"
           }
          },
          "shapedefaults": {
           "line": {
            "color": "#2a3f5f"
           }
          },
          "ternary": {
           "aaxis": {
            "gridcolor": "white",
            "linecolor": "white",
            "ticks": ""
           },
           "baxis": {
            "gridcolor": "white",
            "linecolor": "white",
            "ticks": ""
           },
           "bgcolor": "#E5ECF6",
           "caxis": {
            "gridcolor": "white",
            "linecolor": "white",
            "ticks": ""
           }
          },
          "title": {
           "x": 0.05
          },
          "xaxis": {
           "automargin": true,
           "gridcolor": "white",
           "linecolor": "white",
           "ticks": "",
           "title": {
            "standoff": 15
           },
           "zerolinecolor": "white",
           "zerolinewidth": 2
          },
          "yaxis": {
           "automargin": true,
           "gridcolor": "white",
           "linecolor": "white",
           "ticks": "",
           "title": {
            "standoff": 15
           },
           "zerolinecolor": "white",
           "zerolinewidth": 2
          }
         }
        },
        "title": {
         "font": {
          "color": "#4D5663"
         }
        },
        "xaxis": {
         "gridcolor": "#E1E5ED",
         "showgrid": true,
         "tickfont": {
          "color": "#4D5663"
         },
         "title": {
          "font": {
           "color": "#4D5663"
          },
          "text": ""
         },
         "zerolinecolor": "#E1E5ED"
        },
        "yaxis": {
         "gridcolor": "#E1E5ED",
         "showgrid": true,
         "tickfont": {
          "color": "#4D5663"
         },
         "title": {
          "font": {
           "color": "#4D5663"
          },
          "text": ""
         },
         "zerolinecolor": "#E1E5ED"
        }
       }
      },
      "text/html": [
       "<div>\n",
       "        \n",
       "        \n",
       "            <div id=\"27a23477-9bac-4dd5-ae8a-399437c2df03\" class=\"plotly-graph-div\" style=\"height:525px; width:100%;\"></div>\n",
       "            <script type=\"text/javascript\">\n",
       "                require([\"plotly\"], function(Plotly) {\n",
       "                    window.PLOTLYENV=window.PLOTLYENV || {};\n",
       "                    window.PLOTLYENV.BASE_URL='https://plotly.com';\n",
       "                    \n",
       "                if (document.getElementById(\"27a23477-9bac-4dd5-ae8a-399437c2df03\")) {\n",
       "                    Plotly.newPlot(\n",
       "                        '27a23477-9bac-4dd5-ae8a-399437c2df03',\n",
       "                        [{\"marker\": {\"color\": \"rgba(255, 153, 51, 0.6)\", \"line\": {\"color\": \"rgba(255, 153, 51, 1.0)\", \"width\": 1}}, \"name\": \"Indicator_Name\", \"orientation\": \"v\", \"text\": \"\", \"type\": \"bar\", \"x\": [\"ChildhoodDiseases-AcuteFlaccidParalysisAFP\", \"ChildhoodDiseases-Asthma\", \"ChildhoodDiseases-Diarrhoea\", \"ChildhoodDiseases-DiarrhoeatreatedinInpatients\", \"ChildhoodDiseases-Diphtheria\", \"ChildhoodDiseases-Malaria\", \"ChildhoodDiseases-Measles\", \"ChildhoodDiseases-Pertussis\", \"ChildhoodDiseases-Pneumonia\", \"ChildhoodDiseases-Sepsis\", \"ChildhoodDiseases-SevereAcuteMalnutritionSAM\", \"ChildhoodDiseases-TetanusNeonatorum\", \"ChildhoodDiseases-TuberculosisTB\", \"Childrenadmittedwithupperrespiratoryinfections\", \"InpatientFemale-Children18yrs\", \"InpatientMale-Children18yrs\", \"NumberofChildDeaths1-5yearsduetoDiarrhoea\", \"NumberofChildDeaths1-5yearsduetoFeverrelated\", \"NumberofChildDeaths1-5yearsduetoMeasles\", \"NumberofChildDeaths1-5yearsduetoOthers\", \"NumberofChildDeaths1-5yearsduetoPneumonia\"], \"y\": [1, 1, 1, 1, 1, 1, 1, 1, 1, 1, 1, 1, 1, 1, 1, 1, 1, 1, 1, 1, 1]}, {\"marker\": {\"color\": \"rgba(55, 128, 191, 0.6)\", \"line\": {\"color\": \"rgba(55, 128, 191, 1.0)\", \"width\": 1}}, \"name\": \"Reported_Value_for_Public_Facility\", \"orientation\": \"v\", \"text\": \"\", \"type\": \"bar\", \"x\": [\"ChildhoodDiseases-AcuteFlaccidParalysisAFP\", \"ChildhoodDiseases-Asthma\", \"ChildhoodDiseases-Diarrhoea\", \"ChildhoodDiseases-DiarrhoeatreatedinInpatients\", \"ChildhoodDiseases-Diphtheria\", \"ChildhoodDiseases-Malaria\", \"ChildhoodDiseases-Measles\", \"ChildhoodDiseases-Pertussis\", \"ChildhoodDiseases-Pneumonia\", \"ChildhoodDiseases-Sepsis\", \"ChildhoodDiseases-SevereAcuteMalnutritionSAM\", \"ChildhoodDiseases-TetanusNeonatorum\", \"ChildhoodDiseases-TuberculosisTB\", \"Childrenadmittedwithupperrespiratoryinfections\", \"InpatientFemale-Children18yrs\", \"InpatientMale-Children18yrs\", \"NumberofChildDeaths1-5yearsduetoDiarrhoea\", \"NumberofChildDeaths1-5yearsduetoFeverrelated\", \"NumberofChildDeaths1-5yearsduetoMeasles\", \"NumberofChildDeaths1-5yearsduetoOthers\", \"NumberofChildDeaths1-5yearsduetoPneumonia\"], \"y\": [4, 8, 39, 22, 8, 6, 7, 1, 8, 3, 5, 2, 16, 11, 135, 149, 2, 2, 1, 5, 2]}, {\"marker\": {\"color\": \"rgba(50, 171, 96, 0.6)\", \"line\": {\"color\": \"rgba(50, 171, 96, 1.0)\", \"width\": 1}}, \"name\": \"Reported_Value_for_Private_Facility\", \"orientation\": \"v\", \"text\": \"\", \"type\": \"bar\", \"x\": [\"ChildhoodDiseases-AcuteFlaccidParalysisAFP\", \"ChildhoodDiseases-Asthma\", \"ChildhoodDiseases-Diarrhoea\", \"ChildhoodDiseases-DiarrhoeatreatedinInpatients\", \"ChildhoodDiseases-Diphtheria\", \"ChildhoodDiseases-Malaria\", \"ChildhoodDiseases-Measles\", \"ChildhoodDiseases-Pertussis\", \"ChildhoodDiseases-Pneumonia\", \"ChildhoodDiseases-Sepsis\", \"ChildhoodDiseases-SevereAcuteMalnutritionSAM\", \"ChildhoodDiseases-TetanusNeonatorum\", \"ChildhoodDiseases-TuberculosisTB\", \"Childrenadmittedwithupperrespiratoryinfections\", \"InpatientFemale-Children18yrs\", \"InpatientMale-Children18yrs\", \"NumberofChildDeaths1-5yearsduetoDiarrhoea\", \"NumberofChildDeaths1-5yearsduetoFeverrelated\", \"NumberofChildDeaths1-5yearsduetoMeasles\", \"NumberofChildDeaths1-5yearsduetoOthers\", \"NumberofChildDeaths1-5yearsduetoPneumonia\"], \"y\": [1, 1, 1, 1, 1, 1, 1, 1, 1, 1, 1, 1, 1, 1, 1, 1, 1, 1, 1, 1, 1]}, {\"marker\": {\"color\": \"rgba(128, 0, 128, 0.6)\", \"line\": {\"color\": \"rgba(128, 0, 128, 1.0)\", \"width\": 1}}, \"name\": \"Reported_Value_for_Rural\", \"orientation\": \"v\", \"text\": \"\", \"type\": \"bar\", \"x\": [\"ChildhoodDiseases-AcuteFlaccidParalysisAFP\", \"ChildhoodDiseases-Asthma\", \"ChildhoodDiseases-Diarrhoea\", \"ChildhoodDiseases-DiarrhoeatreatedinInpatients\", \"ChildhoodDiseases-Diphtheria\", \"ChildhoodDiseases-Malaria\", \"ChildhoodDiseases-Measles\", \"ChildhoodDiseases-Pertussis\", \"ChildhoodDiseases-Pneumonia\", \"ChildhoodDiseases-Sepsis\", \"ChildhoodDiseases-SevereAcuteMalnutritionSAM\", \"ChildhoodDiseases-TetanusNeonatorum\", \"ChildhoodDiseases-TuberculosisTB\", \"Childrenadmittedwithupperrespiratoryinfections\", \"InpatientFemale-Children18yrs\", \"InpatientMale-Children18yrs\", \"NumberofChildDeaths1-5yearsduetoDiarrhoea\", \"NumberofChildDeaths1-5yearsduetoFeverrelated\", \"NumberofChildDeaths1-5yearsduetoMeasles\", \"NumberofChildDeaths1-5yearsduetoOthers\", \"NumberofChildDeaths1-5yearsduetoPneumonia\"], \"y\": [4, 4, 30, 17, 7, 6, 6, 1, 7, 3, 5, 2, 8, 7, 100, 111, 1, 2, 1, 4, 1]}, {\"marker\": {\"color\": \"rgba(219, 64, 82, 0.6)\", \"line\": {\"color\": \"rgba(219, 64, 82, 1.0)\", \"width\": 1}}, \"name\": \"Reported_Value_for_Urban\", \"orientation\": \"v\", \"text\": \"\", \"type\": \"bar\", \"x\": [\"ChildhoodDiseases-AcuteFlaccidParalysisAFP\", \"ChildhoodDiseases-Asthma\", \"ChildhoodDiseases-Diarrhoea\", \"ChildhoodDiseases-DiarrhoeatreatedinInpatients\", \"ChildhoodDiseases-Diphtheria\", \"ChildhoodDiseases-Malaria\", \"ChildhoodDiseases-Measles\", \"ChildhoodDiseases-Pertussis\", \"ChildhoodDiseases-Pneumonia\", \"ChildhoodDiseases-Sepsis\", \"ChildhoodDiseases-SevereAcuteMalnutritionSAM\", \"ChildhoodDiseases-TetanusNeonatorum\", \"ChildhoodDiseases-TuberculosisTB\", \"Childrenadmittedwithupperrespiratoryinfections\", \"InpatientFemale-Children18yrs\", \"InpatientMale-Children18yrs\", \"NumberofChildDeaths1-5yearsduetoDiarrhoea\", \"NumberofChildDeaths1-5yearsduetoFeverrelated\", \"NumberofChildDeaths1-5yearsduetoMeasles\", \"NumberofChildDeaths1-5yearsduetoOthers\", \"NumberofChildDeaths1-5yearsduetoPneumonia\"], \"y\": [1, 5, 19, 8, 2, 2, 2, 1, 5, 1, 3, 1, 12, 9, 73, 76, 2, 1, 1, 4, 2]}],\n",
       "                        {\"legend\": {\"bgcolor\": \"#F5F6F9\", \"font\": {\"color\": \"#4D5663\"}}, \"paper_bgcolor\": \"#F5F6F9\", \"plot_bgcolor\": \"#F5F6F9\", \"template\": {\"data\": {\"bar\": [{\"error_x\": {\"color\": \"#2a3f5f\"}, \"error_y\": {\"color\": \"#2a3f5f\"}, \"marker\": {\"line\": {\"color\": \"#E5ECF6\", \"width\": 0.5}}, \"type\": \"bar\"}], \"barpolar\": [{\"marker\": {\"line\": {\"color\": \"#E5ECF6\", \"width\": 0.5}}, \"type\": \"barpolar\"}], \"carpet\": [{\"aaxis\": {\"endlinecolor\": \"#2a3f5f\", \"gridcolor\": \"white\", \"linecolor\": \"white\", \"minorgridcolor\": \"white\", \"startlinecolor\": \"#2a3f5f\"}, \"baxis\": {\"endlinecolor\": \"#2a3f5f\", \"gridcolor\": \"white\", \"linecolor\": \"white\", \"minorgridcolor\": \"white\", \"startlinecolor\": \"#2a3f5f\"}, \"type\": \"carpet\"}], \"choropleth\": [{\"colorbar\": {\"outlinewidth\": 0, \"ticks\": \"\"}, \"type\": \"choropleth\"}], \"contour\": [{\"colorbar\": {\"outlinewidth\": 0, \"ticks\": \"\"}, \"colorscale\": [[0.0, \"#0d0887\"], [0.1111111111111111, \"#46039f\"], [0.2222222222222222, \"#7201a8\"], [0.3333333333333333, \"#9c179e\"], [0.4444444444444444, \"#bd3786\"], [0.5555555555555556, \"#d8576b\"], [0.6666666666666666, \"#ed7953\"], [0.7777777777777778, \"#fb9f3a\"], [0.8888888888888888, \"#fdca26\"], [1.0, \"#f0f921\"]], \"type\": \"contour\"}], \"contourcarpet\": [{\"colorbar\": {\"outlinewidth\": 0, \"ticks\": \"\"}, \"type\": \"contourcarpet\"}], \"heatmap\": [{\"colorbar\": {\"outlinewidth\": 0, \"ticks\": \"\"}, \"colorscale\": [[0.0, \"#0d0887\"], [0.1111111111111111, \"#46039f\"], [0.2222222222222222, \"#7201a8\"], [0.3333333333333333, \"#9c179e\"], [0.4444444444444444, \"#bd3786\"], [0.5555555555555556, \"#d8576b\"], [0.6666666666666666, \"#ed7953\"], [0.7777777777777778, \"#fb9f3a\"], [0.8888888888888888, \"#fdca26\"], [1.0, \"#f0f921\"]], \"type\": \"heatmap\"}], \"heatmapgl\": [{\"colorbar\": {\"outlinewidth\": 0, \"ticks\": \"\"}, \"colorscale\": [[0.0, \"#0d0887\"], [0.1111111111111111, \"#46039f\"], [0.2222222222222222, \"#7201a8\"], [0.3333333333333333, \"#9c179e\"], [0.4444444444444444, \"#bd3786\"], [0.5555555555555556, \"#d8576b\"], [0.6666666666666666, \"#ed7953\"], [0.7777777777777778, \"#fb9f3a\"], [0.8888888888888888, \"#fdca26\"], [1.0, \"#f0f921\"]], \"type\": \"heatmapgl\"}], \"histogram\": [{\"marker\": {\"colorbar\": {\"outlinewidth\": 0, \"ticks\": \"\"}}, \"type\": \"histogram\"}], \"histogram2d\": [{\"colorbar\": {\"outlinewidth\": 0, \"ticks\": \"\"}, \"colorscale\": [[0.0, \"#0d0887\"], [0.1111111111111111, \"#46039f\"], [0.2222222222222222, \"#7201a8\"], [0.3333333333333333, \"#9c179e\"], [0.4444444444444444, \"#bd3786\"], [0.5555555555555556, \"#d8576b\"], [0.6666666666666666, \"#ed7953\"], [0.7777777777777778, \"#fb9f3a\"], [0.8888888888888888, \"#fdca26\"], [1.0, \"#f0f921\"]], \"type\": \"histogram2d\"}], \"histogram2dcontour\": [{\"colorbar\": {\"outlinewidth\": 0, \"ticks\": \"\"}, \"colorscale\": [[0.0, \"#0d0887\"], [0.1111111111111111, \"#46039f\"], [0.2222222222222222, \"#7201a8\"], [0.3333333333333333, \"#9c179e\"], [0.4444444444444444, \"#bd3786\"], [0.5555555555555556, \"#d8576b\"], [0.6666666666666666, \"#ed7953\"], [0.7777777777777778, \"#fb9f3a\"], [0.8888888888888888, \"#fdca26\"], [1.0, \"#f0f921\"]], \"type\": \"histogram2dcontour\"}], \"mesh3d\": [{\"colorbar\": {\"outlinewidth\": 0, \"ticks\": \"\"}, \"type\": \"mesh3d\"}], \"parcoords\": [{\"line\": {\"colorbar\": {\"outlinewidth\": 0, \"ticks\": \"\"}}, \"type\": \"parcoords\"}], \"pie\": [{\"automargin\": true, \"type\": \"pie\"}], \"scatter\": [{\"marker\": {\"colorbar\": {\"outlinewidth\": 0, \"ticks\": \"\"}}, \"type\": \"scatter\"}], \"scatter3d\": [{\"line\": {\"colorbar\": {\"outlinewidth\": 0, \"ticks\": \"\"}}, \"marker\": {\"colorbar\": {\"outlinewidth\": 0, \"ticks\": \"\"}}, \"type\": \"scatter3d\"}], \"scattercarpet\": [{\"marker\": {\"colorbar\": {\"outlinewidth\": 0, \"ticks\": \"\"}}, \"type\": \"scattercarpet\"}], \"scattergeo\": [{\"marker\": {\"colorbar\": {\"outlinewidth\": 0, \"ticks\": \"\"}}, \"type\": \"scattergeo\"}], \"scattergl\": [{\"marker\": {\"colorbar\": {\"outlinewidth\": 0, \"ticks\": \"\"}}, \"type\": \"scattergl\"}], \"scattermapbox\": [{\"marker\": {\"colorbar\": {\"outlinewidth\": 0, \"ticks\": \"\"}}, \"type\": \"scattermapbox\"}], \"scatterpolar\": [{\"marker\": {\"colorbar\": {\"outlinewidth\": 0, \"ticks\": \"\"}}, \"type\": \"scatterpolar\"}], \"scatterpolargl\": [{\"marker\": {\"colorbar\": {\"outlinewidth\": 0, \"ticks\": \"\"}}, \"type\": \"scatterpolargl\"}], \"scatterternary\": [{\"marker\": {\"colorbar\": {\"outlinewidth\": 0, \"ticks\": \"\"}}, \"type\": \"scatterternary\"}], \"surface\": [{\"colorbar\": {\"outlinewidth\": 0, \"ticks\": \"\"}, \"colorscale\": [[0.0, \"#0d0887\"], [0.1111111111111111, \"#46039f\"], [0.2222222222222222, \"#7201a8\"], [0.3333333333333333, \"#9c179e\"], [0.4444444444444444, \"#bd3786\"], [0.5555555555555556, \"#d8576b\"], [0.6666666666666666, \"#ed7953\"], [0.7777777777777778, \"#fb9f3a\"], [0.8888888888888888, \"#fdca26\"], [1.0, \"#f0f921\"]], \"type\": \"surface\"}], \"table\": [{\"cells\": {\"fill\": {\"color\": \"#EBF0F8\"}, \"line\": {\"color\": \"white\"}}, \"header\": {\"fill\": {\"color\": \"#C8D4E3\"}, \"line\": {\"color\": \"white\"}}, \"type\": \"table\"}]}, \"layout\": {\"annotationdefaults\": {\"arrowcolor\": \"#2a3f5f\", \"arrowhead\": 0, \"arrowwidth\": 1}, \"coloraxis\": {\"colorbar\": {\"outlinewidth\": 0, \"ticks\": \"\"}}, \"colorscale\": {\"diverging\": [[0, \"#8e0152\"], [0.1, \"#c51b7d\"], [0.2, \"#de77ae\"], [0.3, \"#f1b6da\"], [0.4, \"#fde0ef\"], [0.5, \"#f7f7f7\"], [0.6, \"#e6f5d0\"], [0.7, \"#b8e186\"], [0.8, \"#7fbc41\"], [0.9, \"#4d9221\"], [1, \"#276419\"]], \"sequential\": [[0.0, \"#0d0887\"], [0.1111111111111111, \"#46039f\"], [0.2222222222222222, \"#7201a8\"], [0.3333333333333333, \"#9c179e\"], [0.4444444444444444, \"#bd3786\"], [0.5555555555555556, \"#d8576b\"], [0.6666666666666666, \"#ed7953\"], [0.7777777777777778, \"#fb9f3a\"], [0.8888888888888888, \"#fdca26\"], [1.0, \"#f0f921\"]], \"sequentialminus\": [[0.0, \"#0d0887\"], [0.1111111111111111, \"#46039f\"], [0.2222222222222222, \"#7201a8\"], [0.3333333333333333, \"#9c179e\"], [0.4444444444444444, \"#bd3786\"], [0.5555555555555556, \"#d8576b\"], [0.6666666666666666, \"#ed7953\"], [0.7777777777777778, \"#fb9f3a\"], [0.8888888888888888, \"#fdca26\"], [1.0, \"#f0f921\"]]}, \"colorway\": [\"#636efa\", \"#EF553B\", \"#00cc96\", \"#ab63fa\", \"#FFA15A\", \"#19d3f3\", \"#FF6692\", \"#B6E880\", \"#FF97FF\", \"#FECB52\"], \"font\": {\"color\": \"#2a3f5f\"}, \"geo\": {\"bgcolor\": \"white\", \"lakecolor\": \"white\", \"landcolor\": \"#E5ECF6\", \"showlakes\": true, \"showland\": true, \"subunitcolor\": \"white\"}, \"hoverlabel\": {\"align\": \"left\"}, \"hovermode\": \"closest\", \"mapbox\": {\"style\": \"light\"}, \"paper_bgcolor\": \"white\", \"plot_bgcolor\": \"#E5ECF6\", \"polar\": {\"angularaxis\": {\"gridcolor\": \"white\", \"linecolor\": \"white\", \"ticks\": \"\"}, \"bgcolor\": \"#E5ECF6\", \"radialaxis\": {\"gridcolor\": \"white\", \"linecolor\": \"white\", \"ticks\": \"\"}}, \"scene\": {\"xaxis\": {\"backgroundcolor\": \"#E5ECF6\", \"gridcolor\": \"white\", \"gridwidth\": 2, \"linecolor\": \"white\", \"showbackground\": true, \"ticks\": \"\", \"zerolinecolor\": \"white\"}, \"yaxis\": {\"backgroundcolor\": \"#E5ECF6\", \"gridcolor\": \"white\", \"gridwidth\": 2, \"linecolor\": \"white\", \"showbackground\": true, \"ticks\": \"\", \"zerolinecolor\": \"white\"}, \"zaxis\": {\"backgroundcolor\": \"#E5ECF6\", \"gridcolor\": \"white\", \"gridwidth\": 2, \"linecolor\": \"white\", \"showbackground\": true, \"ticks\": \"\", \"zerolinecolor\": \"white\"}}, \"shapedefaults\": {\"line\": {\"color\": \"#2a3f5f\"}}, \"ternary\": {\"aaxis\": {\"gridcolor\": \"white\", \"linecolor\": \"white\", \"ticks\": \"\"}, \"baxis\": {\"gridcolor\": \"white\", \"linecolor\": \"white\", \"ticks\": \"\"}, \"bgcolor\": \"#E5ECF6\", \"caxis\": {\"gridcolor\": \"white\", \"linecolor\": \"white\", \"ticks\": \"\"}}, \"title\": {\"x\": 0.05}, \"xaxis\": {\"automargin\": true, \"gridcolor\": \"white\", \"linecolor\": \"white\", \"ticks\": \"\", \"title\": {\"standoff\": 15}, \"zerolinecolor\": \"white\", \"zerolinewidth\": 2}, \"yaxis\": {\"automargin\": true, \"gridcolor\": \"white\", \"linecolor\": \"white\", \"ticks\": \"\", \"title\": {\"standoff\": 15}, \"zerolinecolor\": \"white\", \"zerolinewidth\": 2}}}, \"title\": {\"font\": {\"color\": \"#4D5663\"}}, \"xaxis\": {\"gridcolor\": \"#E1E5ED\", \"showgrid\": true, \"tickfont\": {\"color\": \"#4D5663\"}, \"title\": {\"font\": {\"color\": \"#4D5663\"}, \"text\": \"\"}, \"zerolinecolor\": \"#E1E5ED\"}, \"yaxis\": {\"gridcolor\": \"#E1E5ED\", \"showgrid\": true, \"tickfont\": {\"color\": \"#4D5663\"}, \"title\": {\"font\": {\"color\": \"#4D5663\"}, \"text\": \"\"}, \"zerolinecolor\": \"#E1E5ED\"}},\n",
       "                        {\"showLink\": true, \"linkText\": \"Export to plotly.com\", \"plotlyServerURL\": \"https://plotly.com\", \"responsive\": true}\n",
       "                    ).then(function(){\n",
       "                            \n",
       "var gd = document.getElementById('27a23477-9bac-4dd5-ae8a-399437c2df03');\n",
       "var x = new MutationObserver(function (mutations, observer) {{\n",
       "        var display = window.getComputedStyle(gd).display;\n",
       "        if (!display || display === 'none') {{\n",
       "            console.log([gd, 'removed!']);\n",
       "            Plotly.purge(gd);\n",
       "            observer.disconnect();\n",
       "        }}\n",
       "}});\n",
       "\n",
       "// Listen for the removal of the full notebook cells\n",
       "var notebookContainer = gd.closest('#notebook-container');\n",
       "if (notebookContainer) {{\n",
       "    x.observe(notebookContainer, {childList: true});\n",
       "}}\n",
       "\n",
       "// Listen for the clearing of the current output cell\n",
       "var outputEl = gd.closest('.output');\n",
       "if (outputEl) {{\n",
       "    x.observe(outputEl, {childList: true});\n",
       "}}\n",
       "\n",
       "                        })\n",
       "                };\n",
       "                });\n",
       "            </script>\n",
       "        </div>"
      ]
     },
     "metadata": {},
     "output_type": "display_data"
    }
   ],
   "source": [
    "df_child.iplot(kind=\"bar\",size=20)"
   ]
  },
  {
   "cell_type": "markdown",
   "metadata": {},
   "source": [
    "## Abortion cases"
   ]
  },
  {
   "cell_type": "code",
   "execution_count": 544,
   "metadata": {},
   "outputs": [
    {
     "data": {
      "application/vnd.plotly.v1+json": {
       "config": {
        "linkText": "Export to plotly.com",
        "plotlyServerURL": "https://plotly.com",
        "showLink": true
       },
       "data": [
        {
         "marker": {
          "color": "rgba(255, 153, 51, 0.6)",
          "line": {
           "color": "rgba(255, 153, 51, 1.0)",
           "width": 1
          }
         },
         "name": "Indicator_Name",
         "orientation": "v",
         "text": "",
         "type": "bar",
         "x": [
          "NumberofIntervalMini-lapotherthanpost-partumandpostabortionsterilizationsconducted",
          "NumberofLaparoscopicsterilizationsexcludingpostabortionconducted",
          "NumberofPostAbortionsterilizationswithin7daysofspontaneousorsurgicalabortionconducted",
          "NumberofPostAbortionwithin12daysofspontaneousorsurgicalabortionIUCDinsertions",
          "NumberofwomenprovidedwithpostabortionMTPcontraception"
         ],
         "y": [
          1,
          1,
          1,
          1,
          1
         ]
        },
        {
         "marker": {
          "color": "rgba(55, 128, 191, 0.6)",
          "line": {
           "color": "rgba(55, 128, 191, 1.0)",
           "width": 1
          }
         },
         "name": "Reported_Value_for_Public_Facility",
         "orientation": "v",
         "text": "",
         "type": "bar",
         "x": [
          "NumberofIntervalMini-lapotherthanpost-partumandpostabortionsterilizationsconducted",
          "NumberofLaparoscopicsterilizationsexcludingpostabortionconducted",
          "NumberofPostAbortionsterilizationswithin7daysofspontaneousorsurgicalabortionconducted",
          "NumberofPostAbortionwithin12daysofspontaneousorsurgicalabortionIUCDinsertions",
          "NumberofwomenprovidedwithpostabortionMTPcontraception"
         ],
         "y": [
          92,
          3,
          14,
          10,
          11
         ]
        },
        {
         "marker": {
          "color": "rgba(50, 171, 96, 0.6)",
          "line": {
           "color": "rgba(50, 171, 96, 1.0)",
           "width": 1
          }
         },
         "name": "Reported_Value_for_Private_Facility",
         "orientation": "v",
         "text": "",
         "type": "bar",
         "x": [
          "NumberofIntervalMini-lapotherthanpost-partumandpostabortionsterilizationsconducted",
          "NumberofLaparoscopicsterilizationsexcludingpostabortionconducted",
          "NumberofPostAbortionsterilizationswithin7daysofspontaneousorsurgicalabortionconducted",
          "NumberofPostAbortionwithin12daysofspontaneousorsurgicalabortionIUCDinsertions",
          "NumberofwomenprovidedwithpostabortionMTPcontraception"
         ],
         "y": [
          14,
          1,
          2,
          1,
          1
         ]
        },
        {
         "marker": {
          "color": "rgba(128, 0, 128, 0.6)",
          "line": {
           "color": "rgba(128, 0, 128, 1.0)",
           "width": 1
          }
         },
         "name": "Reported_Value_for_Rural",
         "orientation": "v",
         "text": "",
         "type": "bar",
         "x": [
          "NumberofIntervalMini-lapotherthanpost-partumandpostabortionsterilizationsconducted",
          "NumberofLaparoscopicsterilizationsexcludingpostabortionconducted",
          "NumberofPostAbortionsterilizationswithin7daysofspontaneousorsurgicalabortionconducted",
          "NumberofPostAbortionwithin12daysofspontaneousorsurgicalabortionIUCDinsertions",
          "NumberofwomenprovidedwithpostabortionMTPcontraception"
         ],
         "y": [
          78,
          3,
          9,
          6,
          6
         ]
        },
        {
         "marker": {
          "color": "rgba(219, 64, 82, 0.6)",
          "line": {
           "color": "rgba(219, 64, 82, 1.0)",
           "width": 1
          }
         },
         "name": "Reported_Value_for_Urban",
         "orientation": "v",
         "text": "",
         "type": "bar",
         "x": [
          "NumberofIntervalMini-lapotherthanpost-partumandpostabortionsterilizationsconducted",
          "NumberofLaparoscopicsterilizationsexcludingpostabortionconducted",
          "NumberofPostAbortionsterilizationswithin7daysofspontaneousorsurgicalabortionconducted",
          "NumberofPostAbortionwithin12daysofspontaneousorsurgicalabortionIUCDinsertions",
          "NumberofwomenprovidedwithpostabortionMTPcontraception"
         ],
         "y": [
          60,
          1,
          9,
          9,
          7
         ]
        }
       ],
       "layout": {
        "legend": {
         "bgcolor": "#F5F6F9",
         "font": {
          "color": "#4D5663"
         }
        },
        "paper_bgcolor": "#F5F6F9",
        "plot_bgcolor": "#F5F6F9",
        "template": {
         "data": {
          "bar": [
           {
            "error_x": {
             "color": "#2a3f5f"
            },
            "error_y": {
             "color": "#2a3f5f"
            },
            "marker": {
             "line": {
              "color": "#E5ECF6",
              "width": 0.5
             }
            },
            "type": "bar"
           }
          ],
          "barpolar": [
           {
            "marker": {
             "line": {
              "color": "#E5ECF6",
              "width": 0.5
             }
            },
            "type": "barpolar"
           }
          ],
          "carpet": [
           {
            "aaxis": {
             "endlinecolor": "#2a3f5f",
             "gridcolor": "white",
             "linecolor": "white",
             "minorgridcolor": "white",
             "startlinecolor": "#2a3f5f"
            },
            "baxis": {
             "endlinecolor": "#2a3f5f",
             "gridcolor": "white",
             "linecolor": "white",
             "minorgridcolor": "white",
             "startlinecolor": "#2a3f5f"
            },
            "type": "carpet"
           }
          ],
          "choropleth": [
           {
            "colorbar": {
             "outlinewidth": 0,
             "ticks": ""
            },
            "type": "choropleth"
           }
          ],
          "contour": [
           {
            "colorbar": {
             "outlinewidth": 0,
             "ticks": ""
            },
            "colorscale": [
             [
              0,
              "#0d0887"
             ],
             [
              0.1111111111111111,
              "#46039f"
             ],
             [
              0.2222222222222222,
              "#7201a8"
             ],
             [
              0.3333333333333333,
              "#9c179e"
             ],
             [
              0.4444444444444444,
              "#bd3786"
             ],
             [
              0.5555555555555556,
              "#d8576b"
             ],
             [
              0.6666666666666666,
              "#ed7953"
             ],
             [
              0.7777777777777778,
              "#fb9f3a"
             ],
             [
              0.8888888888888888,
              "#fdca26"
             ],
             [
              1,
              "#f0f921"
             ]
            ],
            "type": "contour"
           }
          ],
          "contourcarpet": [
           {
            "colorbar": {
             "outlinewidth": 0,
             "ticks": ""
            },
            "type": "contourcarpet"
           }
          ],
          "heatmap": [
           {
            "colorbar": {
             "outlinewidth": 0,
             "ticks": ""
            },
            "colorscale": [
             [
              0,
              "#0d0887"
             ],
             [
              0.1111111111111111,
              "#46039f"
             ],
             [
              0.2222222222222222,
              "#7201a8"
             ],
             [
              0.3333333333333333,
              "#9c179e"
             ],
             [
              0.4444444444444444,
              "#bd3786"
             ],
             [
              0.5555555555555556,
              "#d8576b"
             ],
             [
              0.6666666666666666,
              "#ed7953"
             ],
             [
              0.7777777777777778,
              "#fb9f3a"
             ],
             [
              0.8888888888888888,
              "#fdca26"
             ],
             [
              1,
              "#f0f921"
             ]
            ],
            "type": "heatmap"
           }
          ],
          "heatmapgl": [
           {
            "colorbar": {
             "outlinewidth": 0,
             "ticks": ""
            },
            "colorscale": [
             [
              0,
              "#0d0887"
             ],
             [
              0.1111111111111111,
              "#46039f"
             ],
             [
              0.2222222222222222,
              "#7201a8"
             ],
             [
              0.3333333333333333,
              "#9c179e"
             ],
             [
              0.4444444444444444,
              "#bd3786"
             ],
             [
              0.5555555555555556,
              "#d8576b"
             ],
             [
              0.6666666666666666,
              "#ed7953"
             ],
             [
              0.7777777777777778,
              "#fb9f3a"
             ],
             [
              0.8888888888888888,
              "#fdca26"
             ],
             [
              1,
              "#f0f921"
             ]
            ],
            "type": "heatmapgl"
           }
          ],
          "histogram": [
           {
            "marker": {
             "colorbar": {
              "outlinewidth": 0,
              "ticks": ""
             }
            },
            "type": "histogram"
           }
          ],
          "histogram2d": [
           {
            "colorbar": {
             "outlinewidth": 0,
             "ticks": ""
            },
            "colorscale": [
             [
              0,
              "#0d0887"
             ],
             [
              0.1111111111111111,
              "#46039f"
             ],
             [
              0.2222222222222222,
              "#7201a8"
             ],
             [
              0.3333333333333333,
              "#9c179e"
             ],
             [
              0.4444444444444444,
              "#bd3786"
             ],
             [
              0.5555555555555556,
              "#d8576b"
             ],
             [
              0.6666666666666666,
              "#ed7953"
             ],
             [
              0.7777777777777778,
              "#fb9f3a"
             ],
             [
              0.8888888888888888,
              "#fdca26"
             ],
             [
              1,
              "#f0f921"
             ]
            ],
            "type": "histogram2d"
           }
          ],
          "histogram2dcontour": [
           {
            "colorbar": {
             "outlinewidth": 0,
             "ticks": ""
            },
            "colorscale": [
             [
              0,
              "#0d0887"
             ],
             [
              0.1111111111111111,
              "#46039f"
             ],
             [
              0.2222222222222222,
              "#7201a8"
             ],
             [
              0.3333333333333333,
              "#9c179e"
             ],
             [
              0.4444444444444444,
              "#bd3786"
             ],
             [
              0.5555555555555556,
              "#d8576b"
             ],
             [
              0.6666666666666666,
              "#ed7953"
             ],
             [
              0.7777777777777778,
              "#fb9f3a"
             ],
             [
              0.8888888888888888,
              "#fdca26"
             ],
             [
              1,
              "#f0f921"
             ]
            ],
            "type": "histogram2dcontour"
           }
          ],
          "mesh3d": [
           {
            "colorbar": {
             "outlinewidth": 0,
             "ticks": ""
            },
            "type": "mesh3d"
           }
          ],
          "parcoords": [
           {
            "line": {
             "colorbar": {
              "outlinewidth": 0,
              "ticks": ""
             }
            },
            "type": "parcoords"
           }
          ],
          "pie": [
           {
            "automargin": true,
            "type": "pie"
           }
          ],
          "scatter": [
           {
            "marker": {
             "colorbar": {
              "outlinewidth": 0,
              "ticks": ""
             }
            },
            "type": "scatter"
           }
          ],
          "scatter3d": [
           {
            "line": {
             "colorbar": {
              "outlinewidth": 0,
              "ticks": ""
             }
            },
            "marker": {
             "colorbar": {
              "outlinewidth": 0,
              "ticks": ""
             }
            },
            "type": "scatter3d"
           }
          ],
          "scattercarpet": [
           {
            "marker": {
             "colorbar": {
              "outlinewidth": 0,
              "ticks": ""
             }
            },
            "type": "scattercarpet"
           }
          ],
          "scattergeo": [
           {
            "marker": {
             "colorbar": {
              "outlinewidth": 0,
              "ticks": ""
             }
            },
            "type": "scattergeo"
           }
          ],
          "scattergl": [
           {
            "marker": {
             "colorbar": {
              "outlinewidth": 0,
              "ticks": ""
             }
            },
            "type": "scattergl"
           }
          ],
          "scattermapbox": [
           {
            "marker": {
             "colorbar": {
              "outlinewidth": 0,
              "ticks": ""
             }
            },
            "type": "scattermapbox"
           }
          ],
          "scatterpolar": [
           {
            "marker": {
             "colorbar": {
              "outlinewidth": 0,
              "ticks": ""
             }
            },
            "type": "scatterpolar"
           }
          ],
          "scatterpolargl": [
           {
            "marker": {
             "colorbar": {
              "outlinewidth": 0,
              "ticks": ""
             }
            },
            "type": "scatterpolargl"
           }
          ],
          "scatterternary": [
           {
            "marker": {
             "colorbar": {
              "outlinewidth": 0,
              "ticks": ""
             }
            },
            "type": "scatterternary"
           }
          ],
          "surface": [
           {
            "colorbar": {
             "outlinewidth": 0,
             "ticks": ""
            },
            "colorscale": [
             [
              0,
              "#0d0887"
             ],
             [
              0.1111111111111111,
              "#46039f"
             ],
             [
              0.2222222222222222,
              "#7201a8"
             ],
             [
              0.3333333333333333,
              "#9c179e"
             ],
             [
              0.4444444444444444,
              "#bd3786"
             ],
             [
              0.5555555555555556,
              "#d8576b"
             ],
             [
              0.6666666666666666,
              "#ed7953"
             ],
             [
              0.7777777777777778,
              "#fb9f3a"
             ],
             [
              0.8888888888888888,
              "#fdca26"
             ],
             [
              1,
              "#f0f921"
             ]
            ],
            "type": "surface"
           }
          ],
          "table": [
           {
            "cells": {
             "fill": {
              "color": "#EBF0F8"
             },
             "line": {
              "color": "white"
             }
            },
            "header": {
             "fill": {
              "color": "#C8D4E3"
             },
             "line": {
              "color": "white"
             }
            },
            "type": "table"
           }
          ]
         },
         "layout": {
          "annotationdefaults": {
           "arrowcolor": "#2a3f5f",
           "arrowhead": 0,
           "arrowwidth": 1
          },
          "coloraxis": {
           "colorbar": {
            "outlinewidth": 0,
            "ticks": ""
           }
          },
          "colorscale": {
           "diverging": [
            [
             0,
             "#8e0152"
            ],
            [
             0.1,
             "#c51b7d"
            ],
            [
             0.2,
             "#de77ae"
            ],
            [
             0.3,
             "#f1b6da"
            ],
            [
             0.4,
             "#fde0ef"
            ],
            [
             0.5,
             "#f7f7f7"
            ],
            [
             0.6,
             "#e6f5d0"
            ],
            [
             0.7,
             "#b8e186"
            ],
            [
             0.8,
             "#7fbc41"
            ],
            [
             0.9,
             "#4d9221"
            ],
            [
             1,
             "#276419"
            ]
           ],
           "sequential": [
            [
             0,
             "#0d0887"
            ],
            [
             0.1111111111111111,
             "#46039f"
            ],
            [
             0.2222222222222222,
             "#7201a8"
            ],
            [
             0.3333333333333333,
             "#9c179e"
            ],
            [
             0.4444444444444444,
             "#bd3786"
            ],
            [
             0.5555555555555556,
             "#d8576b"
            ],
            [
             0.6666666666666666,
             "#ed7953"
            ],
            [
             0.7777777777777778,
             "#fb9f3a"
            ],
            [
             0.8888888888888888,
             "#fdca26"
            ],
            [
             1,
             "#f0f921"
            ]
           ],
           "sequentialminus": [
            [
             0,
             "#0d0887"
            ],
            [
             0.1111111111111111,
             "#46039f"
            ],
            [
             0.2222222222222222,
             "#7201a8"
            ],
            [
             0.3333333333333333,
             "#9c179e"
            ],
            [
             0.4444444444444444,
             "#bd3786"
            ],
            [
             0.5555555555555556,
             "#d8576b"
            ],
            [
             0.6666666666666666,
             "#ed7953"
            ],
            [
             0.7777777777777778,
             "#fb9f3a"
            ],
            [
             0.8888888888888888,
             "#fdca26"
            ],
            [
             1,
             "#f0f921"
            ]
           ]
          },
          "colorway": [
           "#636efa",
           "#EF553B",
           "#00cc96",
           "#ab63fa",
           "#FFA15A",
           "#19d3f3",
           "#FF6692",
           "#B6E880",
           "#FF97FF",
           "#FECB52"
          ],
          "font": {
           "color": "#2a3f5f"
          },
          "geo": {
           "bgcolor": "white",
           "lakecolor": "white",
           "landcolor": "#E5ECF6",
           "showlakes": true,
           "showland": true,
           "subunitcolor": "white"
          },
          "hoverlabel": {
           "align": "left"
          },
          "hovermode": "closest",
          "mapbox": {
           "style": "light"
          },
          "paper_bgcolor": "white",
          "plot_bgcolor": "#E5ECF6",
          "polar": {
           "angularaxis": {
            "gridcolor": "white",
            "linecolor": "white",
            "ticks": ""
           },
           "bgcolor": "#E5ECF6",
           "radialaxis": {
            "gridcolor": "white",
            "linecolor": "white",
            "ticks": ""
           }
          },
          "scene": {
           "xaxis": {
            "backgroundcolor": "#E5ECF6",
            "gridcolor": "white",
            "gridwidth": 2,
            "linecolor": "white",
            "showbackground": true,
            "ticks": "",
            "zerolinecolor": "white"
           },
           "yaxis": {
            "backgroundcolor": "#E5ECF6",
            "gridcolor": "white",
            "gridwidth": 2,
            "linecolor": "white",
            "showbackground": true,
            "ticks": "",
            "zerolinecolor": "white"
           },
           "zaxis": {
            "backgroundcolor": "#E5ECF6",
            "gridcolor": "white",
            "gridwidth": 2,
            "linecolor": "white",
            "showbackground": true,
            "ticks": "",
            "zerolinecolor": "white"
           }
          },
          "shapedefaults": {
           "line": {
            "color": "#2a3f5f"
           }
          },
          "ternary": {
           "aaxis": {
            "gridcolor": "white",
            "linecolor": "white",
            "ticks": ""
           },
           "baxis": {
            "gridcolor": "white",
            "linecolor": "white",
            "ticks": ""
           },
           "bgcolor": "#E5ECF6",
           "caxis": {
            "gridcolor": "white",
            "linecolor": "white",
            "ticks": ""
           }
          },
          "title": {
           "x": 0.05
          },
          "xaxis": {
           "automargin": true,
           "gridcolor": "white",
           "linecolor": "white",
           "ticks": "",
           "title": {
            "standoff": 15
           },
           "zerolinecolor": "white",
           "zerolinewidth": 2
          },
          "yaxis": {
           "automargin": true,
           "gridcolor": "white",
           "linecolor": "white",
           "ticks": "",
           "title": {
            "standoff": 15
           },
           "zerolinecolor": "white",
           "zerolinewidth": 2
          }
         }
        },
        "title": {
         "font": {
          "color": "#4D5663"
         }
        },
        "xaxis": {
         "gridcolor": "#E1E5ED",
         "showgrid": true,
         "tickfont": {
          "color": "#4D5663"
         },
         "title": {
          "font": {
           "color": "#4D5663"
          },
          "text": ""
         },
         "zerolinecolor": "#E1E5ED"
        },
        "yaxis": {
         "gridcolor": "#E1E5ED",
         "showgrid": true,
         "tickfont": {
          "color": "#4D5663"
         },
         "title": {
          "font": {
           "color": "#4D5663"
          },
          "text": ""
         },
         "zerolinecolor": "#E1E5ED"
        }
       }
      },
      "text/html": [
       "<div>\n",
       "        \n",
       "        \n",
       "            <div id=\"3a215719-e7e9-45a5-9b05-3782d03f17d3\" class=\"plotly-graph-div\" style=\"height:525px; width:100%;\"></div>\n",
       "            <script type=\"text/javascript\">\n",
       "                require([\"plotly\"], function(Plotly) {\n",
       "                    window.PLOTLYENV=window.PLOTLYENV || {};\n",
       "                    window.PLOTLYENV.BASE_URL='https://plotly.com';\n",
       "                    \n",
       "                if (document.getElementById(\"3a215719-e7e9-45a5-9b05-3782d03f17d3\")) {\n",
       "                    Plotly.newPlot(\n",
       "                        '3a215719-e7e9-45a5-9b05-3782d03f17d3',\n",
       "                        [{\"marker\": {\"color\": \"rgba(255, 153, 51, 0.6)\", \"line\": {\"color\": \"rgba(255, 153, 51, 1.0)\", \"width\": 1}}, \"name\": \"Indicator_Name\", \"orientation\": \"v\", \"text\": \"\", \"type\": \"bar\", \"x\": [\"NumberofIntervalMini-lapotherthanpost-partumandpostabortionsterilizationsconducted\", \"NumberofLaparoscopicsterilizationsexcludingpostabortionconducted\", \"NumberofPostAbortionsterilizationswithin7daysofspontaneousorsurgicalabortionconducted\", \"NumberofPostAbortionwithin12daysofspontaneousorsurgicalabortionIUCDinsertions\", \"NumberofwomenprovidedwithpostabortionMTPcontraception\"], \"y\": [1, 1, 1, 1, 1]}, {\"marker\": {\"color\": \"rgba(55, 128, 191, 0.6)\", \"line\": {\"color\": \"rgba(55, 128, 191, 1.0)\", \"width\": 1}}, \"name\": \"Reported_Value_for_Public_Facility\", \"orientation\": \"v\", \"text\": \"\", \"type\": \"bar\", \"x\": [\"NumberofIntervalMini-lapotherthanpost-partumandpostabortionsterilizationsconducted\", \"NumberofLaparoscopicsterilizationsexcludingpostabortionconducted\", \"NumberofPostAbortionsterilizationswithin7daysofspontaneousorsurgicalabortionconducted\", \"NumberofPostAbortionwithin12daysofspontaneousorsurgicalabortionIUCDinsertions\", \"NumberofwomenprovidedwithpostabortionMTPcontraception\"], \"y\": [92, 3, 14, 10, 11]}, {\"marker\": {\"color\": \"rgba(50, 171, 96, 0.6)\", \"line\": {\"color\": \"rgba(50, 171, 96, 1.0)\", \"width\": 1}}, \"name\": \"Reported_Value_for_Private_Facility\", \"orientation\": \"v\", \"text\": \"\", \"type\": \"bar\", \"x\": [\"NumberofIntervalMini-lapotherthanpost-partumandpostabortionsterilizationsconducted\", \"NumberofLaparoscopicsterilizationsexcludingpostabortionconducted\", \"NumberofPostAbortionsterilizationswithin7daysofspontaneousorsurgicalabortionconducted\", \"NumberofPostAbortionwithin12daysofspontaneousorsurgicalabortionIUCDinsertions\", \"NumberofwomenprovidedwithpostabortionMTPcontraception\"], \"y\": [14, 1, 2, 1, 1]}, {\"marker\": {\"color\": \"rgba(128, 0, 128, 0.6)\", \"line\": {\"color\": \"rgba(128, 0, 128, 1.0)\", \"width\": 1}}, \"name\": \"Reported_Value_for_Rural\", \"orientation\": \"v\", \"text\": \"\", \"type\": \"bar\", \"x\": [\"NumberofIntervalMini-lapotherthanpost-partumandpostabortionsterilizationsconducted\", \"NumberofLaparoscopicsterilizationsexcludingpostabortionconducted\", \"NumberofPostAbortionsterilizationswithin7daysofspontaneousorsurgicalabortionconducted\", \"NumberofPostAbortionwithin12daysofspontaneousorsurgicalabortionIUCDinsertions\", \"NumberofwomenprovidedwithpostabortionMTPcontraception\"], \"y\": [78, 3, 9, 6, 6]}, {\"marker\": {\"color\": \"rgba(219, 64, 82, 0.6)\", \"line\": {\"color\": \"rgba(219, 64, 82, 1.0)\", \"width\": 1}}, \"name\": \"Reported_Value_for_Urban\", \"orientation\": \"v\", \"text\": \"\", \"type\": \"bar\", \"x\": [\"NumberofIntervalMini-lapotherthanpost-partumandpostabortionsterilizationsconducted\", \"NumberofLaparoscopicsterilizationsexcludingpostabortionconducted\", \"NumberofPostAbortionsterilizationswithin7daysofspontaneousorsurgicalabortionconducted\", \"NumberofPostAbortionwithin12daysofspontaneousorsurgicalabortionIUCDinsertions\", \"NumberofwomenprovidedwithpostabortionMTPcontraception\"], \"y\": [60, 1, 9, 9, 7]}],\n",
       "                        {\"legend\": {\"bgcolor\": \"#F5F6F9\", \"font\": {\"color\": \"#4D5663\"}}, \"paper_bgcolor\": \"#F5F6F9\", \"plot_bgcolor\": \"#F5F6F9\", \"template\": {\"data\": {\"bar\": [{\"error_x\": {\"color\": \"#2a3f5f\"}, \"error_y\": {\"color\": \"#2a3f5f\"}, \"marker\": {\"line\": {\"color\": \"#E5ECF6\", \"width\": 0.5}}, \"type\": \"bar\"}], \"barpolar\": [{\"marker\": {\"line\": {\"color\": \"#E5ECF6\", \"width\": 0.5}}, \"type\": \"barpolar\"}], \"carpet\": [{\"aaxis\": {\"endlinecolor\": \"#2a3f5f\", \"gridcolor\": \"white\", \"linecolor\": \"white\", \"minorgridcolor\": \"white\", \"startlinecolor\": \"#2a3f5f\"}, \"baxis\": {\"endlinecolor\": \"#2a3f5f\", \"gridcolor\": \"white\", \"linecolor\": \"white\", \"minorgridcolor\": \"white\", \"startlinecolor\": \"#2a3f5f\"}, \"type\": \"carpet\"}], \"choropleth\": [{\"colorbar\": {\"outlinewidth\": 0, \"ticks\": \"\"}, \"type\": \"choropleth\"}], \"contour\": [{\"colorbar\": {\"outlinewidth\": 0, \"ticks\": \"\"}, \"colorscale\": [[0.0, \"#0d0887\"], [0.1111111111111111, \"#46039f\"], [0.2222222222222222, \"#7201a8\"], [0.3333333333333333, \"#9c179e\"], [0.4444444444444444, \"#bd3786\"], [0.5555555555555556, \"#d8576b\"], [0.6666666666666666, \"#ed7953\"], [0.7777777777777778, \"#fb9f3a\"], [0.8888888888888888, \"#fdca26\"], [1.0, \"#f0f921\"]], \"type\": \"contour\"}], \"contourcarpet\": [{\"colorbar\": {\"outlinewidth\": 0, \"ticks\": \"\"}, \"type\": \"contourcarpet\"}], \"heatmap\": [{\"colorbar\": {\"outlinewidth\": 0, \"ticks\": \"\"}, \"colorscale\": [[0.0, \"#0d0887\"], [0.1111111111111111, \"#46039f\"], [0.2222222222222222, \"#7201a8\"], [0.3333333333333333, \"#9c179e\"], [0.4444444444444444, \"#bd3786\"], [0.5555555555555556, \"#d8576b\"], [0.6666666666666666, \"#ed7953\"], [0.7777777777777778, \"#fb9f3a\"], [0.8888888888888888, \"#fdca26\"], [1.0, \"#f0f921\"]], \"type\": \"heatmap\"}], \"heatmapgl\": [{\"colorbar\": {\"outlinewidth\": 0, \"ticks\": \"\"}, \"colorscale\": [[0.0, \"#0d0887\"], [0.1111111111111111, \"#46039f\"], [0.2222222222222222, \"#7201a8\"], [0.3333333333333333, \"#9c179e\"], [0.4444444444444444, \"#bd3786\"], [0.5555555555555556, \"#d8576b\"], [0.6666666666666666, \"#ed7953\"], [0.7777777777777778, \"#fb9f3a\"], [0.8888888888888888, \"#fdca26\"], [1.0, \"#f0f921\"]], \"type\": \"heatmapgl\"}], \"histogram\": [{\"marker\": {\"colorbar\": {\"outlinewidth\": 0, \"ticks\": \"\"}}, \"type\": \"histogram\"}], \"histogram2d\": [{\"colorbar\": {\"outlinewidth\": 0, \"ticks\": \"\"}, \"colorscale\": [[0.0, \"#0d0887\"], [0.1111111111111111, \"#46039f\"], [0.2222222222222222, \"#7201a8\"], [0.3333333333333333, \"#9c179e\"], [0.4444444444444444, \"#bd3786\"], [0.5555555555555556, \"#d8576b\"], [0.6666666666666666, \"#ed7953\"], [0.7777777777777778, \"#fb9f3a\"], [0.8888888888888888, \"#fdca26\"], [1.0, \"#f0f921\"]], \"type\": \"histogram2d\"}], \"histogram2dcontour\": [{\"colorbar\": {\"outlinewidth\": 0, \"ticks\": \"\"}, \"colorscale\": [[0.0, \"#0d0887\"], [0.1111111111111111, \"#46039f\"], [0.2222222222222222, \"#7201a8\"], [0.3333333333333333, \"#9c179e\"], [0.4444444444444444, \"#bd3786\"], [0.5555555555555556, \"#d8576b\"], [0.6666666666666666, \"#ed7953\"], [0.7777777777777778, \"#fb9f3a\"], [0.8888888888888888, \"#fdca26\"], [1.0, \"#f0f921\"]], \"type\": \"histogram2dcontour\"}], \"mesh3d\": [{\"colorbar\": {\"outlinewidth\": 0, \"ticks\": \"\"}, \"type\": \"mesh3d\"}], \"parcoords\": [{\"line\": {\"colorbar\": {\"outlinewidth\": 0, \"ticks\": \"\"}}, \"type\": \"parcoords\"}], \"pie\": [{\"automargin\": true, \"type\": \"pie\"}], \"scatter\": [{\"marker\": {\"colorbar\": {\"outlinewidth\": 0, \"ticks\": \"\"}}, \"type\": \"scatter\"}], \"scatter3d\": [{\"line\": {\"colorbar\": {\"outlinewidth\": 0, \"ticks\": \"\"}}, \"marker\": {\"colorbar\": {\"outlinewidth\": 0, \"ticks\": \"\"}}, \"type\": \"scatter3d\"}], \"scattercarpet\": [{\"marker\": {\"colorbar\": {\"outlinewidth\": 0, \"ticks\": \"\"}}, \"type\": \"scattercarpet\"}], \"scattergeo\": [{\"marker\": {\"colorbar\": {\"outlinewidth\": 0, \"ticks\": \"\"}}, \"type\": \"scattergeo\"}], \"scattergl\": [{\"marker\": {\"colorbar\": {\"outlinewidth\": 0, \"ticks\": \"\"}}, \"type\": \"scattergl\"}], \"scattermapbox\": [{\"marker\": {\"colorbar\": {\"outlinewidth\": 0, \"ticks\": \"\"}}, \"type\": \"scattermapbox\"}], \"scatterpolar\": [{\"marker\": {\"colorbar\": {\"outlinewidth\": 0, \"ticks\": \"\"}}, \"type\": \"scatterpolar\"}], \"scatterpolargl\": [{\"marker\": {\"colorbar\": {\"outlinewidth\": 0, \"ticks\": \"\"}}, \"type\": \"scatterpolargl\"}], \"scatterternary\": [{\"marker\": {\"colorbar\": {\"outlinewidth\": 0, \"ticks\": \"\"}}, \"type\": \"scatterternary\"}], \"surface\": [{\"colorbar\": {\"outlinewidth\": 0, \"ticks\": \"\"}, \"colorscale\": [[0.0, \"#0d0887\"], [0.1111111111111111, \"#46039f\"], [0.2222222222222222, \"#7201a8\"], [0.3333333333333333, \"#9c179e\"], [0.4444444444444444, \"#bd3786\"], [0.5555555555555556, \"#d8576b\"], [0.6666666666666666, \"#ed7953\"], [0.7777777777777778, \"#fb9f3a\"], [0.8888888888888888, \"#fdca26\"], [1.0, \"#f0f921\"]], \"type\": \"surface\"}], \"table\": [{\"cells\": {\"fill\": {\"color\": \"#EBF0F8\"}, \"line\": {\"color\": \"white\"}}, \"header\": {\"fill\": {\"color\": \"#C8D4E3\"}, \"line\": {\"color\": \"white\"}}, \"type\": \"table\"}]}, \"layout\": {\"annotationdefaults\": {\"arrowcolor\": \"#2a3f5f\", \"arrowhead\": 0, \"arrowwidth\": 1}, \"coloraxis\": {\"colorbar\": {\"outlinewidth\": 0, \"ticks\": \"\"}}, \"colorscale\": {\"diverging\": [[0, \"#8e0152\"], [0.1, \"#c51b7d\"], [0.2, \"#de77ae\"], [0.3, \"#f1b6da\"], [0.4, \"#fde0ef\"], [0.5, \"#f7f7f7\"], [0.6, \"#e6f5d0\"], [0.7, \"#b8e186\"], [0.8, \"#7fbc41\"], [0.9, \"#4d9221\"], [1, \"#276419\"]], \"sequential\": [[0.0, \"#0d0887\"], [0.1111111111111111, \"#46039f\"], [0.2222222222222222, \"#7201a8\"], [0.3333333333333333, \"#9c179e\"], [0.4444444444444444, \"#bd3786\"], [0.5555555555555556, \"#d8576b\"], [0.6666666666666666, \"#ed7953\"], [0.7777777777777778, \"#fb9f3a\"], [0.8888888888888888, \"#fdca26\"], [1.0, \"#f0f921\"]], \"sequentialminus\": [[0.0, \"#0d0887\"], [0.1111111111111111, \"#46039f\"], [0.2222222222222222, \"#7201a8\"], [0.3333333333333333, \"#9c179e\"], [0.4444444444444444, \"#bd3786\"], [0.5555555555555556, \"#d8576b\"], [0.6666666666666666, \"#ed7953\"], [0.7777777777777778, \"#fb9f3a\"], [0.8888888888888888, \"#fdca26\"], [1.0, \"#f0f921\"]]}, \"colorway\": [\"#636efa\", \"#EF553B\", \"#00cc96\", \"#ab63fa\", \"#FFA15A\", \"#19d3f3\", \"#FF6692\", \"#B6E880\", \"#FF97FF\", \"#FECB52\"], \"font\": {\"color\": \"#2a3f5f\"}, \"geo\": {\"bgcolor\": \"white\", \"lakecolor\": \"white\", \"landcolor\": \"#E5ECF6\", \"showlakes\": true, \"showland\": true, \"subunitcolor\": \"white\"}, \"hoverlabel\": {\"align\": \"left\"}, \"hovermode\": \"closest\", \"mapbox\": {\"style\": \"light\"}, \"paper_bgcolor\": \"white\", \"plot_bgcolor\": \"#E5ECF6\", \"polar\": {\"angularaxis\": {\"gridcolor\": \"white\", \"linecolor\": \"white\", \"ticks\": \"\"}, \"bgcolor\": \"#E5ECF6\", \"radialaxis\": {\"gridcolor\": \"white\", \"linecolor\": \"white\", \"ticks\": \"\"}}, \"scene\": {\"xaxis\": {\"backgroundcolor\": \"#E5ECF6\", \"gridcolor\": \"white\", \"gridwidth\": 2, \"linecolor\": \"white\", \"showbackground\": true, \"ticks\": \"\", \"zerolinecolor\": \"white\"}, \"yaxis\": {\"backgroundcolor\": \"#E5ECF6\", \"gridcolor\": \"white\", \"gridwidth\": 2, \"linecolor\": \"white\", \"showbackground\": true, \"ticks\": \"\", \"zerolinecolor\": \"white\"}, \"zaxis\": {\"backgroundcolor\": \"#E5ECF6\", \"gridcolor\": \"white\", \"gridwidth\": 2, \"linecolor\": \"white\", \"showbackground\": true, \"ticks\": \"\", \"zerolinecolor\": \"white\"}}, \"shapedefaults\": {\"line\": {\"color\": \"#2a3f5f\"}}, \"ternary\": {\"aaxis\": {\"gridcolor\": \"white\", \"linecolor\": \"white\", \"ticks\": \"\"}, \"baxis\": {\"gridcolor\": \"white\", \"linecolor\": \"white\", \"ticks\": \"\"}, \"bgcolor\": \"#E5ECF6\", \"caxis\": {\"gridcolor\": \"white\", \"linecolor\": \"white\", \"ticks\": \"\"}}, \"title\": {\"x\": 0.05}, \"xaxis\": {\"automargin\": true, \"gridcolor\": \"white\", \"linecolor\": \"white\", \"ticks\": \"\", \"title\": {\"standoff\": 15}, \"zerolinecolor\": \"white\", \"zerolinewidth\": 2}, \"yaxis\": {\"automargin\": true, \"gridcolor\": \"white\", \"linecolor\": \"white\", \"ticks\": \"\", \"title\": {\"standoff\": 15}, \"zerolinecolor\": \"white\", \"zerolinewidth\": 2}}}, \"title\": {\"font\": {\"color\": \"#4D5663\"}}, \"xaxis\": {\"gridcolor\": \"#E1E5ED\", \"showgrid\": true, \"tickfont\": {\"color\": \"#4D5663\"}, \"title\": {\"font\": {\"color\": \"#4D5663\"}, \"text\": \"\"}, \"zerolinecolor\": \"#E1E5ED\"}, \"yaxis\": {\"gridcolor\": \"#E1E5ED\", \"showgrid\": true, \"tickfont\": {\"color\": \"#4D5663\"}, \"title\": {\"font\": {\"color\": \"#4D5663\"}, \"text\": \"\"}, \"zerolinecolor\": \"#E1E5ED\"}},\n",
       "                        {\"showLink\": true, \"linkText\": \"Export to plotly.com\", \"plotlyServerURL\": \"https://plotly.com\", \"responsive\": true}\n",
       "                    ).then(function(){\n",
       "                            \n",
       "var gd = document.getElementById('3a215719-e7e9-45a5-9b05-3782d03f17d3');\n",
       "var x = new MutationObserver(function (mutations, observer) {{\n",
       "        var display = window.getComputedStyle(gd).display;\n",
       "        if (!display || display === 'none') {{\n",
       "            console.log([gd, 'removed!']);\n",
       "            Plotly.purge(gd);\n",
       "            observer.disconnect();\n",
       "        }}\n",
       "}});\n",
       "\n",
       "// Listen for the removal of the full notebook cells\n",
       "var notebookContainer = gd.closest('#notebook-container');\n",
       "if (notebookContainer) {{\n",
       "    x.observe(notebookContainer, {childList: true});\n",
       "}}\n",
       "\n",
       "// Listen for the clearing of the current output cell\n",
       "var outputEl = gd.closest('.output');\n",
       "if (outputEl) {{\n",
       "    x.observe(outputEl, {childList: true});\n",
       "}}\n",
       "\n",
       "                        })\n",
       "                };\n",
       "                });\n",
       "            </script>\n",
       "        </div>"
      ]
     },
     "metadata": {},
     "output_type": "display_data"
    }
   ],
   "source": [
    "df_abort=df_abort.groupby(['Indicator_Name']).nunique()\n",
    "df_abort=df_abort.drop(['Sub-District','Indicator_Code','Code_And_Section'],axis=1)\n",
    "df_abort.iplot(kind=\"bar\")"
   ]
  },
  {
   "cell_type": "code",
   "execution_count": null,
   "metadata": {},
   "outputs": [],
   "source": []
  },
  {
   "cell_type": "code",
   "execution_count": null,
   "metadata": {},
   "outputs": [],
   "source": []
  }
 ],
 "metadata": {
  "kernelspec": {
   "display_name": "Python 3",
   "language": "python",
   "name": "python3"
  },
  "language_info": {
   "codemirror_mode": {
    "name": "ipython",
    "version": 3
   },
   "file_extension": ".py",
   "mimetype": "text/x-python",
   "name": "python",
   "nbconvert_exporter": "python",
   "pygments_lexer": "ipython3",
   "version": "3.7.4"
  }
 },
 "nbformat": 4,
 "nbformat_minor": 2
}
